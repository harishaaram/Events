{
 "cells": [
  {
   "cell_type": "markdown",
   "metadata": {},
   "source": [
    "# Exploratory book analysis"
   ]
  },
  {
   "cell_type": "markdown",
   "metadata": {},
   "source": [
    "#### An important step when working with the NLTK package is making sure that all the modules, algorithms, corpora, lists are available when running the program/s."
   ]
  },
  {
   "cell_type": "code",
   "execution_count": 1,
   "metadata": {},
   "outputs": [
    {
     "name": "stdout",
     "output_type": "stream",
     "text": [
      "[nltk_data] Downloading package words to /home/harish/nltk_data...\n",
      "[nltk_data]   Package words is already up-to-date!\n",
      "[nltk_data] Downloading package stopwords to /home/harish/nltk_data...\n",
      "[nltk_data]   Package stopwords is already up-to-date!\n"
     ]
    }
   ],
   "source": [
    "#The following commands import the modules, algorithms, corpora, lists that will be needed for exploratory book analysis\n",
    "import nltk #imports the nltk module\n",
    "nltk.download(\"words\") # downloads English words\n",
    "nltk.download(\"stopwords\") # downloads English stopwords \n",
    "from nltk.text import Text #imports the Text module that enables the exploratory search of the text\n",
    "from nltk import bigrams # imports the bigrams module\n",
    "from nltk.collocations import * # imports the collocations methods\n",
    "import string # imports string module that allows running processs on strings\n",
    "from string import punctuation # imports punctuation symbols\n",
    "try:\n",
    "    import urllib.request as urllib2\n",
    "except ImportError:\n",
    "    import urllib2 # imports module for fetching and processing internet resources\n",
    "import os #this module allows interfacing with the underlying operating system\n",
    "import re #imports regular expression module \n",
    "from collections import OrderedDict #imports collections module, an alternative to list, dict, set, tuple\n",
    "from nltk.draw import dispersion_plot\n",
    "from IPython.display import display # a module that wraps the object to be displayed\n"
   ]
  },
  {
   "cell_type": "markdown",
   "metadata": {},
   "source": [
    "#### Opening up and reading the text of a book available on the Project Gutenberg web site"
   ]
  },
  {
   "cell_type": "code",
   "execution_count": 2,
   "metadata": {},
   "outputs": [
    {
     "name": "stdout",
     "output_type": "stream",
     "text": [
      "828919\n"
     ]
    },
    {
     "data": {
      "text/plain": [
       "'\\ufeffThe Project Gutenberg EBook of The Jungle, by Upton Sinclair\\n\\nThis eBook is for the use of anyone anywhere at no cost and with\\nalmost no restrictions whatsoever.  You may copy it, give it away or\\nre-use it under the terms of the Project Gutenberg License included\\nwith this eBook or online at www.gutenberg.org\\n\\n\\nTitle: The Jungle\\n\\nAuthor: Upton Sinclair\\n\\nRelease Date: March 11, 2006 [EBook #140]\\nLast Updated: October 13, 2016\\n\\nLanguage: English\\n\\nCharacter set encoding: UTF-8\\n\\n*** START OF THIS PROJECT GUTENBERG EBOOK THE JUNGLE ***\\n\\n\\n\\n\\nProduced by David Meltzer, Christy Phillips, Scott Coulter,\\nLeroy Smith and David Widger\\n\\n\\n\\n\\n\\n\\nTHE JUNGLE\\n\\nby Upton Sinclair\\n\\n\\n(1906)\\n\\n\\n\\n\\n\\nChapter 1\\n\\n\\nIt was four o’clock when the ceremony was over and the carriages began\\nto arrive. There had been a crowd following all the way, owing to the\\nexuberance of Marija Berczynskas. The occasion rested heavily upon\\nMarija’s broad shoulders--it was her task to see that all things went in\\ndue form, and after the best home traditions; and, flying wildly\\nhither and thither, bowling every one out of the way, and scolding and\\nexhorting all day with her tremendous voice, Marija was too eager to see\\nthat others conformed to the proprieties to consider them herself. She\\nhad left the church last of all, and, desiring to arrive first at the\\nhall, had issued orders to the coachman to drive faster. When that\\npersonage had developed a will of his own in the matter, Marija had\\nflung up the window of the carriage, and, leaning out, proceeded to\\ntell him her opinion of him, first in Lithuanian, which he did not\\nunderstand, and then in Polish, which he did. Having the advantage of\\nher in altitude, the driver had stood his ground and even ventured to\\nattempt to speak; and the result had been a furious altercation, which,\\ncontinuing all the way down Ashland Avenue, had added a new swarm of\\nurchins to the cortege at each side street for half a mile.\\n\\nThis was unfortunate, for already there was a throng before the door.\\nThe music had started up, and half a block away you could hear the dull\\n“broom, broom” of a cello, with the squeaking of two fiddles which vied\\nwith each other in intricate and altitudinous gymnastics. Seeing\\nthe throng, Marija abandoned precipitately the debate concerning the\\nancestors of her coachman, and, springing from the moving carriage,\\nplunged in and proceeded to clear a way to the hall. Once within, she\\nturned and began to push the other way, roaring, meantime, “Eik! Eik!\\nUzdaryk-duris!” in tones which made the orchestral uproar sound like\\nfairy music.\\n\\n“Z. Graiczunas, Pasilinksminimams darzas. Vynas. Sznapsas. Wines and\\nLiquors. Union Headquarters”--that was the way the signs ran. The\\nreader, who perhaps has never held much converse in the language of\\nfar-off Lithuania, will be glad of the explanation that the place was\\nthe rear room of a saloon in that part of Chicago known as “back of the\\nyards.” This information is definite and suited to the matter of fact;\\nbut how pitifully inadequate it would have seemed to one who understood\\nthat it was also the supreme hour of ecstasy in the life of one of\\nGod’s gentlest creatures, the scene of the wedding feast and the\\njoy-transfiguration of little Ona Lukoszaite!\\n\\nShe stood in the doorway, shepherded by Cousin Marija, breathless from\\npushing through the crowd, and in her happiness painful to look upon.\\nThere was a light of wonder in her eyes and her lids trembled, and\\nher otherwise wan little face was flushed. She wore a muslin dress,\\nconspicuously white, and a stiff little veil coming to her shoulders.\\nThere were five pink paper roses twisted in the veil, and eleven bright\\ngreen rose leaves. There were new white cotton gloves upon her hands,\\nand as she stood staring about her she twisted them together feverishly.\\nIt was almost too much for her--you could see the pain of too great\\nemotion in her face, and all the tremor of her form. She was so\\nyoung--not quite sixteen--and small for her age, a mere child; and she\\nhad just been married--and married to Jurgis,* (*Pronounced Yoorghis) of\\nall men, to Jurgis Rudkus, he with the white flower in the buttonhole of\\nhis new black suit, he with the mighty shoulders and the giant hands.\\n\\nOna was blue-eyed and fair, while Jurgis had great black eyes with\\nbeetling brows, and thick black hair that curled in waves about his\\nears--in short, they were one of those incongruous and impossible\\nmarried couples with which Mother Nature so often wills to\\nconfound all prophets, before and after. Jurgis could take up a\\ntwo-hundred-and-fifty-pound quarter of beef and carry it into a car\\nwithout a stagger, or even a thought; and now he stood in a far corner,\\nfrightened as a hunted animal, and obliged to moisten his lips with\\nhis tongue each time before he could answer the congratulations of his\\nfriends.\\n\\nGradually there was effected a separation between the spectators and\\nthe guests--a separation at least sufficiently complete for working\\npurposes. There was no time during the festivities which ensued when\\nthere were not groups of onlookers in the doorways and the corners;\\nand if any one of these onlookers came sufficiently close, or looked\\nsufficiently hungry, a chair was offered him, and he was invited to the\\nfeast. It was one of the laws of the veselija that no one goes hungry;\\nand, while a rule made in the forests of Lithuania is hard to apply\\nin the stockyards district of Chicago, with its quarter of a million\\ninhabitants, still they did their best, and the children who ran in\\nfrom the street, and even the dogs, went out again happier. A charming\\ninformality was one of the characteristics of this celebration. The men\\nwore their hats, or, if they wished, they took them off, and their coats\\nwith them; they ate when and where they pleased, and moved as often as\\nthey pleased. There were to be speeches and singing, but no one had to\\nlisten who did not care to; if he wished, meantime, to speak or sing\\nhimself, he was perfectly free. The resulting medley of sound distracted\\nno one, save possibly alone the babies, of which there were present a\\nnumber equal to the total possessed by all the guests invited. There was\\nno other place for the babies to be, and so part of the preparations\\nfor the evening consisted of a collection of cribs and carriages in one\\ncorner. In these the babies slept, three or four together, or wakened\\ntogether, as the case might be. Those who were still older, and could\\nreach the tables, marched about munching contentedly at meat bones and\\nbologna sausages.\\n\\n\\nThe room is about thirty feet square, with whitewashed walls, bare save\\nfor a calendar, a picture of a race horse, and a family tree in a gilded\\nframe. To the right there is a door from the saloon, with a few loafers\\nin the doorway, and in the corner beyond it a bar, with a presiding\\ngenius clad in soiled white, with waxed black mustaches and a carefully\\noiled curl plastered against one side of his forehead. In the opposite\\ncorner are two tables, filling a third of the room and laden with\\ndishes and cold viands, which a few of the hungrier guests are already\\nmunching. At the head, where sits the bride, is a snow-white cake, with\\nan Eiffel tower of constructed decoration, with sugar roses and two\\nangels upon it, and a generous sprinkling of pink and green and yellow\\ncandies. Beyond opens a door into the kitchen, where there is a glimpse\\nto be had of a range with much steam ascending from it, and many women,\\nold and young, rushing hither and thither. In the corner to the left are\\nthe three musicians, upon a little platform, toiling heroically to make\\nsome impression upon the hubbub; also the babies, similarly occupied,\\nand an open window whence the populace imbibes the sights and sounds and\\nodors.\\n\\nSuddenly some of the steam begins to advance, and, peering through it,\\nyou discern Aunt Elizabeth, Ona’s stepmother--Teta Elzbieta, as they\\ncall her--bearing aloft a great platter of stewed duck. Behind her is\\nKotrina, making her way cautiously, staggering beneath a similar burden;\\nand half a minute later there appears old Grandmother Majauszkiene, with\\na big yellow bowl of smoking potatoes, nearly as big as herself. So, bit\\nby bit, the feast takes form--there is a ham and a dish of sauerkraut,\\nboiled rice, macaroni, bologna sausages, great piles of penny buns,\\nbowls of milk, and foaming pitchers of beer. There is also, not six feet\\nfrom your back, the bar, where you may order all you please and do not\\nhave to pay for it. “Eiksz! Graicziau!” screams Marija Berczynskas, and\\nfalls to work herself--for there is more upon the stove inside that will\\nbe spoiled if it be not eaten.\\n\\nSo, with laughter and shouts and endless badinage and merriment, the\\nguests take their places. The young men, who for the most part have\\nbeen huddled near the door, summon their resolution and advance; and the\\nshrinking Jurgis is poked and scolded by the old folks until he consents\\nto seat himself at the right hand of the bride. The two bridesmaids,\\nwhose insignia of office are paper wreaths, come next, and after them\\nthe rest of the guests, old and young, boys and girls. The spirit of the\\noccasion takes hold of the stately bartender, who condescends to a plate\\nof stewed duck; even the fat policeman--whose duty it will be, later in\\nthe evening, to break up the fights--draws up a chair to the foot of the\\ntable. And the children shout and the babies yell, and every one laughs\\nand sings and chatters--while above all the deafening clamor Cousin\\nMarija shouts orders to the musicians.\\n\\nThe musicians--how shall one begin to describe them? All this time they\\nhave been there, playing in a mad frenzy--all of this scene must be\\nread, or said, or sung, to music. It is the music which makes it what\\nit is; it is the music which changes the place from the rear room of\\na saloon in back of the yards to a fairy place, a wonderland, a little\\ncorner of the high mansions of the sky.\\n\\nThe little person who leads this trio is an inspired man. His fiddle\\n'"
      ]
     },
     "execution_count": 2,
     "metadata": {},
     "output_type": "execute_result"
    }
   ],
   "source": [
    "url = \"/home/harish/Downloads/DHCS-workshop-notebooks/DHCS-workshop-notebooks/140-0.txt\" #assigning a link to a variable\n",
    "data = open(url).read() #opening up the link/file\n",
    "print(len(data))\n",
    "data = data.replace(\"\\r\\n\", \" \")\n",
    "# data = unicode(data, errors=\"ignore\") #ignores encoding errors\n",
    "data[:10000]\n",
    "#Alternatives:\n",
    "# https://www.gutenberg.org/files/140/140-0.txt The Jungle by Upton Sinclair\n",
    "#https://www.gutenberg.org/files/543/543-0.txt # Main Street by Sinclair Lewis\n",
    "#https://www.gutenberg.org/files/1342/1342-0.txt Pride and Prejudice by Jane Austin"
   ]
  },
  {
   "cell_type": "markdown",
   "metadata": {},
   "source": [
    "#### Additional processing of the file, removing text metadata "
   ]
  },
  {
   "cell_type": "code",
   "execution_count": 3,
   "metadata": {
    "collapsed": true
   },
   "outputs": [],
   "source": [
    "data = re.sub('^(.*?)START OF THIS PROJECT GUTENBERG EBOOK', '', data) # remove anything from the start of the string to the first occurence of Chapter 1"
   ]
  },
  {
   "cell_type": "code",
   "execution_count": 4,
   "metadata": {},
   "outputs": [
    {
     "data": {
      "text/plain": [
       "'\\ufeffThe Project Gutenberg EBook of The Jungle, by Upton Sinclair\\n\\nThis eBook is for the use of anyone anywhere at no cost and with\\nalmost no restrictions whatsoever.  You may copy it, give it away or\\nre-use it under the terms of the Project Gutenberg License included\\nwith this eBook or online at www.gutenberg.org\\n\\n\\nTitle: The Jungle\\n\\nAuthor: Upton Sinclair\\n\\nRelease Date: March 11, 2006 [EBook #140]\\nLast Updated: October 13, 2016\\n\\nLanguage: English\\n\\nCharacter set encoding: UTF-8\\n\\n*** START OF THIS PROJECT GUTENBERG EBOOK THE JUNGLE ***\\n\\n\\n\\n\\nProduced by David Meltzer, Christy Phillips, Scott Coulter,\\nLeroy Smith and David Widger\\n\\n\\n\\n\\n\\n\\nTHE JUNGLE\\n\\nby Upton Sinclair\\n\\n\\n(1906)\\n\\n\\n\\n\\n\\nChapter 1\\n\\n\\nIt was four o’clock when the ceremony was over and the carriages began\\nto arrive. There had been a crowd following all the way, owing to the\\nexuberance of Marija Berczynskas. The occasion rested heavily upon\\nMarija’s broad shoulders--it was her task to see that all things went in\\ndue form, and after the best home traditions; and, flying wildly\\nhither and thither, bowling every one out of the way, and scolding and\\nexhorting all day with her tremendous voice, Marija was too eager to see\\nthat others conformed to the proprieties to consider them herself. She\\nhad left the church last of all, and, desiring to arrive first at the\\nhall, had issued orders to the coachman to drive faster. When that\\npersonage had developed a will of his own in the matter, Marija had\\nflung up the window of the carriage, and, leaning out, proceeded to\\ntell him her opinion of him, first in Lithuanian, which he did not\\nunderstand, and then in Polish, which he did. Having the advantage of\\nher in altitude, the driver had stood his ground and even ventured to\\nattempt to speak; and the result had been a furious altercation, which,\\ncontinuing all the way down Ashland Avenue, had added a new swarm of\\nurchins to the cortege at each side street for half a mile.\\n\\nThis was unfortunate, for already there was a throng before the door.\\nThe music had started up, and half a block away you could hear the dull\\n“broom, broom” of a cello, with the squeaking of two fiddles which vied\\nwith each other in intricate and altitudinous gymnastics. Seeing\\nthe throng, Marija abandoned precipitately the debate concerning the\\nancestors of her coachman, and, springing from the moving carriage,\\nplunged in and proceeded to clear a way to the hall. Once within, she\\nturned and began to push the other way, roaring, meantime, “Eik! Eik!\\nUzdaryk-duris!” in tones which made the orchestral uproar sound like\\nfairy music.\\n\\n“Z. Graiczunas, Pasilinksminimams darzas. Vynas. Sznapsas. Wines and\\nLiquors. Union Headquarters”--that was the way the signs ran. The\\nreader, who perhaps has never held much converse in the language of\\nfar-off Lithuania, will be glad of the explanation that the place was\\nthe rear room of a saloon in that part of Chicago known as “back of the\\nyards.” This information is definite and suited to the matter of fact;\\nbut how pitifully inadequate it would have seemed to one who understood\\nthat it was also the supreme hour of ecstasy in the life of one of\\nGod’s gentlest creatures, the scene of the wedding feast and the\\njoy-transfiguration of little Ona Lukoszaite!\\n\\nShe stood in the doorway, shepherded by Cousin Marija, breathless from\\npushing through the crowd, and in her happiness painful to look upon.\\nThere was a light of wonder in her eyes and her lids trembled, and\\nher otherwise wan little face was flushed. She wore a muslin dress,\\nconspicuously white, and a stiff little veil coming to her shoulders.\\nThere were five pink paper roses twisted in the veil, and eleven bright\\ngreen rose leaves. There were new white cotton gloves upon her hands,\\nand as she stood staring about her she twisted them together feverishly.\\nIt was almost too much for her--you could see the pain of too great\\nemotion in her face, and all the tremor of her form. She was so\\nyoung--not quite sixteen--and small for her age, a mere child; and she\\nhad just been married--and married to Jurgis,* (*Pronounced Yoorghis) of\\nall men, to Jurgis Rudkus, he with the white flower in the buttonhole of\\nhis new black suit, he with the mighty shoulders and the giant hands.\\n\\nOna was blue-eyed and fair, while Jurgis had great black eyes with\\nbeetling brows, and thick black hair that curled in waves about his\\nears--in short, they were one of those incongruous and impossible\\nmarried couples with which Mother Nature so often wills to\\nconfound all prophets, before and after. Jurgis could take up a\\ntwo-hundred-and-fifty-pound quarter of beef and carry it into a car\\nwithout a stagger, or even a thought; and now he stood in a far corner,\\nfrightened as a hunted animal, and obliged to moisten his lips with\\nhis tongue each time before he could answer the congratulations of his\\nfriends.\\n\\nGradually there was effected a separation between the spectators and\\nthe guests--a separation at least sufficiently complete for working\\npurposes. There was no time during the festivities which ensued when\\nthere were not groups of onlookers in the doorways and the corners;\\nand if any one of these onlookers came sufficiently close, or looked\\nsufficiently hungry, a chair was offered him, and he was invited to the\\nfeast. It was one of the laws of the veselija that no one goes hungry;\\nand, while a rule made in the forests of Lithuania is hard to apply\\nin the stockyards district of Chicago, with its quarter of a million\\ninhabitants, still they did their best, and the children who ran in\\nfrom the street, and even the dogs, went out again happier. A charming\\ninformality was one of the characteristics of this celebration. The men\\nwore their hats, or, if they wished, they took them off, and their coats\\nwith them; they ate when and where they pleased, and moved as often as\\nthey pleased. There were to be speeches and singing, but no one had to\\nlisten who did not care to; if he wished, meantime, to speak or sing\\nhimself, he was perfectly free. The resulting medley of sound distracted\\nno one, save possibly alone the babies, of which there were present a\\nnumber equal to the total possessed by all the guests invited. There was\\nno other place for the babies to be, and so part of the preparations\\nfor the evening consisted of a collection of cribs and carriages in one\\ncorner. In these the babies slept, three or four together, or wakened\\ntogether, as the case might be. Those who were still older, and could\\nreach the tables, marched about munching contentedly at meat bones and\\nbologna sausages.\\n\\n\\nThe room is about thirty feet square, with whitewashed walls, bare save\\nfor a calendar, a picture of a race horse, and a family tree in a gilded\\nframe. To the right there is a door from the saloon, with a few loafers\\nin the doorway, and in the corner beyond it a bar, with a presiding\\ngenius clad in soiled white, with waxed black mustaches and a carefully\\noiled curl plastered against one side of his forehead. In the opposite\\ncorner are two tables, filling a third of the room and laden with\\ndishes and cold viands, which a few of the hungrier guests are already\\nmunching. At the head, where sits the bride, is a snow-white cake, with\\nan Eiffel tower of constructed decoration, with sugar roses and two\\nangels upon it, and a generous sprinkling of pink and green and yellow\\ncandies. Beyond opens a door into the kitchen, where there is a glimpse\\nto be had of a range with much steam ascending from it, and many women,\\nold and young, rushing hither and thither. In the corner to the left are\\nthe three musicians, upon a little platform, toiling heroically to make\\nsome impression upon the hubbub; also the babies, similarly occupied,\\nand an open window whence the populace imbibes the sights and sounds and\\nodors.\\n\\nSuddenly some of the steam begins to advance, and, peering through it,\\nyou discern Aunt Elizabeth, Ona’s stepmother--Teta Elzbieta, as they\\ncall her--bearing aloft a great platter of stewed duck. Behind her is\\nKotrina, making her way cautiously, staggering beneath a similar burden;\\nand half a minute later there appears old Grandmother Majauszkiene, with\\na big yellow bowl of smoking potatoes, nearly as big as herself. So, bit\\nby bit, the feast takes form--there is a ham and a dish of sauerkraut,\\nboiled rice, macaroni, bologna sausages, great piles of penny buns,\\nbowls of milk, and foaming pitchers of beer. There is also, not six feet\\nfrom your back, the bar, where you may order all you please and do not\\nhave to pay for it. “Eiksz! Graicziau!” screams Marija Berczynskas, and\\nfalls to work herself--for there is more upon the stove inside that will\\nbe spoiled if it be not eaten.\\n\\nSo, with laughter and shouts and endless badinage and merriment, the\\nguests take their places. The young men, who for the most part have\\nbeen huddled near the door, summon their resolution and advance; and the\\nshrinking Jurgis is poked and scolded by the old folks until he consents\\nto seat himself at the right hand of the bride. The two bridesmaids,\\nwhose insignia of office are paper wreaths, come next, and after them\\nthe rest of the guests, old and young, boys and girls. The spirit of the\\noccasion takes hold of the stately bartender, who condescends to a plate\\nof stewed duck; even the fat policeman--whose duty it will be, later in\\nthe evening, to break up the fights--draws up a chair to the foot of the\\ntable. And the children shout and the babies yell, and every one laughs\\nand sings and chatters--while above all the deafening clamor Cousin\\nMarija shouts orders to the musicians.\\n\\nThe musicians--how shall one begin to describe them? All this time they\\nhave been there, playing in a mad frenzy--all of this scene must be\\nread, or said, or sung, to music. It is the music which makes it what\\nit is; it is the music which changes the place from the rear room of\\na saloon in back of the yards to a fairy place, a wonderland, a little\\ncorner of the high mansions of the sky.\\n\\nThe little person who leads this trio is an inspired man. His fiddle\\n'"
      ]
     },
     "execution_count": 4,
     "metadata": {},
     "output_type": "execute_result"
    }
   ],
   "source": [
    "data[:10000]"
   ]
  },
  {
   "cell_type": "code",
   "execution_count": 5,
   "metadata": {},
   "outputs": [
    {
     "data": {
      "text/plain": [
       "828919"
      ]
     },
     "execution_count": 5,
     "metadata": {},
     "output_type": "execute_result"
    }
   ],
   "source": [
    "len(data)\n",
    "# data [:2000]"
   ]
  },
  {
   "cell_type": "code",
   "execution_count": 6,
   "metadata": {},
   "outputs": [
    {
     "data": {
      "text/plain": [
       "828919"
      ]
     },
     "execution_count": 6,
     "metadata": {},
     "output_type": "execute_result"
    }
   ],
   "source": [
    "len(data) # how long the entire string/file is (how many characters)?"
   ]
  },
  {
   "cell_type": "code",
   "execution_count": null,
   "metadata": {
    "collapsed": true
   },
   "outputs": [],
   "source": []
  },
  {
   "cell_type": "code",
   "execution_count": 7,
   "metadata": {},
   "outputs": [
    {
     "data": {
      "text/plain": [
       "'ke up a thing like that out of his head?”\\n\\nAnd then the hotel-keeper would go on to show how the Socialists had the\\nonly real remedy for such evils, how they alone “meant business” with\\nthe Beef Trust. And when, in answer to this, the victim would say that\\nthe whole country was getting stirred up, that the newspapers were full\\nof denunciations of it, and the government taking action against it,\\nTommy Hinds had a knock-out blow all ready. “Yes,” he would say, “all\\nthat is true--but what do you suppose is the reason for it? Are you\\nfoolish enough to believe that it’s done for the public? There are\\nother trusts in the country just as illegal and extortionate as the Beef\\nTrust: there is the Coal Trust, that freezes the poor in winter--there\\nis the Steel Trust, that doubles the price of every nail in your\\nshoes--there is the Oil Trust, that keeps you from reading at night--and\\nwhy do you suppose it is that all the fury of the press and the\\ngovernment is directed against the Beef Trust?” And when to this the\\nvictim would reply that there was clamor enough over the Oil Trust, the\\nother would continue: “Ten years ago Henry D. Lloyd told all the truth\\nabout the Standard Oil Company in his Wealth versus Commonwealth; and\\nthe book was allowed to die, and you hardly ever hear of it. And now, at\\nlast, two magazines have the courage to tackle ‘Standard Oil’ again, and\\nwhat happens? The newspapers ridicule the authors, the churches defend\\nthe criminals, and the government--does nothing. And now, why is it all\\nso different with the Beef Trust?”\\n\\nHere the other would generally admit that he was “stuck”; and Tommy\\nHinds would explain to him, and it was fun to see his eyes open. “If you\\nwere a Socialist,” the hotel-keeper would say, “you would understand that\\nthe power which really governs the United States today is the Railroad\\nTrust. It is the Railroad Trust that runs your state government,\\nwherever you live, and that runs the United States Senate. And all of\\nthe trusts that I have named are railroad trusts--save only the Beef\\nTrust! The Beef Trust has defied the railroads--it is plundering them\\nday by day through the Private Car; and so the public is roused to\\nfury, and the papers clamor for action, and the government goes on the\\nwar-path! And you poor common people watch and applaud the job, and\\nthink it’s all done for you, and never dream that it is really the grand\\nclimax of the century-long battle of commercial competition--the final\\ndeath grapple between the chiefs of the Beef Trust and ‘Standard Oil,’\\nfor the prize of the mastery and ownership of the United States of\\nAmerica!”\\n\\n\\nSuch was the new home in which Jurgis lived and worked, and in which his\\neducation was completed. Perhaps you would imagine that he did not do\\nmuch work there, but that would be a great mistake. He would have cut\\noff one hand for Tommy Hinds; and to keep Hinds’s hotel a thing of\\nbeauty was his joy in life. That he had a score of Socialist arguments\\nchasing through his brain in the meantime did not interfere with\\nthis; on the contrary, Jurgis scrubbed the spittoons and polished\\nthe banisters all the more vehemently because at the same time he was\\nwrestling inwardly with an imaginary recalcitrant. It would be pleasant\\nto record that he swore off drinking immediately, and all the rest\\nof his bad habits with it; but that would hardly be exact. These\\nrevolutionists were not angels; they were men, and men who had come up\\nfrom the social pit, and with the mire of it smeared over them. Some of\\nthem drank, and some of them swore, and some of them ate pie with their\\nknives; there was only one difference between them and all the rest of\\nthe populace--that they were men with a hope, with a cause to fight\\nfor and suffer for. There came times to Jurgis when the vision seemed\\nfar-off and pale, and a glass of beer loomed large in comparison; but\\nif the glass led to another glass, and to too many glasses, he had\\nsomething to spur him to remorse and resolution on the morrow. It was\\nso evidently a wicked thing to spend one’s pennies for drink, when the\\nworking class was wandering in darkness, and waiting to be delivered;\\nthe price of a glass of beer would buy fifty copies of a leaflet, and\\none could hand these out to the unregenerate, and then get drunk upon\\nthe thought of the good that was being accomplished. That was the way\\nthe movement had been made, and it was the only way it would progress;\\nit availed nothing to know of it, without fighting for it--it was a\\nthing for all, not for a few! A corollary of this proposition of course\\nwas, that any one who refused to receive the new gospel was personally\\nresponsible for keeping Jurgis from his heart’s desire; and this, alas,\\nmade him uncomfortable as an acquaintance. He met some neighbors with\\nwhom Elzbieta had made friends in her neighborhood, and he set out to\\nmake Socialists of them by wholesale, and several times he all but got\\ninto a fight.\\n\\nIt was all so painfully obvious to Jurgis! It was so incomprehensible\\nhow a man could fail to see it! Here were all the opportunities of the\\ncountry, the land, and the buildings upon the land, the railroads, the\\nmines, the factories, and the stores, all in the hands of a few private\\nindividuals, called capitalists, for whom the people were obliged to\\nwork for wages. The whole balance of what the people produced went to\\nheap up the fortunes of these capitalists, to heap, and heap again, and\\nyet again--and that in spite of the fact that they, and every one about\\nthem, lived in unthinkable luxury! And was it not plain that if the\\npeople cut off the share of those who merely “owned,” the share of those\\nwho worked would be much greater? That was as plain as two and two makes\\nfour; and it was the whole of it, absolutely the whole of it; and yet\\nthere were people who could not see it, who would argue about everything\\nelse in the world. They would tell you that governments could not manage\\nthings as economically as private individuals; they would repeat and\\nrepeat that, and think they were saying something! They could not see\\nthat “economical” management by masters meant simply that they, the\\npeople, were worked harder and ground closer and paid less! They were\\nwage-earners and servants, at the mercy of exploiters whose one thought\\nwas to get as much out of them as possible; and they were taking\\nan interest in the process, were anxious lest it should not be done\\nthoroughly enough! Was it not honestly a trial to listen to an argument\\nsuch as that?\\n\\nAnd yet there were things even worse. You would begin talking to some\\npoor devil who had worked in one shop for the last thirty years, and\\nhad never been able to save a penny; who left home every morning at six\\no’clock, to go and tend a machine, and come back at night too tired to\\ntake his clothes off; who had never had a week’s vacation in his life,\\nhad never traveled, never had an adventure, never learned anything,\\nnever hoped anything--and when you started to tell him about\\nSocialism he would sniff and say, “I’m not interested in that--I’m an\\nindividualist!” And then he would go on to tell you that Socialism was\\n“paternalism,” and that if it ever had its way the world would stop\\nprogressing. It was enough to make a mule laugh, to hear arguments like\\nthat; and yet it was no laughing matter, as you found out--for how many\\nmillions of such poor deluded wretches there were, whose lives had been\\nso stunted by capitalism that they no longer knew what freedom was! And\\nthey really thought that it was “individualism” for tens of thousands\\nof them to herd together and obey the orders of a steel magnate, and\\nproduce hundreds of millions of dollars of wealth for him, and then let\\nhim give them libraries; while for them to take the industry, and run it\\nto suit themselves, and build their own libraries--that would have been\\n“Paternalism”!\\n\\nSometimes the agony of such things as this was almost more than Jurgis\\ncould bear; yet there was no way of escape from it, there was nothing\\nto do but to dig away at the base of this mountain of ignorance and\\nprejudice. You must keep at the poor fellow; you must hold your temper,\\nand argue with him, and watch for your chance to stick an idea or\\ntwo into his head. And the rest of the time you must sharpen up your\\nweapons--you must think out new replies to his objections, and provide\\nyourself with new facts to prove to him the folly of his ways.\\n\\nSo Jurgis acquired the reading habit. He would carry in his pocket a\\ntract or a pamphlet which some one had loaned him, and whenever he had\\nan idle moment during the day he would plod through a paragraph, and\\nthen think about it while he worked. Also he read the newspapers, and\\nasked questions about them. One of the other porters at Hinds’s was a\\nsharp little Irishman, who knew everything that Jurgis wanted to know;\\nand while they were busy he would explain to him the geography of\\nAmerica, and its history, its constitution and its laws; also he gave\\nhim an idea of the business system of the country, the great railroads\\nand corporations, and who owned them, and the labor unions, and the big\\nstrikes, and the men who had led them. Then at night, when he could get\\noff, Jurgis would attend the Socialist meetings. During the campaign one\\nwas not dependent upon the street corner affairs, where the weather\\nand the quality of the orator were equally uncertain; there were\\nhall meetings every night, and one could hear speakers of national\\nprominence. These discussed the political situation from every point of\\nview, and all that troubled Jurgis was the impossibility of carrying off\\nbut a small part of the treasures they offered him.\\n\\nThere was a man who was known in the party as the “Little Giant.” The\\nLord had used up so much material in the making of his head that there\\nhad not been enough to complete his legs; but he got about on the\\nplatform, and when he shook his raven whiskers the pillars of capitalism\\nrocked. He had written a veritable encyclopedia upon the subject, a book\\nthat was nearly as big as himself--And then there was a young\\nauthor, who came from California, and had been a salmon fisher, an\\noyster-pirate, a longshoreman, a sailor; who had tramped the country and\\nbeen sent to jail, had lived in the Whitechapel slums, and been to the\\nKlondike in search of gold. All these things he pictured in his books,\\nand because he was a man of genius he forced the world to hear him. Now\\nhe was famous, but wherever he went he still preached the gospel of\\nthe poor. And then there was one who was known at the “millionaire\\nSocialist.” He had made a fortune in business, and spent nearly all of\\nit in building up a magazine, which the post office department had tried\\nto suppress, and had driven to Canada. He was a quiet-mannered man, whom\\nyou would have taken for anything in the world but a Socialist agitator.\\nHis speech was simple and informal--he could not understand why any\\none should get excited about these things. It was a process of economic\\nevolution, he said, and he exhibited its laws and methods. Life was a\\nstruggle for existence, and the strong overcame the weak, and in turn\\nwere overcome by the strongest. Those who lost in the struggle were\\ngenerally exterminated; but now and then they had been known to save\\nthemselves by combination--which was a new and higher kind of strength.\\nIt was so that the gregarious animals had overcome the predaceous; it\\nwas so, in human history, that the people had mastered the kings. The\\nworkers were simply the citizens of industry, and the Socialist movement\\nwas the expression of their will to survive. The inevitability of the\\nrevolution depended upon this fact, that they had no choice but to unite\\nor be exterminated; this fact, grim and inexorable, depended upon no\\nhuman will, it was the law of the economic process, of which the editor\\nshowed the details with the most marvelous precision.\\n\\nAnd later on came the evening of the great meeting of the campaign, when\\nJurgis heard the two standard-bearers of his party. Ten years before\\nthere had been in Chicago a strike of a hundred and fifty thousand\\nrailroad employees, and thugs had been hired by the railroads to commit\\nviolence, and the President of the United States had sent in troops\\nto break the strike, by flinging the officers of the union into jail\\nwithout trial. The president of the union came out of his cell a ruined\\nman; but also he came out a Socialist; and now for just ten years he had\\nbeen traveling up and down the country, standing face to face with the\\npeople, and pleading with them for justice. He was a man of electric\\npresence, tall and gaunt, with a face worn thin by struggle and\\nsuffering. The fury of outraged manhood gleamed in it--and the tears of\\nsuffering little children pleaded in his voice. When he spoke he paced\\nthe stage, lithe and eager, like a panther. He leaned over, reaching out\\nfor his audience; he pointed into their souls with an insistent finger.\\nHis voice was husky from much speaking, but the great auditorium was as\\nstill as death, and every one heard him.\\n\\nAnd then, as Jurgis came out from this meeting, some one handed him\\na paper which he carried home with him and read; and so he became\\nacquainted with the “Appeal to Reason.” About twelve years previously a\\nColorado real-estate speculator had made up his mind that it was wrong\\nto gamble in the necessities of life of human beings: and so he had\\nretired and begun the publication of a Socialist weekly. There had come\\na time when he had to set his own type, but he had held on and won out,\\nand now his publication was an institution. It used a carload of paper\\nevery week, and the mail trains would be hours loading up at the depot\\nof the little Kansas town. It was a four-page weekly, which sold for\\nless than half a cent a copy; its regular subscription list was a\\nquarter of a million, and it went to every crossroads post office in\\nAmerica.\\n\\nThe “Appeal” was a “propaganda” paper. It had a manner all its own--it\\nwas full of ginger and spice, of Western slang and hustle: It collected\\nnews of the doings of the “plutes,” and served it up for the benefit\\nof the “American working-mule.” It would have columns of the deadly\\nparallel--the million dollars’ worth of diamonds, or the fancy\\npet-poodle establishment of a society dame, beside the fate of Mrs.\\nMurphy of San Francisco, who had starved to death on the streets, or of\\nJohn Robinson, just out of the hospital, who had hanged himself in New\\nYork because he could not find work. It collected the stories of graft\\nand misery from the daily press, and made a little pungent paragraphs\\nout of them. “Three banks of Bungtown, South Dakota, failed, and\\nmore savings of the workers swallowed up!” “The mayor of Sandy Creek,\\nOklahoma, has skipped with a hundred thousand dollars. That’s the kind\\nof rulers the old partyites give you!” “The president of the Florida\\nFlying Machine Company is in jail for bigamy. He was a prominent\\nopponent of Socialism, which he said would break up the home!” The\\n“Appeal” had what it called its “Army,” about thirty thousand of the\\nfaithful, who did things for it; and it was always exhorting the “Army”\\n to keep its dander up, and occasionally encouraging it with a prize\\ncompetition, for anything from a gold watch to a private yacht or an\\neighty-acre farm. Its office helpers were all known to the “Army” by\\nquaint titles--“Inky Ike,” “the Bald-headed Man,” “the Redheaded Girl,”\\n “the Bulldog,” “the Office Goat,” and “the One Hoss.”\\n\\nBut sometimes, again, the “Appeal” would be desperately serious. It sent\\na correspondent to Colorado, and printed pages describing the overthrow\\nof American institutions in that state. In a certain city of the country\\nit had over forty of its “Army” in the headquarters of the Telegraph\\nTrust, and no message of importance to Socialists ever went through that\\na copy of it did not go to the “Appeal.” It would print great broadsides\\nduring the campaign; one copy that came to Jurgis was a manifesto\\naddressed to striking workingmen, of which nearly a million copies had\\nbeen distributed in the industrial centers, wherever the employers’\\nassociations had been carrying out their “open shop” program. “You have\\nlost the strike!” it was headed. “And now what are you going to do about\\nit?” It was what is called an “incendiary” appeal--it was written by a\\nman into whose soul the iron had entered. When this edition appeared,\\ntwenty thousand copies were sent to the stockyards district; and they\\nwere taken out and stowed away in the rear of a little cigar store, and\\nevery evening, and on Sundays, the members of the Packingtown locals\\nwould get armfuls and distribute them on the streets and in the houses.\\nThe people of Packingtown had lost their strike, if ever a people had,\\nand so they read these papers gladly, and twenty thousand were hardly\\nenough to go round. Jurgis had resolved not to go near his old home\\nagain, but when he heard of this it was too much for him, and every\\nnight for a week he would get on the car and ride out to the stockyards,\\nand help to undo his work of the previous year, when he had sent Mike\\nScully’s ten-pin setter to the city Board of Aldermen.\\n\\nIt was quite marvelous to see what a difference twelve months had\\nmade in Packingtown--the eyes of the people were getting opened! The\\nSocialists were literally sweeping everything before them that election,\\nand Scully and the Cook County machine were at their wits’ end for an\\n“issue.” At the very close of the campaign they bethought themselves of\\nthe fact that the strike had been broken by Negroes, and so they sent\\nfor a South Carolina fire-eater, the “pitchfork senator,” as he was\\ncalled, a man who took off his coat when he talked to workingmen,\\nand damned and swore like a Hessian. This meeting they advertised\\nextensively, and the Socialists advertised it too--with the result\\nthat about a thousand of them were on hand that evening. The “pitchfork\\nsenator” stood their fusillade of questions for about an hour, and then\\nwent home in disgust, and the balance of the meeting was a strictly\\nparty affair. Jurgis, who had insisted upon coming, had the time of\\nhis life that night; he danced about and waved his arms in his\\nexcitement--and at the very climax he broke loose from his friends,\\nand got out into the aisle, and proceeded to make a speech himself! The\\nsenator had been denying that the Democratic party was corrupt; it\\nwas always the Republicans who bought the votes, he said--and here was\\nJurgis shouting furiously, “It’s a lie! It’s a lie!” After which he went\\non to tell them how he knew it--that he knew it because he had bought\\nthem himself! And he would have told the “pitchfork senator” all his\\nexperiences, had not Harry Adams and a friend grabbed him about the neck\\nand shoved him into a seat.\\n\\n\\nChapter 31\\n\\n\\nOne of the first things that Jurgis had done after he got a job was to\\ngo and see Marija. She came down into the basement of the house to meet\\nhim, and he stood by the door with his hat in his hand, saying, “I’ve\\ngot work now, and so you can leave here.”\\n\\nBut Marija only shook her head. There was nothing else for her to\\ndo, she said, and nobody to employ her. She could not keep her past a\\nsecret--girls had tried it, and they were always found out. There were\\nthousands of men who came to this place, and sooner or later she would\\nmeet one of them. “And besides,” Marija added, “I can’t do anything. I’m\\nno good--I take dope. What could you do with me?”\\n\\n“Can’t you stop?” Jurgis cried.\\n\\n“No,” she answered, “I’ll never stop. What’s the use of talking about\\nit--I’ll stay here till I die, I guess. It’s all I’m fit for.” And that\\nwas all that he could get her to say--there was no use trying. When\\nhe told her he would not let Elzbieta take her money, she answered\\nindifferently: “Then it’ll be wasted here--that’s all.” Her eyelids\\nlooked heavy and her face was red and swollen; he saw that he was\\nannoying her, that she only wanted him to go away. So he went,\\ndisappointed and sad.\\n\\nPoor Jurgis was not very happy in his home-life. Elzbieta was sick a\\ngood deal now, and the boys were wild and unruly, and very much the\\nworse for their life upon the streets. But he stuck by the family\\nnevertheless, for they reminded him of his old happiness; and when\\nthings went wrong he could solace himself with a plunge into the\\nSocialist movement. Since his life had been caught up into the current\\nof this great stream, things which had before been the whole of life\\nto him came to seem of relatively slight importance; his interests were\\nelsewhere, in the world of ideas. His outward life was commonplace and\\nuninteresting; he was just a hotel-porter, and expected to remain one\\nwhile he lived; but meantime, in the realm of thought, his life was a\\nperpetual adventure. There was so much to know--so many wonders to\\nbe discovered! Never in all his life did Jurgis forget the day before\\nelection, when there came a telephone message from a friend of Harry\\nAdams, asking him to bring Jurgis to see him that night; and Jurgis\\nwent, and met one of the minds of the movement.\\n\\nThe invitation was from a man named Fisher, a Chicago millionaire who\\nhad given up his life to settlement work, and had a little home in the\\nheart of the city’s slums. He did not belong to the party, but he was\\nin sympathy with it; and he said that he was to have as his guest that\\nnight the editor of a big Eastern magazine, who wrote against Socialism,\\nbut really did not know what it was. The millionaire suggested that\\nAdams bring Jurgis along, and then start up the subject of “pure food,”\\n in which the editor was interested.\\n\\nYoung Fisher’s home was a little two-story brick house, dingy and\\nweather-beaten outside, but attractive within. The room that Jurgis saw\\nwas half lined with books, and upon the walls were many pictures, dimly\\nvisible in the soft, yellow light; it was a cold, rainy night, so a\\nlog fire was crackling in the open hearth. Seven or eight people were\\ngathered about it when Adams and his friend arrived, and Jurgis saw to\\nhis dismay that three of them were ladies. He had never talked to people\\nof this sort before, and he fell into an agony of embarrassment. He\\nstood in the doorway clutching his hat tightly in his hands, and made a\\ndeep bow to each of the persons as he was introduced; then, when he was\\nasked to have a seat, he took a chair in a dark corner, and sat down\\nupon the edge of it, and wiped the perspiration off his forehead with\\nhis sleeve. He was terrified lest they should expect him to talk.\\n\\nThere was the host himself, a tall, athletic young man, clad in evening\\ndress, as also was the editor, a dyspeptic-looking gentleman named\\nMaynard. There was the former’s frail young wife, and also an elderly\\nlady, who taught kindergarten in the settlement, and a young college\\nstudent, a beautiful girl with an intense and earnest face. She only\\nspoke once or twice while Jurgis was there--the rest of the time she sat\\nby the table in the center of the room, resting her chin in her hands\\nand drinking in the conversation. There were two other men, whom young\\nFisher had introduced to Jurgis as Mr. Lucas and Mr. Schliemann; he\\nheard them address Adams as “Comrade,” and so he knew that they were\\nSocialists.\\n\\nThe one called Lucas was a mild and meek-looking little gentleman of\\nclerical aspect; he had been an itinerant evangelist, it transpired,\\nand had seen the light and become a prophet of the new dispensation.\\nHe traveled all over the country, living like the apostles of old, upon\\nhospitality, and preaching upon street-corners when there was no hall.\\nThe other man had been in the midst of a discussion with the editor when\\nAdams and Jurgis came in; and at the suggestion of the host they resumed\\nit after the interruption. Jurgis was soon sitting spellbound, thinking\\nthat here was surely the strangest man that had ever lived in the world.\\n\\nNicholas Schliemann was a Swede, a tall, gaunt person, with hairy hands\\nand bristling yellow beard; he was a university man, and had been a\\nprofessor of philosophy--until, as he said, he had found that he was\\nselling his character as well as his time. Instead he had come to\\nAmerica, where he lived in a garret room in this slum district, and made\\nvolcanic energy take the place of fire. He studied the composition of\\nfood-stuffs, and knew exactly how many proteids and carbohydrates his\\nbody needed; and by scientific chewing he said that he tripled the value\\nof all he ate, so that it cost him eleven cents a day. About the first\\nof July he would leave Chicago for his vacation, on foot; and when he\\nstruck the harvest fields he would set to work for two dollars and a\\nhalf a day, and come home when he had another year’s supply--a hundred\\nand twenty-five dollars. That was the nearest approach to independence\\na man could make “under capitalism,” he explained; he would never marry,\\nfor no sane man would allow himself to fall in love until after the\\nrevolution.\\n\\nHe sat in a big arm-chair, with his legs crossed, and his head so far in\\nthe shadow that one saw only two glowing lights, reflected from the fire\\non the hearth. He spoke simply, and utterly without emotion; with the\\nmanner of a teacher setting forth to a group of scholars an axiom in\\ngeometry, he would enunciate such propositions as made the hair of\\nan ordinary person rise on end. And when the auditor had asserted\\nhis non-comprehension, he would proceed to elucidate by some new\\nproposition, yet more appalling. To Jurgis the Herr Dr. Schliemann\\nassumed the proportions of a thunderstorm or an earthquake. And yet,\\nstrange as it might seem, there was a subtle bond between them, and he\\ncould follow the argument nearly all the time. He was carried over the\\ndifficult places in spite of himself; and he went plunging away in mad\\ncareer--a very Mazeppa-ride upon the wild horse Speculation.\\n\\nNicholas Schliemann was familiar with all the universe, and with man\\nas a small part of it. He understood human institutions, and blew them\\nabout like soap bubbles. It was surprising that so much destructiveness\\ncould be contained in one human mind. Was it government? The purpose\\nof government was the guarding of property-rights, the perpetuation\\nof ancient force and modern fraud. Or was it marriage? Marriage\\nand prostitution were two sides of one shield, the predatory man’s\\nexploitation of the sex-pleasure. The difference between them was a\\ndifference of class. If a woman had money she might dictate her own\\nterms: equality, a life contract, and the legitimacy--that is, the\\nproperty-rights--of her children. If she had no money, she was a\\nproletarian, and sold herself for an existence. And then the subject\\nbecame Religion, which was the Archfiend’s deadliest weapon. Government\\noppressed the body of the wage-slave, but Religion oppressed his mind,\\nand poisoned the stream of progress at its source. The working-man was\\nto fix his hopes upon a future life, while his pockets were picked in\\nthis one; he was brought up to frugality, humility, obedience--in short\\nto all the pseudo-virtues of capitalism. The destiny of civilization\\nwould be decided in one final death struggle between the Red\\nInternational and the Black, between Socialism and the Roman Catholic\\nChurch; while here at home, “the stygian midnight of American\\nevangelicalism--”\\n\\nAnd here the ex-preacher entered the field, and there was a lively\\ntussle. “Comrade” Lucas was not what is called an educated man; he knew\\nonly the Bible, but it was the Bible interpreted by real experience. And\\nwhat was the use, he asked, of confusing Religion with men’s perversions\\nof it? That the church was in the hands of the merchants at the moment\\nwas obvious enough; but already there were signs of rebellion, and if\\nComrade Schliemann could come back a few years from now--\\n\\n“Ah, yes,” said the other, “of course, I have no doubt that in a hundred\\nyears the Vatican will be denying that it ever opposed Socialism, just\\nas at present it denies that it ever tortured Galileo.”\\n\\n“I am not defending the Vatican,” exclaimed Lucas, vehemently. “I am\\ndefending the word of God--which is one long cry of the human spirit for\\ndeliverance from the sway of oppression. Take the twenty-fourth chapter\\nof the Book of Job, which I am accustomed to quote in my addresses as\\n‘the Bible upon the Beef Trust’; or take the words of Isaiah--or of the\\nMaster himself! Not the elegant prince of our debauched and vicious art,\\nnot the jeweled idol of our society churches--but the Jesus of the awful\\nreality, the man of sorrow and pain, the outcast, despised of the world,\\nwho had nowhere to lay his head--”\\n\\n“I will grant you Jesus,” interrupted the other.\\n\\n“Well, then,” cried Lucas, “and why should Jesus have nothing to do with\\nhis church--why should his words and his life be of no authority among\\nthose who profess to adore him? Here is a man who was the world’s first\\nrevolutionist, the true founder of the Socialist movement; a man whose\\nwhole being was one flame of hatred for wealth, and all that wealth\\nstands for,--for the pride of wealth, and the luxury of wealth, and the\\ntyranny of wealth; who was himself a beggar and a tramp, a man of the\\npeople, an associate of saloon-keepers and women of the town; who again\\nand again, in the most explicit language, denounced wealth and\\nthe holding of wealth: ‘Lay not up for yourselves treasures on\\nearth!’--‘Sell that ye have and give alms!’--‘Blessed are ye poor, for\\nyours is the kingdom of Heaven!’--‘Woe unto you that are rich, for ye\\nhave received your consolation!’--‘Verily, I say unto you, that a rich\\nman shall hardly enter into the kingdom of Heaven!’ Who denounced in\\nunmeasured terms the exploiters of his own time: ‘Woe unto you, scribes\\nand pharisees, hypocrites!’--‘Woe unto you also, you lawyers!’--‘Ye\\nserpents, ye generation of vipers, how can ye escape the damnation of\\nhell?’ Who drove out the business men and brokers from the temple with a\\nwhip! Who was crucified--think of it--for an incendiary and a disturber\\nof the social order! And this man they have made into the high priest of\\nproperty and smug respectability, a divine sanction of all the horrors\\nand abominations of modern commercial civilization! Jeweled images are\\nmade of him, sensual priests burn incense to him, and modern pirates of\\nindustry bring their dollars, wrung from the toil of helpless women\\nand children, and build temples to him, and sit in cushioned seats and\\nlisten to his teachings expounded by doctors of dusty divinity--”\\n\\n“Bravo!” cried Schliemann, laughing. But the other was in full\\ncareer--he had talked this subject every day for five years, and had\\nnever yet let himself be stopped. “This Jesus of Nazareth!” he cried.\\n“This class-conscious working-man! This union carpenter! This agitator,\\nlaw-breaker, firebrand, anarchist! He, the sovereign lord and master\\nof a world which grinds the bodies and souls of human beings into\\ndollars--if he could come into the world this day and see the things\\nthat men have made in his name, would it not blast his soul with horror?\\nWould he not go mad at the sight of it, he the Prince of Mercy and Love!\\nThat dreadful night when he lay in the Garden of Gethsemane and writhed\\nin agony until he sweat blood--do you think that he saw anything worse\\nthan he might see tonight upon the plains of Manchuria, where men march\\nout with a jeweled image of him before them, to do wholesale murder for\\nthe benefit of foul monsters of sensuality and cruelty? Do you not know\\nthat if he were in St. Petersburg now, he would take the whip with which\\nhe drove out the bankers from his temple--”\\n\\nHere the speaker paused an instant for breath. “No, comrade,” said the\\nother, dryly, “for he was a practical man. He would take pretty little\\nimitation lemons, such as are now being shipped into Russia, handy for\\ncarrying in the pockets, and strong enough to blow a whole temple out of\\nsight.”\\n\\nLucas waited until the company had stopped laughing over this; then\\nhe began again: “But look at it from the point of view of practical\\npolitics, comrade. Here is an historical figure whom all men reverence\\nand love, whom some regard as divine; and who was one of us--who lived\\nour life, and taught our doctrine. And now shall we leave him in the\\nhands of his enemies--shall we allow them to stifle and stultify his\\nexample? We have his words, which no one can deny; and shall we not\\nquote them to the people, and prove to them what he was, and what he\\ntaught, and what he did? No, no, a thousand times no!--we shall use his\\nauthority to turn out the knaves and sluggards from his ministry, and we\\nshall yet rouse the people to action!--”\\n\\nLucas halted again; and the other stretched out his hand to a paper on\\nthe table. “Here, comrade,” he said, with a laugh, “here is a place for\\nyou to begin. A bishop whose wife has just been robbed of fifty thousand\\ndollars’ worth of diamonds! And a most unctuous and oily of bishops!\\nAn eminent and scholarly bishop! A philanthropist and friend of labor\\nbishop--a Civic Federation decoy duck for the chloroforming of the\\nwage-working-man!”\\n\\nTo this little passage of arms the rest of the company sat as\\nspectators. But now Mr. Maynard, the editor, took occasion to remark,\\nsomewhat naively, that he had always understood that Socialists had a\\ncut-and-dried program for the future of civilization; whereas here were\\ntwo active members of the party, who, from what he could make out, were\\nagreed about nothing at all. Would the two, for his enlightenment, try\\nto ascertain just what they had in common, and why they belonged to the\\nsame party? This resulted, after much debating, in the formulating of\\ntwo carefully worded propositions: First, that a Socialist believes in\\nthe common ownership and democratic management of the means of producing\\nthe necessities of life; and, second, that a Socialist believes that\\nthe means by which this is to be brought about is the class conscious\\npolitical organization of the wage-earners. Thus far they were at\\none; but no farther. To Lucas, the religious zealot, the co-operative\\ncommonwealth was the New Jerusalem, the kingdom of Heaven, which is\\n“within you.” To the other, Socialism was simply a necessary step toward\\na far-distant goal, a step to be tolerated with impatience. Schliemann\\ncalled himself a “philosophic anarchist”; and he explained that an\\nanarchist was one who believed that the end of human existence was the\\nfree development of every personality, unrestricted by laws save those\\nof its own being. Since the same kind of match would light every one’s\\nfire and the same-shaped loaf of bread would fill every one’s stomach,\\nit would be perfectly feasible to submit industry to the control of a\\nmajority vote. There was only one earth, and the quantity of material\\nthings was limited. Of intellectual and moral things, on the other hand,\\nthere was no limit, and one could have more without another’s\\nhaving less; hence “Communism in material production, anarchism in\\nintellectual,” was the formula of modern proletarian thought. As soon\\nas the birth agony was over, and the wounds of society had been healed,\\nthere would be established a simple system whereby each man was credited\\nwith his labor and debited with his purchases; and after that the\\nprocesses of production, exchange, and consumption would go on\\nautomatically, and without our being conscious of them, any more than\\na man is conscious of the beating of his heart. And then, explained\\nSchliemann, society would break up into independent, self-governing\\ncommunities of mutually congenial persons; examples of which at present\\nwere clubs, churches, and political parties. After the revolution, all\\nthe intellectual, artistic, and spiritual activities of men would be\\ncared for by such “free associations”; romantic novelists would be\\nsupported by those who liked to read romantic novels, and impressionist\\npainters would be supported by those who liked to look at impressionist\\npictures--and the same with preachers and scientists, editors and actors\\nand musicians. If any one wanted to work or paint or pray, and could\\nfind no one to maintain him, he could support himself by working part of\\nthe time. That was the case at present, the only difference being that\\nthe competitive wage system compelled a man to work all the time to\\nlive, while, after the abolition of privilege and exploitation, any\\none would be able to support himself by an hour’s work a day. Also the\\nartist’s audience of the present was a small minority of people, all\\ndebased and vulgarized by the effort it had cost them to win in the\\ncommercial battle, of the intellectual and artistic activities which\\nwould result when the whole of mankind was set free from the nightmare\\nof competition, we could at present form no conception whatever.\\n\\nAnd then the editor wanted to know upon what ground Dr. Schliemann\\nasserted that it might be possible for a society to exist upon an hour’s\\ntoil by each of its members. “Just what,” answered the other, “would be\\nthe productive capacity of society if the present resources of science\\nwere utilized, we have no means of ascertaining; but we may be sure it\\nwould exceed anything that would sound reasonable to minds inured to\\nthe ferocious barbarities of capitalism. After the triumph of the\\ninternational proletariat, war would of course be inconceivable; and\\nwho can figure the cost of war to humanity--not merely the value of the\\nlives and the material that it destroys, not merely the cost of keeping\\nmillions of men in idleness, of arming and equipping them for battle\\nand parade, but the drain upon the vital energies of society by the\\nwar attitude and the war terror, the brutality and ignorance, the\\ndrunkenness, prostitution, and crime it entails, the industrial\\nimpotence and the moral deadness? Do you think that it would be too much\\nto say that two hours of the working time of every efficient member of a\\ncommunity goes to feed the red fiend of war?”\\n\\nAnd then Schliemann went on to outline some of the wastes of\\ncompetition: the losses of industrial warfare; the ceaseless worry and\\nfriction; the vices--such as drink, for instance, the use of which had\\nnearly doubled in twenty years, as a consequence of the intensification\\nof the economic struggle; the idle and unproductive members of the\\ncommunity, the frivolous rich and the pauperized poor; the law and the\\nwhole machinery of repression; the wastes of social ostentation, the\\nmilliners and tailors, the hairdressers, dancing masters, chefs and\\nlackeys. “You understand,” he said, “that in a society dominated by\\nthe fact of commercial competition, money is necessarily the test of\\nprowess, and wastefulness the sole criterion of power. So we have,\\nat the present moment, a society with, say, thirty per cent of the\\npopulation occupied in producing useless articles, and one per cent\\noccupied in destroying them. And this is not all; for the servants\\nand panders of the parasites are also parasites, the milliners and the\\njewelers and the lackeys have also to be supported by the useful members\\nof the community. And bear in mind also that this monstrous disease\\naffects not merely the idlers and their menials, its poison penetrates\\nthe whole social body. Beneath the hundred thousand women of the elite\\nare a million middle-class women, miserable because they are not of the\\nelite, and trying to appear of it in public; and beneath them, in turn,\\nare five million farmers’ wives reading ‘fashion papers’ and trimming\\nbonnets, and shop-girls and serving-maids selling themselves into\\nbrothels for cheap jewelry and imitation seal-skin robes. And then\\nconsider that, added to this competition in display, you have, like\\noil on the flames, a whole system of competition in selling! You have\\nmanufacturers contriving tens of thousands of catchpenny devices,\\nstorekeepers displaying them, and newspapers and magazines filled up\\nwith advertisements of them!”\\n\\n“And don’t forget the wastes of fraud,” put in young Fisher.\\n\\n“When one comes to the ultra-modern profession of advertising,”\\n responded Schliemann--“the science of persuading people to buy what they\\ndo not want--he is in the very center of the ghastly charnel house\\nof capitalist destructiveness, and he scarcely knows which of a dozen\\nhorrors to point out first. But consider the waste in time and energy\\nincidental to making ten thousand varieties of a thing for purposes\\nof ostentation and snobbishness, where one variety would do for use!\\nConsider all the waste incidental to the manufacture of cheap qualities\\nof goods, of goods made to sell and deceive the ignorant; consider the\\nwastes of adulteration,--the shoddy clothing, the cotton blankets, the\\nunstable tenements, the ground-cork life-preservers, the adulterated\\nmilk, the aniline soda water, the potato-flour sausages--”\\n\\n“And consider the moral aspects of the thing,” put in the ex-preacher.\\n\\n“Precisely,” said Schliemann; “the low knavery and the ferocious cruelty\\nincidental to them, the plotting and the lying and the bribing, the\\nblustering and bragging, the screaming egotism, the hurrying and\\nworrying. Of course, imitation and adulteration are the essence of\\ncompetition--they are but another form of the phrase ‘to buy in the\\ncheapest market and sell in the dearest.’ A government official has\\nstated that the nation suffers a loss of a billion and a quarter dollars\\na year through adulterated foods; which means, of course, not only\\nmaterials wasted that might have been useful outside of the human\\nstomach, but doctors and nurses for people who would otherwise have\\nbeen well, and undertakers for the whole human race ten or twenty years\\nbefore the proper time. Then again, consider the waste of time and\\nenergy required to sell these things in a dozen stores, where one would\\ndo. There are a million or two of business firms in the country,\\nand five or ten times as many clerks; and consider the handling and\\nrehandling, the accounting and reaccounting, the planning and worrying,\\nthe balancing of petty profit and loss. Consider the whole machinery\\nof the civil law made necessary by these processes; the libraries of\\nponderous tomes, the courts and juries to interpret them, the lawyers\\nstudying to circumvent them, the pettifogging and chicanery, the hatreds\\nand lies! Consider the wastes incidental to the blind and haphazard\\nproduction of commodities--the factories closed, the workers idle,\\nthe goods spoiling in storage; consider the activities of the stock\\nmanipulator, the paralyzing of whole industries, the overstimulation of\\nothers, for speculative purposes; the assignments and bank failures,\\nthe crises and panics, the deserted towns and the starving populations!\\nConsider the energies wasted in the seeking of markets, the sterile\\ntrades, such as drummer, solicitor, bill-poster, advertising agent.\\nConsider the wastes incidental to the crowding into cities, made\\nnecessary by competition and by monopoly railroad rates; consider\\nthe slums, the bad air, the disease and the waste of vital energies;\\nconsider the office buildings, the waste of time and material in the\\npiling of story upon story, and the burrowing underground! Then take\\nthe whole business of insurance, the enormous mass of administrative and\\nclerical labor it involves, and all utter waste--”\\n\\n“I do not follow that,” said the editor. “The Cooperative Commonwealth\\nis a universal automatic insurance company and savings bank for all its\\nmembers. Capital being the property of all, injury to it is shared\\nby all and made up by all. The bank is the universal government\\ncredit-account, the ledger in which every individual’s earnings and\\nspendings are balanced. There is also a universal government bulletin,\\nin which are listed and precisely described everything which the\\ncommonwealth has for sale. As no one makes any profit by the sale, there\\nis no longer any stimulus to extravagance, and no misrepresentation; no\\ncheating, no adulteration or imitation, no bribery or ‘grafting.’”\\n\\n“How is the price of an article determined?”\\n\\n“The price is the labor it has cost to make and deliver it, and it is\\ndetermined by the first principles of arithmetic. The million workers in\\nthe nation’s wheat fields have worked a hundred days each, and the total\\nproduct of the labor is a billion bushels, so the value of a bushel of\\nwheat is the tenth part of a farm labor-day. If we employ an arbitrary\\nsymbol, and pay, say, five dollars a day for farm work, then the cost of\\na bushel of wheat is fifty cents.”\\n\\n“You say ‘for farm work,’” said Mr. Maynard. “Then labor is not to be\\npaid alike?”\\n\\n“Manifestly not, since some work is easy and some hard, and we should\\nhave millions of rural mail carriers, and no coal miners. Of course the\\nwages may be left the same, and the hours varied; one or the other will\\nhave to be varied continually, according as a greater or less number of\\nworkers is needed in any particular industry. That is precisely what is\\ndone at present, except that the transfer of the workers is accomplished\\nblindly and imperfectly, by rumors and advertisements, instead of\\ninstantly and completely, by a universal government bulletin.”\\n\\n“How about those occupations in which time is difficult to calculate?\\nWhat is the labor cost of a book?”\\n\\n“Obviously it is the labor cost of the paper, printing, and binding of\\nit--about a fifth of its present cost.”\\n\\n“And the author?”\\n\\n“I have already said that the state could not control intellectual\\nproduction. The state might say that it had taken a year to write the\\nbook, and the author might say it had taken thirty. Goethe said that\\nevery bon mot of his had cost a purse of gold. What I outline here is\\na national, or rather international, system for the providing of the\\nmaterial needs of men. Since a man has intellectual needs also, he will\\nwork longer, earn more, and provide for them to his own taste and in his\\nown way. I live on the same earth as the majority, I wear the same kind\\nof shoes and sleep in the same kind of bed; but I do not think the same\\nkind of thoughts, and I do not wish to pay for such thinkers as the\\nmajority selects. I wish such things to be left to free effort, as\\nat present. If people want to listen to a certain preacher, they get\\ntogether and contribute what they please, and pay for a church and\\nsupport the preacher, and then listen to him; I, who do not want to\\nlisten to him, stay away, and it costs me nothing. In the same way there\\nare magazines about Egyptian coins, and Catholic saints, and flying\\nmachines, and athletic records, and I know nothing about any of them.\\nOn the other hand, if wage slavery were abolished, and I could earn some\\nspare money without paying tribute to an exploiting capitalist,\\nthen there would be a magazine for the purpose of interpreting\\nand popularizing the gospel of Friedrich Nietzsche, the prophet of\\nEvolution, and also of Horace Fletcher, the inventor of the noble\\nscience of clean eating; and incidentally, perhaps, for the discouraging\\nof long skirts, and the scientific breeding of men and women, and the\\nestablishing of divorce by mutual consent.”\\n\\nDr. Schliemann paused for a moment. “That was a lecture,” he said with a\\nlaugh, “and yet I am only begun!”\\n\\n“What else is there?” asked Maynard.\\n\\n“I have pointed out some of the negative wastes of competition,”\\n answered the other. “I have hardly mentioned the positive economies\\nof co-operation. Allowing five to a family, there are fifteen million\\nfamilies in this country; and at least ten million of these live\\nseparately, the domestic drudge being either the wife or a wage slave.\\nNow set aside the modern system of pneumatic house-cleaning, and the\\neconomies of co-operative cooking; and consider one single item, the\\nwashing of dishes. Surely it is moderate to say that the dish-washing\\nfor a family of five takes half an hour a day; with ten hours as a day’s\\nwork, it takes, therefore, half a million able-bodied persons--mostly\\nwomen to do the dish-washing of the country. And note that this is most\\nfilthy and deadening and brutalizing work; that it is a cause of anemia,\\nnervousness, ugliness, and ill-temper; of prostitution, suicide, and\\ninsanity; of drunken husbands and degenerate children--for all of which\\nthings the community has naturally to pay. And now consider that in each\\nof my little free communities there would be a machine which would wash\\nand dry the dishes, and do it, not merely to the eye and the touch,\\nbut scientifically--sterilizing them--and do it at a saving of all the\\ndrudgery and nine-tenths of the time! All of these things you may\\nfind in the books of Mrs. Gilman; and then take Kropotkin’s Fields,\\nFactories, and Workshops, and read about the new science of agriculture,\\nwhich has been built up in the last ten years; by which, with made soils\\nand intensive culture, a gardener can raise ten or twelve crops in a\\nseason, and two hundred tons of vegetables upon a single acre; by which\\nthe population of the whole globe could be supported on the soil now\\ncultivated in the United States alone! It is impossible to apply such\\nmethods now, owing to the ignorance and poverty of our scattered farming\\npopulation; but imagine the problem of providing the food supply of our\\nnation once taken in hand systematically and rationally, by scientists!\\nAll the poor and rocky land set apart for a national timber reserve, in\\nwhich our children play, and our young men hunt, and our poets dwell!\\nThe most favorable climate and soil for each product selected; the\\nexact requirements of the community known, and the acreage figured\\naccordingly; the most improved machinery employed, under the direction\\nof expert agricultural chemists! I was brought up on a farm, and I know\\nthe awful deadliness of farm work; and I like to picture it all as\\nit will be after the revolution. To picture the great potato-planting\\nmachine, drawn by four horses, or an electric motor, ploughing the\\nfurrow, cutting and dropping and covering the potatoes, and planting a\\nscore of acres a day! To picture the great potato-digging machine,\\nrun by electricity, perhaps, and moving across a thousand-acre field,\\nscooping up earth and potatoes, and dropping the latter into sacks! To\\nevery other kind of vegetable and fruit handled in the same way--apples\\nand oranges picked by machinery, cows milked by electricity--things\\nwhich are already done, as you may know. To picture the harvest fields\\nof the future, to which millions of happy men and women come for a\\nsummer holiday, brought by special trains, the exactly needful number to\\neach place! And to contrast all this with our present agonizing system\\nof independent small farming,--a stunted, haggard, ignorant man, mated\\nwith a yellow, lean, and sad-eyed drudge, and toiling from four o’clock\\nin the morning until nine at night, working the children as soon as they\\nare able to walk, scratching the soil with its primitive tools, and shut\\nout from all knowledge and hope, from all their benefits of science and\\ninvention, and all the joys of the spirit--held to a bare existence\\nby competition in labor, and boasting of his freedom because he is too\\nblind to see his chains!”\\n\\nDr. Schliemann paused a moment. “And then,” he continued, “place\\nbeside this fact of an unlimited food supply, the newest discovery of\\nphysiologists, that most of the ills of the human system are due to\\noverfeeding! And then again, it has been proven that meat is unnecessary\\nas a food; and meat is obviously more difficult to produce than\\nvegetable food, less pleasant to prepare and handle, and more likely\\nto be unclean. But what of that, so long as it tickles the palate more\\nstrongly?”\\n\\n“How would Socialism change that?” asked the girl-student, quickly. It\\nwas the first time she had spoken.\\n\\n“So long as we have wage slavery,” answered Schliemann, “it matters not\\nin the least how debasing and repulsive a task may be, it is easy to\\nfind people to perform it. But just as soon as labor is set free, then\\nthe price of such work will begin to rise. So one by one the old, dingy,\\nand unsanitary factories will come down--it will be cheaper to build\\nnew; and so the steamships will be provided with stoking machinery, and\\nso the dangerous trades will be made safe, or substitutes will be found\\nfor their products. In exactly the same way, as the citizens of\\nour Industrial Republic become refined, year by year the cost of\\nslaughterhouse products will increase; until eventually those who want\\nto eat meat will have to do their own killing--and how long do you think\\nthe custom would survive then?--To go on to another item--one of the\\nnecessary accompaniments of capitalism in a democracy is political\\ncorruption; and one of the consequences of civic administration by\\nignorant and vicious politicians, is that preventable diseases kill off\\nhalf our population. And even if science were allowed to try, it could\\ndo little, because the majority of human beings are not yet human beings\\nat all, but simply machines for the creating of wealth for others. They\\nare penned up in filthy houses and left to rot and stew in misery, and\\nthe conditions of their life make them ill faster than all the doctors\\nin the world could heal them; and so, of course, they remain as centers\\nof contagion, poisoning the lives of all of us, and making happiness\\nimpossible for even the most selfish. For this reason I would seriously\\nmaintain that all the medical and surgical discoveries that science can\\nmake in the future will be of less importance than the application of\\nthe knowledge we already possess, when the disinherited of the earth\\nhave established their right to a human existence.”\\n\\nAnd here the Herr Doctor relapsed into silence again. Jurgis had noticed\\nthat the beautiful young girl who sat by the center-table was listening\\nwith something of the same look that he himself had worn, the time when\\nhe had first discovered Socialism. Jurgis would have liked to talk to\\nher, he felt sure that she would have understood him. Later on in the\\nevening, when the group broke up, he heard Mrs. Fisher say to her, in\\na low voice, “I wonder if Mr. Maynard will still write the same things\\nabout Socialism”; to which she answered, “I don’t know--but if he does\\nwe shall know that he is a knave!”\\n\\n\\nAnd only a few hours after this came election day--when the long\\ncampaign was over, and the whole country seemed to stand still and hold\\nits breath, awaiting the issue. Jurgis and the rest of the staff of\\nHinds’s Hotel could hardly stop to finish their dinner, before they\\nhurried off to the big hall which the party had hired for that evening.\\n\\nBut already there were people waiting, and already the telegraph\\ninstrument on the stage had begun clicking off the returns. When the\\nfinal accounts were made up, the Socialist vote proved to be over four\\nhundred thousand--an increase of something like three hundred and fifty\\nper cent in four years. And that was doing well; but the party was\\ndependent for its early returns upon messages from the locals, and\\nnaturally those locals which had been most successful were the ones\\nwhich felt most like reporting; and so that night every one in the hall\\nbelieved that the vote was going to be six, or seven, or even eight\\nhundred thousand. Just such an incredible increase had actually been\\nmade in Chicago, and in the state; the vote of the city had been 6,700\\nin 1900, and now it was 47,000; that of Illinois had been 9,600, and\\nnow it was 69,000! So, as the evening waxed, and the crowd piled in, the\\nmeeting was a sight to be seen. Bulletins would be read, and the people\\nwould shout themselves hoarse--and then some one would make a speech,\\nand there would be more shouting; and then a brief silence, and more\\nbulletins. There would come messages from the secretaries of neighboring\\nstates, reporting their achievements; the vote of Indiana had gone from\\n2,300 to 12,000, of Wisconsin from 7,000 to 28,000; of Ohio from 4,800\\nto 36,000! There were telegrams to the national office from enthusiastic\\nindividuals in little towns which had made amazing and unprecedented\\nincreases in a single year: Benedict, Kansas, from 26 to 260; Henderson,\\nKentucky, from 19 to 111; Holland, Michigan, from 14 to 208; Cleo,\\nOklahoma, from 0 to 104; Martin’s Ferry, Ohio, from 0 to 296--and many\\nmore of the same kind. There were literally hundreds of such towns;\\nthere would be reports from half a dozen of them in a single batch of\\ntelegrams. And the men who read the despatches off to the audience were\\nold campaigners, who had been to the places and helped to make the\\nvote, and could make appropriate comments: Quincy, Illinois, from 189 to\\n831--that was where the mayor had arrested a Socialist speaker! Crawford\\nCounty, Kansas, from 285 to 1,975; that was the home of the “Appeal\\nto Reason”! Battle Creek, Michigan, from 4,261 to 10,184; that was the\\nanswer of labor to the Citizens’ Alliance Movement!\\n\\nAnd then there were official returns from the various precincts and\\nwards of the city itself! Whether it was a factory district or one of\\nthe “silk-stocking” wards seemed to make no particular difference in the\\nincrease; but one of the things which surprised the party leaders\\nmost was the tremendous vote that came rolling in from the stockyards.\\nPackingtown comprised three wards of the city, and the vote in the\\nspring of 1903 had been 500, and in the fall of the same year, 1,600.\\nNow, only one year later, it was over 6,300--and the Democratic vote\\nonly 8,800! There were other wards in which the Democratic vote had\\nbeen actually surpassed, and in two districts, members of the state\\nlegislature had been elected. Thus Chicago now led the country; it had\\nset a new standard for the party, it had shown the workingmen the way!\\n\\n--So spoke an orator upon the platform; and two thousand pairs of eyes\\nwere fixed upon him, and two thousand voices were cheering his every\\nsentence. The orator had been the head of the city’s relief bureau in\\nthe stockyards, until the sight of misery and corruption had made him\\nsick. He was young, hungry-looking, full of fire; and as he swung his\\nlong arms and beat up the crowd, to Jurgis he seemed the very spirit of\\nthe revolution. “Organize! Organize! Organize!”--that was his cry. He\\nwas afraid of this tremendous vote, which his party had not expected,\\nand which it had not earned. “These men are not Socialists!” he cried.\\n“This election will pass, and the excitement will die, and people will\\nforget about it; and if you forget about it, too, if you sink back and\\nrest upon your oars, we shall lose this vote that we have polled to-day,\\nand our enemies will laugh us to scorn! It rests with you to take your\\nresolution--now, in the flush of victory, to find these men who have\\nvoted for us, and bring them to our meetings, and organize them and bind\\nthem to us! We shall not find all our campaigns as easy as this one.\\nEverywhere in the country tonight the old party politicians are studying\\nthis vote, and setting their sails by it; and nowhere will they be\\nquicker or more cunning than here in our own city. Fifty thousand\\nSocialist votes in Chicago means a municipal-ownership Democracy in the\\nspring! And then they will fool the voters once more, and all the powers\\nof plunder and corruption will be swept into office again! But whatever\\nthey may do when they get in, there is one thing they will not do, and\\nthat will be the thing for which they were elected! They will not give\\nthe people of our city municipal ownership--they will not mean to do it,\\nthey will not try to do it; all that they will do is give our party\\nin Chicago the greatest opportunity that has ever come to Socialism\\nin America! We shall have the sham reformers self-stultified and\\nself-convicted; we shall have the radical Democracy left without a lie\\nwith which to cover its nakedness! And then will begin the rush that\\nwill never be checked, the tide that will never turn till it has reached\\nits flood--that will be irresistible, overwhelming--the rallying of the\\noutraged workingmen of Chicago to our standard! And we shall organize\\nthem, we shall drill them, we shall marshal them for the victory! We\\nshall bear down the opposition, we shall sweep if before us--and Chicago\\nwill be ours! Chicago will be ours! CHICAGO WILL BE OURS!”\\n\\n\\n\\n\\n\\nEnd of the Project Gutenberg EBook of The Jungle, by Upton Sinclair\\n\\n*** END OF THIS PROJECT GUTENBERG EBOOK THE JUNGLE ***\\n\\n***** This file should be named 140-0.txt or 140-0.zip *****\\nThis and all associated files of various formats will be found in:\\n        http://www.gutenberg.org/1/4/140/\\n\\nProduced by David Meltzer, Christy Phillips, Scott Coulter,\\nLeroy Smith and David Widger\\n\\n\\nUpdated editions will replace the previous one--the old editions\\nwill be renamed.\\n\\nCreating the works from public domain print editions means that no\\none owns a United States copyright in these works, so the Foundation\\n(and you!) can copy and distribute it in the United States without\\npermission and without paying copyright royalties.  Special rules,\\nset forth in the General Terms of Use part of this license, apply to\\ncopying and distributing Project Gutenberg-tm electronic works to\\nprotect the PROJECT GUTENBERG-tm concept and trademark.  Project\\nGutenberg is a registered trademark, and may not be used if you\\ncharge for the eBooks, unless you receive specific permission.  If you\\ndo not charge anything for copies of this eBook, complying with the\\nrules is very easy.  You may use this eBook for nearly any purpose\\nsuch as creation of derivative works, reports, performances and\\nresearch.  They may be modified and printed and given away--you may do\\npractically ANYTHING with public domain eBooks.  Redistribution is\\nsubject to the trademark license, especially commercial\\nredistribution.\\n\\n\\n\\n*** START: FULL LICENSE ***\\n\\nTHE FULL PROJECT GUTENBERG LICENSE\\nPLEASE READ THIS BEFORE YOU DISTRIBUTE OR USE THIS WORK\\n\\nTo protect the Project Gutenberg-tm mission of promoting the free\\ndistribution of electronic works, by using or distributing this work\\n(or any other work associated in any way with the phrase “Project\\nGutenberg”), you agree to comply with all the terms of the Full Project\\nGutenberg-tm License (available with this file or online at\\nhttp://gutenberg.org/license).\\n\\n\\nSection 1.  General Terms of Use and Redistributing Project Gutenberg-tm\\nelectronic works\\n\\n1.A.  By reading or using any part of this Project Gutenberg-tm\\nelectronic work, you indicate that you have read, understand, agree to\\nand accept all the terms of this license and intellectual property\\n(trademark/copyright) agreement.  If you do not agree to abide by all\\nthe terms of this agreement, you must cease using and return or destroy\\nall copies of Project Gutenberg-tm electronic works in your possession.\\nIf you paid a fee for obtaining a copy of or access to a Project\\nGutenberg-tm electronic work and you do not agree to be bound by the\\nterms of this agreement, you may obtain a refund from the person or\\nentity to whom you paid the fee as set forth in paragraph 1.E.8.\\n\\n1.B.  “Project Gutenberg” is a registered trademark.  It may only be\\nused on or associated in any way with an electronic work by people who\\nagree to be bound by the terms of this agreement.  There are a few\\nthings that you can do with most Project Gutenberg-tm electronic works\\neven without complying with the full terms of this agreement.  See\\nparagraph 1.C below.  There are a lot of things you can do with Project\\nGutenberg-tm electronic works if you follow the terms of this agreement\\nand help preserve free future access to Project Gutenberg-tm electronic\\nworks.  See paragraph 1.E below.\\n\\n1.C.  The Project Gutenberg Literary Archive Foundation (“the Foundation”\\n or PGLAF), owns a compilation copyright in the collection of Project\\nGutenberg-tm electronic works.  Nearly all the individual works in the\\ncollection are in the public domain in the United States.  If an\\nindividual work is in the public domain in the United States and you are\\nlocated in the United States, we do not claim a right to prevent you from\\ncopying, distributing, performing, displaying or creating derivative\\nworks based on the work as long as all references to Project Gutenberg\\nare removed.  Of course, we hope that you will support the Project\\nGutenberg-tm mission of promoting free access to electronic works by\\nfreely sharing Project Gutenberg-tm works in compliance with the terms of\\nthis agreement for keeping the Project Gutenberg-tm name associated with\\nthe work.  You can easily comply with the terms of this agreement by\\nkeeping this work in the same format with its attached full Project\\nGutenberg-tm License when you share it without charge with others.\\n\\n1.D.  The copyright laws of the place where you are located also govern\\nwhat you can do with this work.  Copyright laws in most countries are in\\na constant state of change.  If you are outside the United States, check\\nthe laws of your country in addition to the terms of this agreement\\nbefore downloading, copying, displaying, performing, distributing or\\ncreating derivative works based on this work or any other Project\\nGutenberg-tm work.  The Foundation makes no representations concerning\\nthe copyright status of any work in any country outside the United\\nStates.\\n\\n1.E.  Unless you have removed all references to Project Gutenberg:\\n\\n1.E.1.  The following sentence, with active links to, or other immediate\\naccess to, the full Project Gutenberg-tm License must appear prominently\\nwhenever any copy of a Project Gutenberg-tm work (any work on which the\\nphrase “Project Gutenberg” appears, or with which the phrase “Project\\nGutenberg” is associated) is accessed, displayed, performed, viewed,\\ncopied or distributed:\\n\\nThis eBook is for the use of anyone anywhere at no cost and with\\nalmost no restrictions whatsoever.  You may copy it, give it away or\\nre-use it under the terms of the Project Gutenberg License included\\nwith this eBook or online at www.gutenberg.org\\n\\n1.E.2.  If an individual Project Gutenberg-tm electronic work is derived\\nfrom the public domain (does not contain a notice indicating that it is\\nposted with permission of the copyright holder), the work can be copied\\nand distributed to anyone in the United States without paying any fees\\nor charges.  If you are redistributing or providing access to a work\\nwith the phrase “Project Gutenberg” associated with or appearing on the\\nwork, you must comply either with the requirements of paragraphs 1.E.1\\nthrough 1.E.7 or obtain permission for the use of the work and the\\nProject Gutenberg-tm trademark as set forth in paragraphs 1.E.8 or\\n1.E.9.\\n\\n1.E.3.  If an individual Project Gutenberg-tm electronic work is posted\\nwith the permission of the copyright holder, your use and distribution\\nmust comply with both paragraphs 1.E.1 through 1.E.7 and any additional\\nterms imposed by the copyright holder.  Additional terms will be linked\\nto the Project Gutenberg-tm License for all works posted with the\\npermission of the copyright holder found at the beginning of this work.\\n\\n1.E.4.  Do not unlink or detach or remove the full Project Gutenberg-tm\\nLicense terms from this work, or any files containing a part of this\\nwork or any other work associated with Project Gutenberg-tm.\\n\\n1.E.5.  Do not copy, display, perform, distribute or redistribute this\\nelectronic work, or any part of this electronic work, without\\nprominently displaying the sentence set forth in paragraph 1.E.1 with\\nactive links or immediate access to the full terms of the Project\\nGutenberg-tm License.\\n\\n1.E.6.  You may convert to and distribute this work in any binary,\\ncompressed, marked up, nonproprietary or proprietary form, including any\\nword processing or hypertext form.  However, if you provide access to or\\ndistribute copies of a Project Gutenberg-tm work in a format other than\\n“Plain Vanilla ASCII” or other format used in the official version\\nposted on the official Project Gutenberg-tm web site (www.gutenberg.org),\\nyou must, at no additional cost, fee or expense to the user, provide a\\ncopy, a means of exporting a copy, or a means of obtaining a copy upon\\nrequest, of the work in its original “Plain Vanilla ASCII” or other\\nform.  Any alternate format must include the full Project Gutenberg-tm\\nLicense as specified in paragraph 1.E.1.\\n\\n1.E.7.  Do not charge a fee for access to, viewing, displaying,\\nperforming, copying or distributing any Project Gutenberg-tm works\\nunless you comply with paragraph 1.E.8 or 1.E.9.\\n\\n1.E.8.  You may charge a reasonable fee for copies of or providing\\naccess to or distributing Project Gutenberg-tm electronic works provided\\nthat\\n\\n- You pay a royalty fee of 20% of the gross profits you derive from\\n     the use of Project Gutenberg-tm works calculated using the method\\n     you already use to calculate your applicable taxes.  The fee is\\n     owed to the owner of the Project Gutenberg-tm trademark, but he\\n     has agreed to donate royalties under this paragraph to the\\n     Project Gutenberg Literary Archive Foundation.  Royalty payments\\n     must be paid within 60 days following each date on which you\\n     prepare (or are legally required to prepare) your periodic tax\\n     returns.  Royalty payments should be clearly marked as such and\\n     sent to the Project Gutenberg Literary Archive Foundation at the\\n     address specified in Section 4, “Information about donations to\\n     the Project Gutenberg Literary Archive Foundation.”\\n\\n- You provide a full refund of any money paid by a user who notifies\\n     you in writing (or by e-mail) within 30 days of receipt that s/he\\n     does not agree to the terms of the full Project Gutenberg-tm\\n     License.  You must require such a user to return or\\n     destroy all copies of the works possessed in a physical medium\\n     and discontinue all use of and all access to other copies of\\n     Project Gutenberg-tm works.\\n\\n- You provide, in accordance with paragraph 1.F.3, a full refund of any\\n     money paid for a work or a replacement copy, if a defect in the\\n     electronic work is discovered and reported to you within 90 days\\n     of receipt of the work.\\n\\n- You comply with all other terms of this agreement for free\\n     distribution of Project Gutenberg-tm works.\\n\\n1.E.9.  If you wish to charge a fee or distribute a Project Gutenberg-tm\\nelectronic work or group of works on different terms than are set\\nforth in this agreement, you must obtain permission in writing from\\nboth the Project Gutenberg Literary Archive Foundation and Michael\\nHart, the owner of the Project Gutenberg-tm trademark.  Contact the\\nFoundation as set forth in Section 3 below.\\n\\n1.F.\\n\\n1.F.1.  Project Gutenberg volunteers and employees expend considerable\\neffort to identify, do copyright research on, transcribe and proofread\\npublic domain works in creating the Project Gutenberg-tm\\ncollection.  Despite these efforts, Project Gutenberg-tm electronic\\nworks, and the medium on which they may be stored, may contain\\n“Defects,” such as, but not limited to, incomplete, inaccurate or\\ncorrupt data, transcription errors, a copyright or other intellectual\\nproperty infringement, a defective or damaged disk or other medium, a\\ncomputer virus, or computer codes that damage or cannot be read by\\nyour equipment.\\n\\n1.F.2.  LIMITED WARRANTY, DISCLAIMER OF DAMAGES - Except for the “Right\\nof Replacement or Refund” described in paragraph 1.F.3, the Project\\nGutenberg Literary Archive Foundation, the owner of the Project\\nGutenberg-tm trademark, and any other party distributing a Project\\nGutenberg-tm electronic work under this agreement, disclaim all\\nliability to you for damages, costs and expenses, including legal\\nfees.  YOU AGREE THAT YOU HAVE NO REMEDIES FOR NEGLIGENCE, STRICT\\nLIABILITY, BREACH OF WARRANTY OR BREACH OF CONTRACT EXCEPT THOSE\\nPROVIDED IN PARAGRAPH F3.  YOU AGREE THAT THE FOUNDATION, THE\\nTRADEMARK OWNER, AND ANY DISTRIBUTOR UNDER THIS AGREEMENT WILL NOT BE\\nLIABLE TO YOU FOR ACTUAL, DIRECT, INDIRECT, CONSEQUENTIAL, PUNITIVE OR\\nINCIDENTAL DAMAGES EVEN IF YOU GIVE NOTICE OF THE POSSIBILITY OF SUCH\\nDAMAGE.\\n\\n1.F.3.  LIMITED RIGHT OF REPLACEMENT OR REFUND - If you discover a\\ndefect in this electronic work within 90 days of receiving it, you can\\nreceive a refund of the money (if any) you paid for it by sending a\\nwritten explanation to the person you received the work from.  If you\\nreceived the work on a physical medium, you must return the medium with\\nyour written explanation.  The person or entity that provided you with\\nthe defective work may elect to provide a replacement copy in lieu of a\\nrefund.  If you received the work electronically, the person or entity\\nproviding it to you may choose to give you a second opportunity to\\nreceive the work electronically in lieu of a refund.  If the second copy\\nis also defective, you may demand a refund in writing without further\\nopportunities to fix the problem.\\n\\n1.F.4.  Except for the limited right of replacement or refund set forth\\nin paragraph 1.F.3, this work is provided to you ‘AS-IS’ WITH NO OTHER\\nWARRANTIES OF ANY KIND, EXPRESS OR IMPLIED, INCLUDING BUT NOT LIMITED TO\\nWARRANTIES OF MERCHANTIBILITY OR FITNESS FOR ANY PURPOSE.\\n\\n1.F.5.  Some states do not allow disclaimers of certain implied\\nwarranties or the exclusion or limitation of certain types of damages.\\nIf any disclaimer or limitation set forth in this agreement violates the\\nlaw of the state applicable to this agreement, the agreement shall be\\ninterpreted to make the maximum disclaimer or limitation permitted by\\nthe applicable state law.  The invalidity or unenforceability of any\\nprovision of this agreement shall not void the remaining provisions.\\n\\n1.F.6.  INDEMNITY - You agree to indemnify and hold the Foundation, the\\ntrademark owner, any agent or employee of the Foundation, anyone\\nproviding copies of Project Gutenberg-tm electronic works in accordance\\nwith this agreement, and any volunteers associated with the production,\\npromotion and distribution of Project Gutenberg-tm electronic works,\\nharmless from all liability, costs and expenses, including legal fees,\\nthat arise directly or indirectly from any of the following which you do\\nor cause to occur: (a) distribution of this or any Project Gutenberg-tm\\nwork, (b) alteration, modification, or additions or deletions to any\\nProject Gutenberg-tm work, and (c) any Defect you cause.\\n\\n\\nSection  2.  Information about the Mission of Project Gutenberg-tm\\n\\nProject Gutenberg-tm is synonymous with the free distribution of\\nelectronic works in formats readable by the widest variety of computers\\nincluding obsolete, old, middle-aged and new computers.  It exists\\nbecause of the efforts of hundreds of volunteers and donations from\\npeople in all walks of life.\\n\\nVolunteers and financial support to provide volunteers with the\\nassistance they need, is critical to reaching Project Gutenberg-tm’s\\ngoals and ensuring that the Project Gutenberg-tm collection will\\nremain freely available for generations to come.  In 2001, the Project\\nGutenberg Literary Archive Foundation was created to provide a secure\\nand permanent future for Project Gutenberg-tm and future generations.\\nTo learn more about the Project Gutenberg Literary Archive Foundation\\nand how your efforts and donations can help, see Sections 3 and 4\\nand the Foundation web page at http://www.pglaf.org.\\n\\n\\nSection 3.  Information about the Project Gutenberg Literary Archive\\nFoundation\\n\\nThe Project Gutenberg Literary Archive Foundation is a non profit\\n501(c)(3) educational corporation organized under the laws of the\\nstate of Mississippi and granted tax exempt status by the Internal\\nRevenue Service.  The Foundation’s EIN or federal tax identification\\nnumber is 64-6221541.  Its 501(c)(3) letter is posted at\\nhttp://pglaf.org/fundraising.  Contributions to the Project Gutenberg\\nLiterary Archive Foundation are tax deductible to the full extent\\npermitted by U.S. federal laws and your state’s laws.\\n\\nThe Foundation’s principal office is located at 4557 Melan Dr. S.\\nFairbanks, AK, 99712., but its volunteers and employees are scattered\\nthroughout numerous locations.  Its business office is located at\\n809 North 1500 West, Salt Lake City, UT 84116, (801) 596-1887, email\\nbusiness@pglaf.org.  Email contact links and up to date contact\\ninformation can be found at the Foundation’s web site and official\\npage at http://pglaf.org\\n\\nFor additional contact information:\\n     Dr. Gregory B. Newby\\n     Chief Executive and Director\\n     gbnewby@pglaf.org\\n\\n\\nSection 4.  Information about Donations to the Project Gutenberg\\nLiterary Archive Foundation\\n\\nProject Gutenberg-tm depends upon and cannot survive without wide\\nspread public support and donations to carry out its mission of\\nincreasing the number of public domain and licensed works that can be\\nfreely distributed in machine readable form accessible by the widest\\narray of equipment including outdated equipment.  Many small donations\\n($1 to $5,000) are particularly important to maintaining tax exempt\\nstatus with the IRS.\\n\\nThe Foundation is committed to complying with the laws regulating\\ncharities and charitable donations in all 50 states of the United\\nStates.  Compliance requirements are not uniform and it takes a\\nconsiderable effort, much paperwork and many fees to meet and keep up\\nwith these requirements.  We do not solicit donations in locations\\nwhere we have not received written confirmation of compliance.  To\\nSEND DONATIONS or determine the status of compliance for any\\nparticular state visit http://pglaf.org\\n\\nWhile we cannot and do not solicit contributions from states where we\\nhave not met the solicitation requirements, we know of no prohibition\\nagainst accepting unsolicited donations from donors in such states who\\napproach us with offers to donate.\\n\\nInternational donations are gratefully accepted, but we cannot make\\nany statements concerning tax treatment of donations received from\\noutside the United States.  U.S. laws alone swamp our small staff.\\n\\nPlease check the Project Gutenberg Web pages for current donation\\nmethods and addresses.  Donations are accepted in a number of other\\nways including checks, online payments and credit card donations.\\nTo donate, please visit: http://pglaf.org/donate\\n\\n\\nSection 5.  General Information About Project Gutenberg-tm electronic\\nworks.\\n\\nProfessor Michael S. Hart is the originator of the Project Gutenberg-tm\\nconcept of a library of electronic works that could be freely shared\\nwith anyone.  For thirty years, he produced and distributed Project\\nGutenberg-tm eBooks with only a loose network of volunteer support.\\n\\n\\nProject Gutenberg-tm eBooks are often created from several printed\\neditions, all of which are confirmed as Public Domain in the U.S.\\nunless a copyright notice is included.  Thus, we do not necessarily\\nkeep eBooks in compliance with any particular paper edition.\\n\\n\\nMost people start at our Web site which has the main PG search facility:\\n\\n     http://www.gutenberg.org\\n\\nThis Web site includes information about Project Gutenberg-tm,\\nincluding how to make donations to the Project Gutenberg Literary\\nArchive Foundation, how to help produce our new eBooks, and how to\\nsubscribe to our email newsletter to hear about new eBooks.\\n'"
      ]
     },
     "execution_count": 7,
     "metadata": {},
     "output_type": "execute_result"
    }
   ],
   "source": [
    "data[750000:] # checking the end of the file"
   ]
  },
  {
   "cell_type": "markdown",
   "metadata": {},
   "source": [
    "#### Removing the Project Gutenberg declaration at the end of the book"
   ]
  },
  {
   "cell_type": "code",
   "execution_count": 8,
   "metadata": {
    "collapsed": true
   },
   "outputs": [],
   "source": [
    "data = re.sub('End of the Project Gutenberg(.*?)$', '', data) #removing the Project Gutenberg declaration at the end of the file"
   ]
  },
  {
   "cell_type": "markdown",
   "metadata": {},
   "source": [
    "#### Now that the information that we don't consider to be the content of the book has been removed, we proceed with tokenizing the book into words"
   ]
  },
  {
   "cell_type": "code",
   "execution_count": 9,
   "metadata": {
    "collapsed": true
   },
   "outputs": [],
   "source": [
    "words_string = nltk.word_tokenize(data) # the entire text file is tokenized into individual words by using the nltk word_tokenize function"
   ]
  },
  {
   "cell_type": "code",
   "execution_count": 10,
   "metadata": {},
   "outputs": [
    {
     "data": {
      "text/plain": [
       "180133"
      ]
     },
     "execution_count": 10,
     "metadata": {},
     "output_type": "execute_result"
    }
   ],
   "source": [
    "len(words_string) #checking the lenght of the word list created, how many words in the text?"
   ]
  },
  {
   "cell_type": "code",
   "execution_count": 11,
   "metadata": {},
   "outputs": [
    {
     "data": {
      "text/plain": [
       "['hither',\n",
       " 'and',\n",
       " 'thither',\n",
       " ',',\n",
       " 'bowling',\n",
       " 'every',\n",
       " 'one',\n",
       " 'out',\n",
       " 'of',\n",
       " 'the',\n",
       " 'way',\n",
       " ',',\n",
       " 'and',\n",
       " 'scolding',\n",
       " 'and',\n",
       " 'exhorting',\n",
       " 'all',\n",
       " 'day',\n",
       " 'with',\n",
       " 'her',\n",
       " 'tremendous',\n",
       " 'voice',\n",
       " ',',\n",
       " 'Marija',\n",
       " 'was',\n",
       " 'too',\n",
       " 'eager',\n",
       " 'to',\n",
       " 'see',\n",
       " 'that',\n",
       " 'others',\n",
       " 'conformed',\n",
       " 'to',\n",
       " 'the',\n",
       " 'proprieties',\n",
       " 'to',\n",
       " 'consider',\n",
       " 'them',\n",
       " 'herself',\n",
       " '.',\n",
       " 'She',\n",
       " 'had',\n",
       " 'left',\n",
       " 'the',\n",
       " 'church',\n",
       " 'last',\n",
       " 'of',\n",
       " 'all',\n",
       " ',',\n",
       " 'and',\n",
       " ',',\n",
       " 'desiring',\n",
       " 'to',\n",
       " 'arrive',\n",
       " 'first',\n",
       " 'at',\n",
       " 'the',\n",
       " 'hall',\n",
       " ',',\n",
       " 'had',\n",
       " 'issued',\n",
       " 'orders',\n",
       " 'to',\n",
       " 'the',\n",
       " 'coachman',\n",
       " 'to',\n",
       " 'drive',\n",
       " 'faster',\n",
       " '.',\n",
       " 'When',\n",
       " 'that',\n",
       " 'personage',\n",
       " 'had',\n",
       " 'developed',\n",
       " 'a',\n",
       " 'will',\n",
       " 'of',\n",
       " 'his',\n",
       " 'own',\n",
       " 'in',\n",
       " 'the',\n",
       " 'matter',\n",
       " ',',\n",
       " 'Marija',\n",
       " 'had',\n",
       " 'flung',\n",
       " 'up',\n",
       " 'the',\n",
       " 'window',\n",
       " 'of',\n",
       " 'the',\n",
       " 'carriage',\n",
       " ',',\n",
       " 'and',\n",
       " ',',\n",
       " 'leaning',\n",
       " 'out',\n",
       " ',',\n",
       " 'proceeded',\n",
       " 'to',\n",
       " 'tell',\n",
       " 'him',\n",
       " 'her',\n",
       " 'opinion',\n",
       " 'of',\n",
       " 'him',\n",
       " ',',\n",
       " 'first',\n",
       " 'in',\n",
       " 'Lithuanian',\n",
       " ',',\n",
       " 'which',\n",
       " 'he',\n",
       " 'did',\n",
       " 'not',\n",
       " 'understand',\n",
       " ',',\n",
       " 'and',\n",
       " 'then',\n",
       " 'in',\n",
       " 'Polish',\n",
       " ',',\n",
       " 'which',\n",
       " 'he',\n",
       " 'did',\n",
       " '.',\n",
       " 'Having',\n",
       " 'the',\n",
       " 'advantage',\n",
       " 'of',\n",
       " 'her',\n",
       " 'in',\n",
       " 'altitude',\n",
       " ',',\n",
       " 'the',\n",
       " 'driver',\n",
       " 'had',\n",
       " 'stood',\n",
       " 'his',\n",
       " 'ground',\n",
       " 'and',\n",
       " 'even',\n",
       " 'ventured',\n",
       " 'to',\n",
       " 'attempt',\n",
       " 'to',\n",
       " 'speak',\n",
       " ';',\n",
       " 'and',\n",
       " 'the',\n",
       " 'result',\n",
       " 'had',\n",
       " 'been',\n",
       " 'a',\n",
       " 'furious',\n",
       " 'altercation',\n",
       " ',',\n",
       " 'which',\n",
       " ',',\n",
       " 'continuing',\n",
       " 'all',\n",
       " 'the',\n",
       " 'way',\n",
       " 'down',\n",
       " 'Ashland',\n",
       " 'Avenue',\n",
       " ',',\n",
       " 'had',\n",
       " 'added',\n",
       " 'a',\n",
       " 'new',\n",
       " 'swarm',\n",
       " 'of',\n",
       " 'urchins',\n",
       " 'to',\n",
       " 'the',\n",
       " 'cortege',\n",
       " 'at',\n",
       " 'each',\n",
       " 'side',\n",
       " 'street',\n",
       " 'for',\n",
       " 'half',\n",
       " 'a',\n",
       " 'mile',\n",
       " '.',\n",
       " 'This',\n",
       " 'was',\n",
       " 'unfortunate',\n",
       " ',',\n",
       " 'for',\n",
       " 'already',\n",
       " 'there',\n",
       " 'was',\n",
       " 'a',\n",
       " 'throng',\n",
       " 'before',\n",
       " 'the',\n",
       " 'door',\n",
       " '.',\n",
       " 'The',\n",
       " 'music',\n",
       " 'had',\n",
       " 'started',\n",
       " 'up',\n",
       " ',',\n",
       " 'and',\n",
       " 'half',\n",
       " 'a',\n",
       " 'block',\n",
       " 'away',\n",
       " 'you',\n",
       " 'could',\n",
       " 'hear',\n",
       " 'the',\n",
       " 'dull',\n",
       " '“',\n",
       " 'broom',\n",
       " ',',\n",
       " 'broom',\n",
       " '”',\n",
       " 'of',\n",
       " 'a',\n",
       " 'cello',\n",
       " ',',\n",
       " 'with',\n",
       " 'the',\n",
       " 'squeaking',\n",
       " 'of',\n",
       " 'two',\n",
       " 'fiddles',\n",
       " 'which',\n",
       " 'vied',\n",
       " 'with',\n",
       " 'each',\n",
       " 'other',\n",
       " 'in',\n",
       " 'intricate',\n",
       " 'and',\n",
       " 'altitudinous',\n",
       " 'gymnastics',\n",
       " '.',\n",
       " 'Seeing',\n",
       " 'the',\n",
       " 'throng',\n",
       " ',',\n",
       " 'Marija',\n",
       " 'abandoned',\n",
       " 'precipitately',\n",
       " 'the',\n",
       " 'debate',\n",
       " 'concerning',\n",
       " 'the',\n",
       " 'ancestors',\n",
       " 'of',\n",
       " 'her',\n",
       " 'coachman',\n",
       " ',',\n",
       " 'and',\n",
       " ',',\n",
       " 'springing',\n",
       " 'from',\n",
       " 'the',\n",
       " 'moving',\n",
       " 'carriage',\n",
       " ',',\n",
       " 'plunged',\n",
       " 'in',\n",
       " 'and',\n",
       " 'proceeded',\n",
       " 'to',\n",
       " 'clear',\n",
       " 'a',\n",
       " 'way',\n",
       " 'to',\n",
       " 'the',\n",
       " 'hall',\n",
       " '.',\n",
       " 'Once',\n",
       " 'within',\n",
       " ',',\n",
       " 'she',\n",
       " 'turned',\n",
       " 'and',\n",
       " 'began',\n",
       " 'to',\n",
       " 'push',\n",
       " 'the',\n",
       " 'other',\n",
       " 'way',\n",
       " ',',\n",
       " 'roaring',\n",
       " ',',\n",
       " 'meantime',\n",
       " ',',\n",
       " '“',\n",
       " 'Eik',\n",
       " '!',\n",
       " 'Eik',\n",
       " '!']"
      ]
     },
     "execution_count": 11,
     "metadata": {},
     "output_type": "execute_result"
    }
   ],
   "source": [
    "words_string[200:500] #checking the word list "
   ]
  },
  {
   "cell_type": "markdown",
   "metadata": {},
   "source": [
    "#### Removing stopwords from the text "
   ]
  },
  {
   "cell_type": "code",
   "execution_count": 12,
   "metadata": {
    "collapsed": true
   },
   "outputs": [],
   "source": [
    "stopwords = set(nltk.corpus.stopwords.words('english')) # defines stopwords list to use (part of NLTK)"
   ]
  },
  {
   "cell_type": "code",
   "execution_count": 13,
   "metadata": {},
   "outputs": [
    {
     "data": {
      "text/plain": [
       "{'a',\n",
       " 'about',\n",
       " 'above',\n",
       " 'after',\n",
       " 'again',\n",
       " 'against',\n",
       " 'ain',\n",
       " 'all',\n",
       " 'am',\n",
       " 'an',\n",
       " 'and',\n",
       " 'any',\n",
       " 'are',\n",
       " 'aren',\n",
       " 'as',\n",
       " 'at',\n",
       " 'be',\n",
       " 'because',\n",
       " 'been',\n",
       " 'before',\n",
       " 'being',\n",
       " 'below',\n",
       " 'between',\n",
       " 'both',\n",
       " 'but',\n",
       " 'by',\n",
       " 'can',\n",
       " 'couldn',\n",
       " 'd',\n",
       " 'did',\n",
       " 'didn',\n",
       " 'do',\n",
       " 'does',\n",
       " 'doesn',\n",
       " 'doing',\n",
       " 'don',\n",
       " 'down',\n",
       " 'during',\n",
       " 'each',\n",
       " 'few',\n",
       " 'for',\n",
       " 'from',\n",
       " 'further',\n",
       " 'had',\n",
       " 'hadn',\n",
       " 'has',\n",
       " 'hasn',\n",
       " 'have',\n",
       " 'haven',\n",
       " 'having',\n",
       " 'he',\n",
       " 'her',\n",
       " 'here',\n",
       " 'hers',\n",
       " 'herself',\n",
       " 'him',\n",
       " 'himself',\n",
       " 'his',\n",
       " 'how',\n",
       " 'i',\n",
       " 'if',\n",
       " 'in',\n",
       " 'into',\n",
       " 'is',\n",
       " 'isn',\n",
       " 'it',\n",
       " 'its',\n",
       " 'itself',\n",
       " 'just',\n",
       " 'll',\n",
       " 'm',\n",
       " 'ma',\n",
       " 'me',\n",
       " 'mightn',\n",
       " 'more',\n",
       " 'most',\n",
       " 'mustn',\n",
       " 'my',\n",
       " 'myself',\n",
       " 'needn',\n",
       " 'no',\n",
       " 'nor',\n",
       " 'not',\n",
       " 'now',\n",
       " 'o',\n",
       " 'of',\n",
       " 'off',\n",
       " 'on',\n",
       " 'once',\n",
       " 'only',\n",
       " 'or',\n",
       " 'other',\n",
       " 'our',\n",
       " 'ours',\n",
       " 'ourselves',\n",
       " 'out',\n",
       " 'over',\n",
       " 'own',\n",
       " 're',\n",
       " 's',\n",
       " 'same',\n",
       " 'shan',\n",
       " 'she',\n",
       " 'should',\n",
       " 'shouldn',\n",
       " 'so',\n",
       " 'some',\n",
       " 'such',\n",
       " 't',\n",
       " 'than',\n",
       " 'that',\n",
       " 'the',\n",
       " 'their',\n",
       " 'theirs',\n",
       " 'them',\n",
       " 'themselves',\n",
       " 'then',\n",
       " 'there',\n",
       " 'these',\n",
       " 'they',\n",
       " 'this',\n",
       " 'those',\n",
       " 'through',\n",
       " 'to',\n",
       " 'too',\n",
       " 'under',\n",
       " 'until',\n",
       " 'up',\n",
       " 've',\n",
       " 'very',\n",
       " 'was',\n",
       " 'wasn',\n",
       " 'we',\n",
       " 'were',\n",
       " 'weren',\n",
       " 'what',\n",
       " 'when',\n",
       " 'where',\n",
       " 'which',\n",
       " 'while',\n",
       " 'who',\n",
       " 'whom',\n",
       " 'why',\n",
       " 'will',\n",
       " 'with',\n",
       " 'won',\n",
       " 'wouldn',\n",
       " 'y',\n",
       " 'you',\n",
       " 'your',\n",
       " 'yours',\n",
       " 'yourself',\n",
       " 'yourselves'}"
      ]
     },
     "execution_count": 13,
     "metadata": {},
     "output_type": "execute_result"
    }
   ],
   "source": [
    "stopwords"
   ]
  },
  {
   "cell_type": "markdown",
   "metadata": {},
   "source": [
    "#### Extending the stopwords list"
   ]
  },
  {
   "cell_type": "code",
   "execution_count": 14,
   "metadata": {
    "collapsed": true
   },
   "outputs": [],
   "source": [
    "morewords =['--'] # adding more stopwords to the list of stopwords (this list can be further customized)\n",
    "stopwords.update(morewords)"
   ]
  },
  {
   "cell_type": "markdown",
   "metadata": {},
   "source": [
    "#### Removing words that are less than a character long"
   ]
  },
  {
   "cell_type": "code",
   "execution_count": 15,
   "metadata": {
    "collapsed": true
   },
   "outputs": [],
   "source": [
    "words_string = [word for word in words_string if len(word) > 1] # removes words that are less than a character long"
   ]
  },
  {
   "cell_type": "markdown",
   "metadata": {},
   "source": [
    "#### Lowercasing all the words"
   ]
  },
  {
   "cell_type": "code",
   "execution_count": 16,
   "metadata": {
    "collapsed": true
   },
   "outputs": [],
   "source": [
    "words_string = [word.lower() for word in words_string] # lowercases all the words in the file"
   ]
  },
  {
   "cell_type": "markdown",
   "metadata": {},
   "source": [
    "#### Removing stopwords from text"
   ]
  },
  {
   "cell_type": "code",
   "execution_count": 17,
   "metadata": {
    "collapsed": true
   },
   "outputs": [],
   "source": [
    "words_string = [word for word in words_string if word not in stopwords] # removes stopwords from the file"
   ]
  },
  {
   "cell_type": "code",
   "execution_count": 18,
   "metadata": {},
   "outputs": [
    {
     "data": {
      "text/plain": [
       "70306"
      ]
     },
     "execution_count": 18,
     "metadata": {},
     "output_type": "execute_result"
    }
   ],
   "source": [
    "len(words_string) # notice a sharp decrease of the number of words after stopwords have been removed"
   ]
  },
  {
   "cell_type": "markdown",
   "metadata": {},
   "source": [
    "#### Book explorations: concordances and collocations"
   ]
  },
  {
   "cell_type": "code",
   "execution_count": 19,
   "metadata": {
    "collapsed": true
   },
   "outputs": [],
   "source": [
    "textList = Text(words_string) # creates a Text object based on the list of words from the text; this text object allows exploratory analysis of the text"
   ]
  },
  {
   "cell_type": "code",
   "execution_count": 20,
   "metadata": {},
   "outputs": [
    {
     "data": {
      "text/plain": [
       "nltk.text.Text"
      ]
     },
     "execution_count": 20,
     "metadata": {},
     "output_type": "execute_result"
    }
   ],
   "source": [
    "type(textList) "
   ]
  },
  {
   "cell_type": "code",
   "execution_count": 21,
   "metadata": {},
   "outputs": [
    {
     "data": {
      "text/plain": [
       "['form',\n",
       " 'towering',\n",
       " 'rest',\n",
       " 'signaled',\n",
       " 'colloquy',\n",
       " 'followed',\n",
       " 'brief',\n",
       " 'point',\n",
       " 'speak',\n",
       " 'english',\n",
       " 'lit-uanian.',\n",
       " 'jurgis',\n",
       " 'studied',\n",
       " 'word',\n",
       " 'carefully',\n",
       " 'job',\n",
       " 'je.',\n",
       " 'nod',\n",
       " 'worked',\n",
       " 'stand.',\n",
       " 'signals',\n",
       " 'gesticulations',\n",
       " 'part',\n",
       " 'boss',\n",
       " 'vigorous',\n",
       " 'shakes',\n",
       " 'head',\n",
       " 'jurgis',\n",
       " 'shovel',\n",
       " 'guts',\n",
       " 'stand.',\n",
       " 'shakes',\n",
       " 'head',\n",
       " 'zarnos',\n",
       " 'pagaiksztis',\n",
       " 'szluofa',\n",
       " 'imitative',\n",
       " 'motions',\n",
       " 'je.',\n",
       " 'see',\n",
       " 'door',\n",
       " 'durys',\n",
       " 'pointing',\n",
       " 'je.',\n",
       " 'to-morrow',\n",
       " 'seven',\n",
       " 'clock',\n",
       " 'understand',\n",
       " 'rytoj',\n",
       " 'prieszpietys',\n",
       " 'septyni',\n",
       " 'dekui',\n",
       " 'tamistai',\n",
       " 'thank',\n",
       " 'sir',\n",
       " 'jurgis',\n",
       " 'turned',\n",
       " 'away',\n",
       " 'sudden',\n",
       " 'rush',\n",
       " 'full',\n",
       " 'realization',\n",
       " 'triumph',\n",
       " 'swept',\n",
       " 'gave',\n",
       " 'yell',\n",
       " 'jump',\n",
       " 'started',\n",
       " 'run',\n",
       " 'job',\n",
       " 'job',\n",
       " 'went',\n",
       " 'way',\n",
       " 'home',\n",
       " 'upon',\n",
       " 'wings',\n",
       " 'burst',\n",
       " 'house',\n",
       " 'like',\n",
       " 'cyclone',\n",
       " 'rage',\n",
       " 'numerous',\n",
       " 'lodgers',\n",
       " 'turned',\n",
       " 'daily',\n",
       " 'sleep',\n",
       " 'meantime',\n",
       " 'jokubas',\n",
       " 'see',\n",
       " 'friend',\n",
       " 'policeman',\n",
       " 'received',\n",
       " 'encouragement',\n",
       " 'happy',\n",
       " 'party',\n",
       " 'done',\n",
       " 'day',\n",
       " 'shop',\n",
       " 'left',\n",
       " 'care',\n",
       " 'lucija',\n",
       " 'husband',\n",
       " 'sallied',\n",
       " 'forth',\n",
       " 'show',\n",
       " 'friends',\n",
       " 'sights',\n",
       " 'packingtown',\n",
       " 'jokubas',\n",
       " 'air',\n",
       " 'country',\n",
       " 'gentleman',\n",
       " 'escorting',\n",
       " 'party',\n",
       " 'visitors',\n",
       " 'estate',\n",
       " 'old-time',\n",
       " 'resident',\n",
       " 'wonders',\n",
       " 'grown',\n",
       " 'eyes',\n",
       " 'personal',\n",
       " 'pride',\n",
       " 'packers',\n",
       " 'might',\n",
       " 'land',\n",
       " 'claimed',\n",
       " 'landscape',\n",
       " 'one',\n",
       " 'say',\n",
       " 'nay',\n",
       " 'passed',\n",
       " 'busy',\n",
       " 'street',\n",
       " 'led',\n",
       " 'yards',\n",
       " 'still',\n",
       " 'early',\n",
       " 'morning',\n",
       " 'everything',\n",
       " 'high',\n",
       " 'tide',\n",
       " 'activity',\n",
       " 'steady',\n",
       " 'stream',\n",
       " 'employees',\n",
       " 'pouring',\n",
       " 'gate',\n",
       " 'employees',\n",
       " 'higher',\n",
       " 'sort',\n",
       " 'hour',\n",
       " 'clerks',\n",
       " 'stenographers',\n",
       " 'women',\n",
       " 'waiting',\n",
       " 'big',\n",
       " 'two-horse',\n",
       " 'wagons',\n",
       " 'set',\n",
       " 'gallop',\n",
       " 'fast',\n",
       " 'filled',\n",
       " 'distance',\n",
       " 'heard',\n",
       " 'lowing',\n",
       " 'cattle',\n",
       " 'sound',\n",
       " 'far-off',\n",
       " 'ocean',\n",
       " 'calling',\n",
       " 'followed',\n",
       " 'time',\n",
       " 'eager',\n",
       " 'children',\n",
       " 'sight',\n",
       " 'circus',\n",
       " 'menagerie',\n",
       " 'indeed',\n",
       " 'scene',\n",
       " 'good',\n",
       " 'deal',\n",
       " 'resembled',\n",
       " 'crossed',\n",
       " 'railroad',\n",
       " 'tracks',\n",
       " 'side',\n",
       " 'street',\n",
       " 'pens',\n",
       " 'full',\n",
       " 'cattle',\n",
       " 'would',\n",
       " 'stopped',\n",
       " 'look',\n",
       " 'jokubas',\n",
       " 'hurried',\n",
       " 'stairway',\n",
       " 'raised',\n",
       " 'gallery',\n",
       " 'everything',\n",
       " 'could',\n",
       " 'seen',\n",
       " 'stood',\n",
       " 'staring',\n",
       " 'breathless',\n",
       " 'wonder',\n",
       " 'square',\n",
       " 'mile',\n",
       " 'space',\n",
       " 'yards',\n",
       " 'half',\n",
       " 'occupied',\n",
       " 'cattle',\n",
       " 'pens',\n",
       " 'north',\n",
       " 'south',\n",
       " 'far',\n",
       " 'eye',\n",
       " 'reach',\n",
       " 'stretches',\n",
       " 'sea',\n",
       " 'pens',\n",
       " 'filled',\n",
       " 'many',\n",
       " 'cattle',\n",
       " 'one',\n",
       " 'ever',\n",
       " 'dreamed',\n",
       " 'existed',\n",
       " 'world',\n",
       " 'red',\n",
       " 'cattle',\n",
       " 'black',\n",
       " 'white',\n",
       " 'yellow',\n",
       " 'cattle',\n",
       " 'old',\n",
       " 'cattle',\n",
       " 'young',\n",
       " 'cattle',\n",
       " 'great',\n",
       " 'bellowing',\n",
       " 'bulls',\n",
       " 'little',\n",
       " 'calves',\n",
       " 'hour',\n",
       " 'born',\n",
       " 'meek-eyed',\n",
       " 'milch',\n",
       " 'cows',\n",
       " 'fierce',\n",
       " 'long-horned',\n",
       " 'texas',\n",
       " 'steers',\n",
       " 'sound',\n",
       " 'barnyards',\n",
       " 'universe',\n",
       " 'counting',\n",
       " 'would',\n",
       " 'taken',\n",
       " 'day',\n",
       " 'simply',\n",
       " 'count',\n",
       " 'pens',\n",
       " 'ran',\n",
       " 'long',\n",
       " 'alleys',\n",
       " 'blocked',\n",
       " 'intervals',\n",
       " 'gates',\n",
       " 'jokubas',\n",
       " 'told',\n",
       " 'number',\n",
       " 'gates',\n",
       " 'twenty-five',\n",
       " 'thousand',\n",
       " 'jokubas',\n",
       " 'recently',\n",
       " 'reading',\n",
       " 'newspaper',\n",
       " 'article',\n",
       " 'full',\n",
       " 'statistics',\n",
       " 'proud',\n",
       " 'repeated',\n",
       " 'made',\n",
       " 'guests',\n",
       " 'cry',\n",
       " 'wonder',\n",
       " 'jurgis',\n",
       " 'little',\n",
       " 'sense',\n",
       " 'pride',\n",
       " 'gotten',\n",
       " 'job',\n",
       " 'become',\n",
       " 'sharer',\n",
       " 'activity',\n",
       " 'cog',\n",
       " 'marvelous',\n",
       " 'machine',\n",
       " 'alleys',\n",
       " 'galloped',\n",
       " 'men',\n",
       " 'upon',\n",
       " 'horseback',\n",
       " 'booted',\n",
       " 'carrying',\n",
       " 'long',\n",
       " 'whips',\n",
       " 'busy',\n",
       " 'calling',\n",
       " 'driving',\n",
       " 'cattle',\n",
       " 'drovers',\n",
       " 'stock',\n",
       " 'raisers',\n",
       " 'come',\n",
       " 'far',\n",
       " 'states',\n",
       " 'brokers',\n",
       " 'commission',\n",
       " 'merchants',\n",
       " 'buyers',\n",
       " 'big',\n",
       " 'packing',\n",
       " 'houses',\n",
       " 'would',\n",
       " 'stop',\n",
       " 'inspect',\n",
       " 'bunch',\n",
       " 'cattle',\n",
       " 'would',\n",
       " 'parley',\n",
       " 'brief',\n",
       " 'businesslike',\n",
       " 'buyer',\n",
       " 'would',\n",
       " 'nod',\n",
       " 'drop',\n",
       " 'whip',\n",
       " 'would',\n",
       " 'mean',\n",
       " 'bargain',\n",
       " 'would',\n",
       " 'note',\n",
       " 'little',\n",
       " 'book',\n",
       " 'along',\n",
       " 'hundreds',\n",
       " 'others',\n",
       " 'made',\n",
       " 'morning',\n",
       " 'jokubas',\n",
       " 'pointed',\n",
       " 'place',\n",
       " 'cattle',\n",
       " 'driven',\n",
       " 'weighed',\n",
       " 'upon',\n",
       " 'great',\n",
       " 'scale',\n",
       " 'would',\n",
       " 'weigh',\n",
       " 'hundred',\n",
       " 'thousand',\n",
       " 'pounds',\n",
       " 'record',\n",
       " 'automatically',\n",
       " 'near',\n",
       " 'east',\n",
       " 'entrance',\n",
       " 'stood',\n",
       " 'along',\n",
       " 'east',\n",
       " 'side',\n",
       " 'yards',\n",
       " 'ran',\n",
       " 'railroad',\n",
       " 'tracks',\n",
       " 'cars',\n",
       " 'run',\n",
       " 'loaded',\n",
       " 'cattle',\n",
       " 'night',\n",
       " 'long',\n",
       " 'going',\n",
       " 'pens',\n",
       " 'full',\n",
       " 'tonight',\n",
       " 'would',\n",
       " 'empty',\n",
       " 'thing',\n",
       " 'would',\n",
       " 'done',\n",
       " 'become',\n",
       " 'creatures',\n",
       " 'cried',\n",
       " 'teta',\n",
       " 'elzbieta',\n",
       " 'tonight',\n",
       " 'jokubas',\n",
       " 'answered',\n",
       " 'killed',\n",
       " 'cut',\n",
       " 'side',\n",
       " 'packing',\n",
       " 'houses',\n",
       " 'railroad',\n",
       " 'tracks',\n",
       " 'cars',\n",
       " 'come',\n",
       " 'take',\n",
       " 'away.',\n",
       " 'two',\n",
       " 'hundred',\n",
       " 'fifty',\n",
       " 'miles',\n",
       " 'track',\n",
       " 'within',\n",
       " 'yards',\n",
       " 'guide',\n",
       " 'went',\n",
       " 'tell',\n",
       " 'brought',\n",
       " 'ten',\n",
       " 'thousand',\n",
       " 'head',\n",
       " 'cattle',\n",
       " 'every',\n",
       " 'day',\n",
       " 'many',\n",
       " 'hogs',\n",
       " 'half',\n",
       " 'many',\n",
       " 'sheep',\n",
       " 'meant',\n",
       " 'eight',\n",
       " 'ten',\n",
       " 'million',\n",
       " 'live',\n",
       " 'creatures',\n",
       " 'turned',\n",
       " 'food',\n",
       " 'every',\n",
       " 'year',\n",
       " 'one',\n",
       " 'stood',\n",
       " 'watched',\n",
       " 'little',\n",
       " 'little',\n",
       " 'caught',\n",
       " 'drift',\n",
       " 'tide',\n",
       " 'set',\n",
       " 'direction',\n",
       " 'packing',\n",
       " 'houses',\n",
       " 'groups',\n",
       " 'cattle',\n",
       " 'driven',\n",
       " 'chutes',\n",
       " 'roadways',\n",
       " 'fifteen',\n",
       " 'feet',\n",
       " 'wide',\n",
       " 'raised',\n",
       " 'high',\n",
       " 'pens',\n",
       " 'chutes',\n",
       " 'stream',\n",
       " 'animals',\n",
       " 'continuous',\n",
       " 'quite',\n",
       " 'uncanny',\n",
       " 'watch',\n",
       " 'pressing',\n",
       " 'fate',\n",
       " 'unsuspicious',\n",
       " 'river',\n",
       " 'death',\n",
       " 'friends',\n",
       " 'poetical',\n",
       " 'sight',\n",
       " 'suggested',\n",
       " 'metaphors',\n",
       " 'human',\n",
       " 'destiny',\n",
       " 'thought',\n",
       " 'wonderful',\n",
       " 'efficiency',\n",
       " 'chutes',\n",
       " 'hogs',\n",
       " 'went',\n",
       " 'climbed',\n",
       " 'high',\n",
       " 'top',\n",
       " 'distant',\n",
       " 'buildings',\n",
       " 'jokubas',\n",
       " 'explained',\n",
       " 'hogs',\n",
       " 'went',\n",
       " 'power',\n",
       " 'legs',\n",
       " 'weight',\n",
       " 'carried',\n",
       " 'back',\n",
       " 'processes',\n",
       " 'necessary',\n",
       " 'make',\n",
       " 'pork',\n",
       " 'waste',\n",
       " 'anything',\n",
       " 'said',\n",
       " 'guide',\n",
       " 'laughed',\n",
       " 'added',\n",
       " 'witticism',\n",
       " 'pleased',\n",
       " 'unsophisticated',\n",
       " 'friends',\n",
       " 'take',\n",
       " 'use',\n",
       " 'everything',\n",
       " 'hog',\n",
       " 'except',\n",
       " 'squeal.',\n",
       " 'front',\n",
       " 'brown',\n",
       " 'general',\n",
       " 'office',\n",
       " 'building',\n",
       " 'grows',\n",
       " 'tiny',\n",
       " 'plot',\n",
       " 'grass',\n",
       " 'may',\n",
       " 'learn',\n",
       " 'bit',\n",
       " 'green',\n",
       " 'thing',\n",
       " 'packingtown',\n",
       " 'likewise',\n",
       " 'jest',\n",
       " 'hog',\n",
       " 'squeal',\n",
       " 'stock',\n",
       " 'trade',\n",
       " 'guides',\n",
       " 'one',\n",
       " 'gleam',\n",
       " 'humor',\n",
       " 'find',\n",
       " 'seen',\n",
       " 'enough',\n",
       " 'pens',\n",
       " 'party',\n",
       " 'went',\n",
       " 'street',\n",
       " 'mass',\n",
       " 'buildings',\n",
       " 'occupy',\n",
       " 'center',\n",
       " 'yards',\n",
       " 'buildings',\n",
       " 'made',\n",
       " 'brick',\n",
       " 'stained',\n",
       " 'innumerable',\n",
       " 'layers',\n",
       " 'packingtown',\n",
       " 'smoke',\n",
       " 'painted',\n",
       " 'advertising',\n",
       " 'signs',\n",
       " 'visitor',\n",
       " 'realized',\n",
       " 'suddenly',\n",
       " 'come',\n",
       " 'home',\n",
       " 'many',\n",
       " 'torments',\n",
       " 'life',\n",
       " 'made',\n",
       " 'products',\n",
       " 'wonders',\n",
       " 'pestered',\n",
       " 'placards',\n",
       " 'defaced',\n",
       " 'landscape',\n",
       " 'traveled',\n",
       " 'staring',\n",
       " 'advertisements',\n",
       " 'newspapers',\n",
       " 'magazines',\n",
       " 'silly',\n",
       " 'little',\n",
       " 'jingles',\n",
       " 'could',\n",
       " 'get',\n",
       " 'mind',\n",
       " 'gaudy',\n",
       " 'pictures',\n",
       " 'lurked',\n",
       " 'around',\n",
       " 'every',\n",
       " 'street',\n",
       " 'corner',\n",
       " 'made',\n",
       " 'brown',\n",
       " 'imperial',\n",
       " 'hams',\n",
       " 'bacon',\n",
       " 'brown',\n",
       " 'dressed',\n",
       " 'beef',\n",
       " 'brown',\n",
       " 'excelsior',\n",
       " 'sausages',\n",
       " 'headquarters',\n",
       " 'durham',\n",
       " 'pure',\n",
       " 'leaf',\n",
       " 'lard',\n",
       " 'durham',\n",
       " 'breakfast',\n",
       " 'bacon',\n",
       " 'durham',\n",
       " 'canned',\n",
       " 'beef',\n",
       " 'potted',\n",
       " 'ham',\n",
       " 'deviled',\n",
       " 'chicken',\n",
       " 'peerless',\n",
       " 'fertilizer',\n",
       " 'entering',\n",
       " 'one',\n",
       " 'durham',\n",
       " 'buildings',\n",
       " 'found',\n",
       " 'number',\n",
       " 'visitors',\n",
       " 'waiting',\n",
       " 'long',\n",
       " 'came',\n",
       " 'guide',\n",
       " 'escort',\n",
       " 'place',\n",
       " 'make',\n",
       " 'great',\n",
       " 'feature',\n",
       " 'showing',\n",
       " 'strangers',\n",
       " 'packing',\n",
       " 'plants',\n",
       " 'good',\n",
       " 'advertisement',\n",
       " 'ponas',\n",
       " 'jokubas',\n",
       " 'whispered',\n",
       " 'maliciously',\n",
       " 'visitors',\n",
       " 'see',\n",
       " 'packers',\n",
       " 'wanted',\n",
       " 'climbed',\n",
       " 'long',\n",
       " 'series',\n",
       " 'stairways',\n",
       " 'outside',\n",
       " 'building',\n",
       " 'top',\n",
       " 'five',\n",
       " 'six',\n",
       " 'stories',\n",
       " 'chute',\n",
       " 'river',\n",
       " 'hogs',\n",
       " 'patiently',\n",
       " 'toiling',\n",
       " 'upward',\n",
       " 'place',\n",
       " 'rest',\n",
       " 'cool',\n",
       " 'another',\n",
       " 'passageway',\n",
       " 'went',\n",
       " 'room',\n",
       " 'returning',\n",
       " 'hogs',\n",
       " 'long',\n",
       " 'narrow',\n",
       " 'room',\n",
       " 'gallery',\n",
       " 'along',\n",
       " 'visitors',\n",
       " 'head',\n",
       " 'great',\n",
       " 'iron',\n",
       " 'wheel',\n",
       " 'twenty',\n",
       " 'feet',\n",
       " 'circumference',\n",
       " 'rings',\n",
       " 'along',\n",
       " 'edge',\n",
       " 'upon',\n",
       " 'sides',\n",
       " 'wheel',\n",
       " 'narrow',\n",
       " 'space',\n",
       " 'came',\n",
       " 'hogs',\n",
       " 'end',\n",
       " 'journey',\n",
       " 'midst',\n",
       " 'stood',\n",
       " 'great',\n",
       " 'burly',\n",
       " 'negro',\n",
       " 'bare-armed',\n",
       " 'bare-chested',\n",
       " 'resting',\n",
       " 'moment',\n",
       " 'wheel',\n",
       " 'stopped',\n",
       " 'men',\n",
       " 'cleaning',\n",
       " 'minute',\n",
       " 'two',\n",
       " 'however',\n",
       " 'began',\n",
       " 'slowly',\n",
       " 'revolve',\n",
       " 'men',\n",
       " 'upon',\n",
       " 'side',\n",
       " 'sprang',\n",
       " 'work',\n",
       " 'chains',\n",
       " 'fastened',\n",
       " 'leg',\n",
       " 'nearest',\n",
       " 'hog',\n",
       " 'end',\n",
       " 'chain',\n",
       " 'hooked',\n",
       " 'one',\n",
       " 'rings',\n",
       " 'upon',\n",
       " 'wheel',\n",
       " 'wheel',\n",
       " 'turned',\n",
       " 'hog',\n",
       " 'suddenly',\n",
       " 'jerked',\n",
       " 'feet',\n",
       " 'borne',\n",
       " 'aloft',\n",
       " 'instant',\n",
       " 'car',\n",
       " 'assailed',\n",
       " 'terrifying',\n",
       " 'shriek',\n",
       " 'visitors',\n",
       " 'started',\n",
       " 'alarm',\n",
       " 'women',\n",
       " 'turned',\n",
       " 'pale',\n",
       " 'shrank',\n",
       " 'back',\n",
       " 'shriek',\n",
       " 'followed',\n",
       " 'another',\n",
       " 'louder',\n",
       " 'yet',\n",
       " 'agonizing',\n",
       " 'started',\n",
       " 'upon',\n",
       " 'journey',\n",
       " 'hog',\n",
       " 'never',\n",
       " 'came',\n",
       " 'back',\n",
       " 'top',\n",
       " 'wheel',\n",
       " 'shunted',\n",
       " 'upon',\n",
       " 'trolley',\n",
       " 'went',\n",
       " 'sailing',\n",
       " 'room',\n",
       " 'meantime',\n",
       " 'another',\n",
       " 'swung',\n",
       " 'another',\n",
       " 'another',\n",
       " 'double',\n",
       " 'line',\n",
       " 'dangling',\n",
       " 'foot',\n",
       " 'kicking',\n",
       " 'frenzy',\n",
       " 'squealing',\n",
       " 'uproar',\n",
       " 'appalling',\n",
       " 'perilous',\n",
       " 'eardrums',\n",
       " 'one',\n",
       " 'feared',\n",
       " 'much',\n",
       " 'sound',\n",
       " 'room',\n",
       " 'hold',\n",
       " 'walls',\n",
       " 'must',\n",
       " 'give',\n",
       " 'way',\n",
       " 'ceiling',\n",
       " 'crack',\n",
       " 'high',\n",
       " 'squeals',\n",
       " 'low',\n",
       " 'squeals',\n",
       " 'grunts',\n",
       " 'wails',\n",
       " 'agony',\n",
       " 'would',\n",
       " 'come',\n",
       " 'momentary',\n",
       " 'lull',\n",
       " 'fresh',\n",
       " 'outburst',\n",
       " 'louder',\n",
       " 'ever',\n",
       " 'surging',\n",
       " 'deafening',\n",
       " 'climax',\n",
       " 'much',\n",
       " 'visitors',\n",
       " 'men',\n",
       " 'would',\n",
       " 'look',\n",
       " 'laughing',\n",
       " 'nervously',\n",
       " 'women',\n",
       " 'would',\n",
       " 'stand',\n",
       " 'hands',\n",
       " 'clenched',\n",
       " 'blood',\n",
       " 'rushing',\n",
       " 'faces',\n",
       " 'tears',\n",
       " 'starting',\n",
       " 'eyes',\n",
       " 'meantime',\n",
       " 'heedless',\n",
       " 'things',\n",
       " 'men',\n",
       " 'upon',\n",
       " 'floor',\n",
       " 'going',\n",
       " 'work',\n",
       " 'neither',\n",
       " 'squeals',\n",
       " 'hogs',\n",
       " 'tears',\n",
       " 'visitors',\n",
       " 'made',\n",
       " 'difference',\n",
       " 'one',\n",
       " 'one',\n",
       " 'hooked',\n",
       " 'hogs',\n",
       " 'one',\n",
       " 'one',\n",
       " 'swift',\n",
       " 'stroke',\n",
       " 'slit',\n",
       " 'throats',\n",
       " 'long',\n",
       " 'line',\n",
       " 'hogs',\n",
       " 'squeals',\n",
       " 'lifeblood',\n",
       " 'ebbing',\n",
       " 'away',\n",
       " 'together',\n",
       " 'last',\n",
       " 'started',\n",
       " 'vanished',\n",
       " 'splash',\n",
       " 'huge',\n",
       " 'vat',\n",
       " 'boiling',\n",
       " 'water',\n",
       " 'businesslike',\n",
       " 'one',\n",
       " 'watched',\n",
       " 'fascinated',\n",
       " 'porkmaking',\n",
       " 'machinery',\n",
       " 'porkmaking',\n",
       " 'applied',\n",
       " 'mathematics',\n",
       " 'yet',\n",
       " 'somehow',\n",
       " 'matter-of-fact',\n",
       " 'person',\n",
       " 'could',\n",
       " 'help',\n",
       " 'thinking',\n",
       " 'hogs',\n",
       " 'innocent',\n",
       " 'came',\n",
       " 'trustingly',\n",
       " 'human',\n",
       " 'protests',\n",
       " 'perfectly',\n",
       " 'within',\n",
       " 'rights',\n",
       " 'done',\n",
       " 'nothing',\n",
       " 'deserve',\n",
       " 'adding',\n",
       " 'insult',\n",
       " 'injury',\n",
       " 'thing',\n",
       " 'done',\n",
       " 'swinging',\n",
       " 'cold-blooded',\n",
       " 'impersonal',\n",
       " 'way',\n",
       " 'without',\n",
       " 'pretense',\n",
       " 'apology',\n",
       " 'without',\n",
       " 'homage',\n",
       " 'tear',\n",
       " 'visitor',\n",
       " 'wept',\n",
       " 'sure',\n",
       " 'slaughtering',\n",
       " 'machine',\n",
       " 'ran',\n",
       " 'visitors',\n",
       " 'visitors',\n",
       " 'like',\n",
       " 'horrible',\n",
       " 'crime',\n",
       " 'committed',\n",
       " 'dungeon',\n",
       " 'unseen',\n",
       " 'unheeded',\n",
       " 'buried',\n",
       " 'sight',\n",
       " 'memory',\n",
       " 'one',\n",
       " 'could',\n",
       " 'stand',\n",
       " 'watch',\n",
       " 'long',\n",
       " 'without',\n",
       " 'becoming',\n",
       " 'philosophical',\n",
       " 'without',\n",
       " 'beginning',\n",
       " 'deal',\n",
       " 'symbols',\n",
       " 'similes',\n",
       " 'hear',\n",
       " 'hog',\n",
       " 'squeal',\n",
       " 'universe',\n",
       " 'permitted',\n",
       " 'believe',\n",
       " 'nowhere',\n",
       " 'upon',\n",
       " 'earth',\n",
       " 'earth',\n",
       " 'heaven',\n",
       " 'hogs',\n",
       " 'requited',\n",
       " 'suffering',\n",
       " 'one',\n",
       " 'hogs',\n",
       " 'separate',\n",
       " 'creature',\n",
       " 'white',\n",
       " 'hogs',\n",
       " 'black',\n",
       " 'brown',\n",
       " 'spotted',\n",
       " 'old',\n",
       " 'young',\n",
       " 'long',\n",
       " ...]"
      ]
     },
     "execution_count": 21,
     "metadata": {},
     "output_type": "execute_result"
    }
   ],
   "source": [
    "textList[6050:8500] "
   ]
  },
  {
   "cell_type": "markdown",
   "metadata": {},
   "source": [
    "### harish importantt"
   ]
  },
  {
   "cell_type": "code",
   "execution_count": 22,
   "metadata": {},
   "outputs": [
    {
     "name": "stdout",
     "output_type": "stream",
     "text": [
      "Displaying 25 of 72 matches:\n",
      "anation place rear room saloon part chicago known back yards. information defin\n",
      "ania hard apply stockyards district chicago quarter million inhabitants still b\n",
      "usic music home stretches arms give chicago saloons slums fade away green meado\n",
      "old stories breaking men stockyards chicago happened afterward stories make fle\n",
      "tation half hour second day arrival chicago beckoned one bosses proud made disp\n",
      "stockyards jonas friend gotten rich chicago party bound knew one word chicago n\n",
      "h chicago party bound knew one word chicago needed know least reached city tumb\n",
      "istance unable realize arrived said chicago people longer pointed direction ins\n",
      "gs things tied inside anywhere else chicago would stood good chance arrested po\n",
      "ards biggest clubhouse biggest club chicago prizefights every cockfights even d\n",
      "ll scully come aid bubbly creek arm chicago river forms southern boundary yards\n",
      "eat industry endless horrors people chicago saw government inspectors packingto\n",
      "ner later plan would floating labor chicago trained work cunning trick men teac\n",
      "ure lameness time ago elzbieta told chicago billionaire paid fortune bring grea\n",
      "way even lie die starvation gutters chicago streets oh could true monstrous hor\n",
      "ers held people district politician chicago ranked higher confidence long time \n",
      "hant way back early days whole city chicago auction growler pat given holding c\n",
      "l work least trying done since came chicago even grown strong fear grief preyed\n",
      "llowed toward end morning began see chicago past endless blocks two-story shant\n",
      "etting job packingtown chosen mayor chicago wasted time hunting secret list eve\n",
      "ast great blessing man go midwinter chicago overcoat pay jurgis walk ride five \n",
      "nt one mills great steelworks south chicago get jurgis something young lady sai\n",
      "d guest jurgis explained workingman chicago know whither bound said stay work l\n",
      "ss chapter 23 early fall jurgis set chicago joy went tramping soon man could ke\n",
      "ig irishman behind desk ever worked chicago man inquired whether good angel put\n"
     ]
    }
   ],
   "source": [
    "textList.concordance('chicago') # the text object allows us to examine concordances of different words in the text"
   ]
  },
  {
   "cell_type": "code",
   "execution_count": 23,
   "metadata": {},
   "outputs": [
    {
     "name": "stdout",
     "output_type": "stream",
     "text": [
      "city world kansas responsible lithuania crowd women place seldom\n",
      "moment\n"
     ]
    }
   ],
   "source": [
    "textList.similar('chicago', 20) # what are the words that appear in similar contexts to the word 'jurgis'? "
   ]
  },
  {
   "cell_type": "code",
   "execution_count": 24,
   "metadata": {
    "collapsed": true
   },
   "outputs": [],
   "source": [
    "textIndex = nltk.text.ContextIndex(textList) # builds a textIndex object based on the textList"
   ]
  },
  {
   "cell_type": "code",
   "execution_count": 31,
   "metadata": {},
   "outputs": [
    {
     "data": {
      "text/plain": [
       "0.025"
      ]
     },
     "execution_count": 31,
     "metadata": {},
     "output_type": "execute_result"
    }
   ],
   "source": [
    "textIndex.word_similarity_dict('chicago')['kansas'] #how similar are 'carriage' and 'elizabeth'?"
   ]
  },
  {
   "cell_type": "code",
   "execution_count": 34,
   "metadata": {},
   "outputs": [
    {
     "data": {
      "text/plain": [
       "FreqDist({('come', 'city'): 2})"
      ]
     },
     "execution_count": 34,
     "metadata": {},
     "output_type": "execute_result"
    }
   ],
   "source": [
    "textIndex.common_contexts(['chicago', 'kansas']) # what are the common contexts for the words?"
   ]
  },
  {
   "cell_type": "code",
   "execution_count": 35,
   "metadata": {},
   "outputs": [
    {
     "data": {
      "image/png": "[encoded data removed]",
      "text/plain": [
       "<matplotlib.figure.Figure at 0x7f48324b5ef0>"
      ]
     },
     "metadata": {},
     "output_type": "display_data"
    }
   ],
   "source": [
    "textList.dispersion_plot(['chicago', 'kansas']) #outputs a dispersion plot for words 'chicago' and 'packingtown'"
   ]
  },
  {
   "cell_type": "code",
   "execution_count": 37,
   "metadata": {},
   "outputs": [
    {
     "data": {
      "image/png": "[encoded data removed]",
      "text/plain": [
       "<matplotlib.figure.Figure at 0x7f48303fbcc0>"
      ]
     },
     "metadata": {},
     "output_type": "display_data"
    }
   ],
   "source": [
    "textList.dispersion_plot(['chicago', 'lithuania','kansas'])"
   ]
  },
  {
   "cell_type": "markdown",
   "metadata": {},
   "source": [
    "#### Establishing collocations in the text"
   ]
  },
  {
   "cell_type": "code",
   "execution_count": 28,
   "metadata": {},
   "outputs": [
    {
     "name": "stdout",
     "output_type": "stream",
     "text": [
      "project gutenberg-tm; teta elzbieta; project gutenberg; united states;\n",
      "guv ner; killing beds; grandmother majauszkiene; madame haupt; half\n",
      "dozen; literary archive; gutenberg-tm electronic; packing houses;\n",
      "master freddie; gutenberg literary; ashland avenue; electronic works;\n",
      "hundred dollars; archive foundation; mike scully; could get\n"
     ]
    }
   ],
   "source": [
    "textList.collocations() # obtains collocations (\"the habitual juxtaposition of a particular word with another word or words with a frequency greater than chance\"; \"a conventional way of saying things\")"
   ]
  },
  {
   "cell_type": "markdown",
   "metadata": {},
   "source": [
    "#### Exploring bigrams (a pair of consecutive written units, in our case words)"
   ]
  },
  {
   "cell_type": "code",
   "execution_count": 29,
   "metadata": {
    "collapsed": true
   },
   "outputs": [],
   "source": [
    "bigram_measures = nltk.collocations.BigramAssocMeasures() # obtains bigram association measures"
   ]
  },
  {
   "cell_type": "code",
   "execution_count": 38,
   "metadata": {},
   "outputs": [
    {
     "name": "stdout",
     "output_type": "stream",
     "text": [
      "project gutenberg-tm\n",
      "teta elzbieta\n",
      "project gutenberg\n",
      "united states\n",
      "guv ner\n",
      "killing beds\n",
      "grandmother majauszkiene\n",
      "madame haupt\n",
      "gutenberg-tm electronic\n",
      "hundred dollars\n",
      "half dozen\n",
      "electronic works\n",
      "literary archive\n",
      "gutenberg-tm works\n",
      "ho ho\n",
      "packing houses\n",
      "project electronic\n",
      "master freddie\n",
      "archive foundation\n",
      "literary foundation\n",
      "ashland avenue\n",
      "gutenberg archive\n",
      "gutenberg literary\n",
      "said jurgis\n",
      "mike scully\n",
      "tommy hinds\n",
      "per cent\n",
      "beef trust\n",
      "ole chappie\n",
      "gutenberg foundation\n",
      "project works\n",
      "half hour\n",
      "tamoszius kuszleika\n",
      "project archive\n",
      "project literary\n",
      "clock morning\n",
      "project foundation\n",
      "dede antanas\n",
      "miss henderson\n",
      "yes said\n",
      "dollars week\n",
      "could get\n",
      "tens thousands\n",
      "little stanislovas\n",
      "fertilizer mill\n",
      "dollars month\n",
      "human beings\n",
      "hundred-dollar bill\n",
      "terms agreement\n",
      "public domain\n",
      "project license\n",
      "three days\n",
      "bush harper\n",
      "lithuanians slovaks\n",
      "hundred thousand\n",
      "wild beast\n",
      "seven clock\n",
      "three dollars\n",
      "fears fears\n",
      "keep alive\n",
      "could see\n",
      "terms license\n",
      "jurgis went\n",
      "three hundred\n",
      "every one\n",
      "bank account\n",
      "men women\n",
      "patrol wagon\n",
      "set forth\n",
      "railroad tracks\n",
      "halsted street\n",
      "aunt polly\n",
      "wealth wealth\n",
      "full license\n",
      "would go\n",
      "jack duane\n",
      "five dollars\n",
      "ole sport\n",
      "point view\n",
      "three four\n",
      "gutenberg-tm license\n",
      "would come\n",
      "canning factory\n",
      "upon floor\n",
      "terms project\n",
      "sir said\n",
      "access project\n",
      "potted ham\n",
      "four clock\n",
      "paused moment\n",
      "could hardly\n",
      "buck halloran\n",
      "mrs. jukniene\n",
      "south carolina\n",
      "christmas eve\n",
      "ebook jungle\n",
      "war whoop\n",
      "hated hated\n",
      "women children\n",
      "little antanas\n",
      "access gutenberg-tm\n",
      "ye ye\n",
      "ten thousand\n",
      "electronic work\n",
      "perspiration forehead\n",
      "station house\n",
      "gutenberg ebook\n",
      "oh please\n",
      "old summertime\n",
      "section information\n",
      "two three\n",
      "marija berczynskas\n",
      "agree terms\n",
      "project trademark\n",
      "door open\n",
      "doyle republican\n",
      "chilling rooms\n",
      "new york\n",
      "freight cars\n",
      "stretching arms\n",
      "ten dollars\n",
      "door opened\n",
      "seventy-five cents\n",
      "hands clenched\n",
      "jurgis jurgis\n",
      "corned beef\n",
      "socialist movement\n",
      "wedding feast\n",
      "come back\n",
      "information project\n",
      "master frederick\n",
      "music music\n",
      "shall shall\n",
      "connor boss\n",
      "fifteen cents\n",
      "started toward\n",
      "harry adams\n",
      "jurgis heard\n",
      "every day\n",
      "members union\n",
      "twelve dollars\n",
      "rear saloon\n",
      "asked said\n",
      "day year\n",
      "old antanas\n",
      "two years\n",
      "rooms rooms\n",
      "fifteen twenty\n",
      "next morning\n",
      "great deal\n",
      "fifteen dollars\n",
      "blood poisoning\n",
      "millions dollars\n",
      "would would\n",
      "jokubas szedvilas\n",
      "cents hour\n",
      "ruin us\n",
      "children school\n",
      "would begin\n",
      "eyes fixed\n",
      "section project\n",
      "five six\n",
      "clenched hands\n",
      "terms gutenberg-tm\n",
      "could help\n",
      "upon shoulder\n",
      "project ebook\n",
      "gutenberg-tm project\n",
      "hour day\n",
      "saturday night\n",
      "dollar quarter\n",
      "gutenberg-tm work\n",
      "glass beer\n",
      "next day\n",
      "would lose\n",
      "one another\n",
      "started away\n",
      "tears eyes\n",
      "young fellow\n",
      "suddenly voice\n",
      "came back\n",
      "shook head\n",
      "yes sir\n",
      "police station\n",
      "go home\n",
      "two weeks\n",
      "pickle rooms\n",
      "old lady\n",
      "hot blood\n",
      "five miles\n",
      "late night\n",
      "lard cans\n",
      "good deal\n",
      "gutenberg-tm trademark\n",
      "packing plants\n",
      "upon platform\n",
      "sooner later\n",
      "stockyards district\n",
      "could tell\n",
      "shakes head\n",
      "opened door\n",
      "summertime good\n",
      "go back\n",
      "antanas rudkus\n",
      "side street\n",
      "stood staring\n",
      "ten years\n",
      "would get\n",
      "came home\n",
      "two hours\n",
      "closed door\n",
      "come home\n",
      "eat dinner\n",
      "every year\n",
      "night watchman\n",
      "poor devil\n",
      "speak english\n",
      "full project\n",
      "young lady\n",
      "project work\n",
      "last night\n",
      "ona stepmother\n",
      "sometimes would\n",
      "pay rent\n",
      "city council\n",
      "long ago\n",
      "three times\n",
      "cattle cattle\n",
      "around corner\n",
      "young girl\n",
      "depended upon\n",
      "heard voice\n",
      "could hear\n",
      "copies project\n",
      "went home\n",
      "teeth together\n",
      "put hand\n",
      "thousand dollars\n",
      "six clock\n",
      "two dollars\n",
      "lie lie\n",
      "end days\n",
      "get along\n",
      "every nerve\n",
      "election day\n",
      "hic ole\n",
      "nine ten\n",
      "five cents\n",
      "went back\n",
      "twenty-five dollars\n",
      "latter part\n",
      "late afternoon\n",
      "looked like\n",
      "little kotrina\n",
      "ostrinski explained\n",
      "worked rooms\n",
      "pay board\n",
      "five minutes\n",
      "six weeks\n",
      "ten minutes\n",
      "paragraph project\n",
      "go away\n",
      "minute two\n",
      "dollar day\n",
      "knew nothing\n",
      "without word\n",
      "day long\n",
      "made difference\n",
      "nothing except\n",
      "round corner\n",
      "twenty thousand\n",
      "fifty cents\n",
      "little boy\n",
      "dunno said\n",
      "would find\n",
      "full gutenberg-tm\n",
      "every hour\n",
      "one else\n",
      "voice voice\n",
      "ever since\n",
      "cousin marija\n",
      "knew knew\n",
      "dollars year\n",
      "hands tightly\n",
      "stood watched\n",
      "little fellow\n",
      "great machine\n",
      "snow ground\n",
      "men scrape\n",
      "get job\n",
      "left alone\n",
      "stood gazing\n",
      "eight ten\n",
      "gave start\n",
      "could afford\n",
      "nothing else\n",
      "fifty thousand\n",
      "jurgis sat\n",
      "cold snow\n",
      "vain would\n",
      "like dis\n",
      "asked know\n",
      "packing machine\n",
      "come america\n",
      "across street\n",
      "several times\n",
      "dependent upon\n",
      "able pay\n",
      "would take\n",
      "let go\n",
      "dollars day\n",
      "old young\n",
      "back yards\n",
      "four months\n",
      "poor elzbieta\n",
      "felt like\n",
      "honor said\n",
      "men worked\n",
      "later came\n",
      "new new\n",
      "foundation project\n",
      "two hundred\n",
      "day night\n",
      "could bear\n",
      "could keep\n",
      "two men\n",
      "work done\n",
      "keep warm\n",
      "chapter jurgis\n",
      "jonas marija\n",
      "good fortune\n",
      "never anything\n",
      "durham company\n",
      "could find\n",
      "hair eyes\n",
      "jurgis stood\n",
      "pay interest\n",
      "pay dollars\n",
      "distribute work\n",
      "without paying\n",
      "four five\n",
      "four morning\n",
      "told story\n",
      "upon earth\n",
      "big packing\n",
      "said marija\n",
      "pay month\n",
      "money pay\n",
      "black eyes\n",
      "understand word\n",
      "half minute\n",
      "along others\n",
      "might see\n",
      "spent night\n",
      "work phrase\n",
      "first time\n",
      "like possessed\n",
      "could manage\n",
      "long time\n",
      "good many\n",
      "within days\n",
      "must must\n",
      "said us\n",
      "went straight\n",
      "skilled man\n",
      "ten days\n",
      "would carry\n",
      "poor people\n",
      "asked sir\n",
      "seven morning\n",
      "one swift\n",
      "never spoken\n",
      "use gutenberg-tm\n",
      "said master\n",
      "work associated\n",
      "jurgis answered\n",
      "socialism know\n",
      "one side\n",
      "suddenly came\n",
      "men killing\n",
      "little irishman\n",
      "night home\n",
      "fixed upon\n",
      "great packing\n",
      "could understand\n",
      "went street\n",
      "sat start\n",
      "big enough\n",
      "heard behind\n",
      "two blocks\n",
      "things going\n",
      "sold city\n",
      "half dollar\n",
      "three weeks\n",
      "young men\n",
      "never seen\n",
      "set work\n",
      "like beast\n",
      "like forest\n",
      "would try\n",
      "every night\n",
      "would fling\n",
      "good part\n",
      "hands together\n",
      "suddenly heard\n",
      "run away\n",
      "never never\n",
      "men boys\n",
      "sir jurgis\n",
      "ona forelady\n",
      "work project\n",
      "three thousand\n",
      "know know\n",
      "time came\n",
      "hours day\n",
      "pay cents\n",
      "would say\n",
      "six dollars\n",
      "front door\n",
      "glad see\n",
      "never life\n",
      "gone back\n",
      "ona account\n",
      "spent half\n",
      "thing thing\n",
      "could make\n",
      "whole family\n",
      "could count\n",
      "long battle\n",
      "try get\n",
      "man could\n",
      "without without\n",
      "poor fellow\n",
      "next room\n",
      "days later\n",
      "would said\n",
      "came door\n",
      "asked answered\n",
      "might well\n",
      "said want\n",
      "want said\n",
      "might get\n",
      "enough pay\n",
      "started run\n",
      "streets city\n",
      "home night\n",
      "turned white\n",
      "jurgis knew\n",
      "five feet\n",
      "turned started\n",
      "use project\n",
      "could go\n",
      "two miles\n",
      "part money\n",
      "round hour\n",
      "hour year\n",
      "could never\n",
      "would sit\n",
      "day day\n",
      "morrow would\n",
      "next door\n",
      "year year\n",
      "chicago city\n",
      "people packingtown\n",
      "money paid\n",
      "last time\n",
      "said farmer\n",
      "feet long\n",
      "hold hands\n",
      "whole world\n",
      "yes jurgis\n",
      "turned away\n",
      "copy work\n",
      "could feel\n",
      "could without\n",
      "old man\n",
      "would perhaps\n",
      "hour hour\n",
      "could stand\n",
      "clock night\n",
      "walk home\n",
      "morning jurgis\n",
      "could longer\n",
      "twenty dollars\n",
      "three years\n",
      "never see\n",
      "got better\n",
      "said added\n",
      "suddenly door\n",
      "heard give\n",
      "old durham\n",
      "two days\n",
      "jurgis asked\n",
      "gone away\n",
      "short time\n",
      "day week\n",
      "elzbieta children\n",
      "evening home\n",
      "children food\n",
      "half later\n",
      "since morning\n",
      "sort thing\n",
      "old old\n",
      "eyes upon\n",
      "far away\n",
      "think anything\n",
      "whole city\n",
      "arms still\n",
      "ten week\n",
      "want know\n",
      "said freddie\n",
      "winter came\n",
      "oh jurgis\n",
      "ona teta\n",
      "begging work\n",
      "men work\n",
      "never heard\n",
      "make sure\n",
      "say said\n",
      "hundred year\n",
      "dollars five\n",
      "get place\n",
      "one night\n",
      "packing house\n",
      "started street\n",
      "every week\n",
      "would crawl\n",
      "get pay\n",
      "might lose\n",
      "things done\n",
      "thousand women\n",
      "two ago\n",
      "thought going\n",
      "boss man\n",
      "free every\n",
      "go get\n",
      "jurgis took\n",
      "answered know\n",
      "would lie\n",
      "would never\n",
      "could even\n",
      "gang work\n",
      "perhaps would\n",
      "thousand people\n",
      "would freeze\n",
      "would smile\n",
      "ona home\n",
      "paid week\n",
      "election came\n",
      "trying get\n",
      "men called\n",
      "jurgis started\n",
      "ona father\n",
      "said said\n",
      "job packingtown\n",
      "however came\n",
      "know said\n",
      "give money\n",
      "save money\n",
      "every cent\n",
      "right said\n",
      "end ten\n",
      "two months\n",
      "house door\n",
      "asked jurgis\n",
      "like child\n",
      "morning night\n",
      "began look\n",
      "one caught\n",
      "dollars paid\n",
      "paid dollars\n",
      "made mind\n",
      "looking work\n",
      "among men\n",
      "hey jurgis\n",
      "circumstances would\n",
      "old woman\n",
      "end hour\n",
      "hundred men\n",
      "jurgis gave\n",
      "dollars dollars\n",
      "jurgis ona\n",
      "sooner would\n",
      "good old\n",
      "men beds\n",
      "room worked\n",
      "get work\n",
      "thousand men\n",
      "like wild\n",
      "ole said\n",
      "look back\n",
      "jurgis dismay\n",
      "jurgis listened\n",
      "hours work\n",
      "stood hands\n",
      "money gone\n",
      "got jail\n",
      "last years\n",
      "enough keep\n",
      "said yes\n",
      "face hands\n",
      "one arm\n",
      "one corner\n",
      "jurgis hesitated\n",
      "elzbieta marija\n",
      "ona dead\n",
      "got money\n",
      "elzbieta money\n",
      "time station\n",
      "without even\n",
      "thought must\n",
      "said gave\n",
      "said get\n",
      "never save\n",
      "go go\n",
      "business men\n",
      "said ostrinski\n",
      "ona would\n",
      "five day\n",
      "able get\n",
      "two cents\n",
      "honor jurgis\n",
      "home eat\n",
      "jurgis explained\n",
      "would happen\n",
      "jurgis thought\n",
      "jurgis noticed\n",
      "jurgis yes\n",
      "would hang\n",
      "every morning\n",
      "enough make\n",
      "end however\n",
      "get away\n",
      "dozen men\n",
      "would break\n",
      "would pay\n",
      "would came\n",
      "thousands men\n",
      "poor old\n",
      "ran upon\n",
      "ever world\n",
      "cattle come\n",
      "fell upon\n",
      "brought back\n",
      "jurgis glance\n",
      "another another\n",
      "came last\n",
      "tried get\n",
      "well said\n",
      "hard said\n",
      "night would\n",
      "time ona\n",
      "rich man\n",
      "door however\n",
      "pay pay\n",
      "upon side\n",
      "jurgis think\n",
      "make world\n",
      "go cried\n",
      "jurgis became\n",
      "heard saw\n",
      "better could\n",
      "half cents\n",
      "turn come\n",
      "cut men\n",
      "cents day\n",
      "talk one\n",
      "dollars three\n",
      "jurgis saw\n",
      "would liked\n",
      "got place\n",
      "might put\n",
      "months time\n",
      "nothing done\n",
      "would stop\n",
      "jurgis understand\n",
      "week two\n",
      "played one\n",
      "marija answered\n",
      "jurgis said\n",
      "new country\n",
      "got home\n",
      "day work\n",
      "work day\n",
      "packers men\n",
      "poor man\n",
      "would jurgis\n",
      "could anything\n",
      "would chance\n",
      "might able\n",
      "work terms\n",
      "two feet\n",
      "said got\n",
      "meant would\n",
      "would let\n",
      "marija took\n",
      "way turned\n",
      "demanded said\n",
      "morning set\n",
      "cried said\n",
      "man met\n",
      "one could\n",
      "smile would\n",
      "would return\n",
      "could say\n",
      "called man\n",
      "ona stood\n",
      "decided would\n",
      "got job\n",
      "yet knew\n",
      "men kept\n",
      "house paid\n",
      "paid house\n",
      "here. jurgis\n",
      "said answered\n",
      "got got\n",
      "one saturday\n",
      "got boss\n",
      "job day\n",
      "could think\n",
      "time going\n",
      "two thousand\n",
      "men part\n",
      "got chance\n",
      "go said\n",
      "get used\n",
      "ever life\n",
      "jurgis met\n",
      "come next\n",
      "pay house\n",
      "might might\n",
      "door stood\n",
      "yet could\n",
      "jurgis discovered\n",
      "told night\n",
      "could along\n",
      "friends would\n",
      "much dollars\n",
      "life never\n",
      "house family\n",
      "money days\n",
      "jurgis got\n",
      "man gave\n",
      "little evening\n",
      "union men\n",
      "jurgis spent\n",
      "jurgis meant\n",
      "hour began\n",
      "jurgis found\n",
      "said thought\n",
      "demanded jurgis\n",
      "jurgis demanded\n",
      "room saw\n",
      "money much\n",
      "would stand\n",
      "even nothing\n",
      "fell like\n",
      "buy one\n",
      "hand upon\n",
      "said well\n",
      "jurgis home\n",
      "little girl\n",
      "said word\n",
      "could save\n",
      "boss would\n",
      "anything said\n",
      "look upon\n",
      "times would\n",
      "would sleep\n",
      "would start\n",
      "might go\n",
      "could realize\n",
      "could true\n",
      "jurgis looked\n",
      "would make\n",
      "money might\n",
      "many people\n",
      "every time\n",
      "thousand day\n",
      "children elzbieta\n",
      "first morning\n",
      "jurgis seen\n",
      "man might\n",
      "come far\n",
      "get anything\n",
      "one glance\n",
      "would ask\n",
      "time friends\n",
      "could could\n",
      "would help\n",
      "would keep\n",
      "go work\n",
      "hour two\n",
      "took place\n",
      "jurgis back\n",
      "drink went\n",
      "stanislovas said\n",
      "would bring\n",
      "would fall\n",
      "jurgis gang\n",
      "would better\n",
      "cold night\n",
      "night cold\n",
      "one hand\n",
      "jurgis could\n",
      "policeman came\n",
      "much two\n",
      "house house\n",
      "long paid\n",
      "would men\n",
      "got started\n",
      "could sleep\n",
      "day came\n",
      "evening jurgis\n",
      "well go\n",
      "want work\n",
      "often one\n",
      "floor men\n",
      "arm said\n",
      "nearly half\n",
      "three morning\n",
      "crowded one\n",
      "could believe\n",
      "would leave\n",
      "thing first\n",
      "another man\n",
      "took get\n",
      "fight jurgis\n",
      "said right\n",
      "nothing could\n",
      "marija take\n",
      "lost place\n",
      "said take\n",
      "new hands\n",
      "want jurgis\n",
      "told would\n",
      "quiet jurgis\n",
      "came voice\n",
      "would explain\n",
      "would school\n",
      "would surely\n",
      "men rooms\n",
      "life thing\n",
      "big money\n",
      "poor little\n",
      "went door\n",
      "one durham\n",
      "say time\n",
      "came place\n",
      "one day\n",
      "would open\n",
      "new every\n",
      "took room\n",
      "time really\n",
      "ona ona\n",
      "houses men\n",
      "never saw\n",
      "yet even\n",
      "work must\n",
      "pay got\n",
      "duane man\n",
      "met man\n",
      "would soon\n",
      "way made\n",
      "come yes\n",
      "man put\n",
      "year two\n",
      "jurgis word\n",
      "thousand every\n",
      "door room\n",
      "would hide\n",
      "would rise\n",
      "room another\n",
      "marija elzbieta\n",
      "man whose\n",
      "winter upon\n",
      "snow jurgis\n",
      "never thought\n",
      "cried jurgis\n",
      "jurgis cried\n",
      "good good\n",
      "house told\n",
      "man ever\n",
      "see said\n",
      "half day\n",
      "put upon\n",
      "place go\n",
      "marija told\n",
      "could gotten\n",
      "one thing\n",
      "door jurgis\n",
      "ona eyes\n",
      "finally came\n",
      "could job\n",
      "much could\n",
      "get without\n",
      "made made\n",
      "jurgis never\n",
      "union jurgis\n",
      "asked marija\n",
      "upon face\n",
      "failed would\n",
      "upon life\n",
      "ask could\n",
      "hard man\n",
      "part work\n",
      "one morning\n",
      "room last\n",
      "everything could\n",
      "thing even\n",
      "week marija\n",
      "would hear\n",
      "every gone\n",
      "take away\n",
      "upon feet\n",
      "would one\n",
      "whenever would\n",
      "would call\n",
      "would show\n",
      "children home\n",
      "children would\n",
      "marija marija\n",
      "way way\n",
      "would rest\n",
      "would tell\n",
      "said go\n",
      "day yards\n",
      "jurgis fright\n",
      "jurgis mr.\n",
      "jurgis please\n",
      "led jurgis\n",
      "people saw\n",
      "finally said\n",
      "jurgis day\n",
      "first day\n",
      "without ona\n",
      "two half\n",
      "next went\n",
      "money could\n",
      "things went\n",
      "time life\n",
      "another told\n",
      "one among\n",
      "get young\n",
      "said try\n",
      "die would\n",
      "hard work\n",
      "work gutenberg-tm\n",
      "jurgis fellow\n",
      "jurgis heart\n",
      "come time\n",
      "man told\n",
      "nearly every\n",
      "jurgis told\n",
      "could better\n",
      "got big\n",
      "jurgis stared\n",
      "might say\n",
      "said man\n",
      "one instant\n",
      "told go\n",
      "lay upon\n",
      "left home\n",
      "ona must\n",
      "every man\n",
      "another family\n",
      "thought might\n",
      "men working\n",
      "came began\n",
      "would often\n",
      "would turn\n",
      "find place\n",
      "would run\n",
      "meantime jurgis\n",
      "bartender jurgis\n",
      "miles jurgis\n",
      "one given\n",
      "knew would\n",
      "go help\n",
      "night went\n",
      "place gone\n",
      "time lost\n",
      "would easy\n",
      "saying would\n",
      "jurgis wait\n",
      "upon hands\n",
      "next jurgis\n",
      "end got\n",
      "night get\n",
      "went away\n",
      "work work\n",
      "know get\n",
      "money good\n",
      "good said\n",
      "bad could\n",
      "hour came\n",
      "women men\n",
      "christmas jurgis\n",
      "jurgis comrade\n",
      "hundred every\n"
     ]
    }
   ],
   "source": [
    "finder = BigramCollocationFinder.from_words(words_string, 5) # finds bigrams in the text\n",
    "finder.apply_freq_filter(5) #removes bigrams that appear less than 5 times\n",
    "bigrams = finder.nbest(bigram_measures.likelihood_ratio, 1000) #obtain the bigrams with the highest likelihood ratio\n",
    "print('\\n'.join('%s %s' % v for v in bigrams)) #printing them out"
   ]
  },
  {
   "cell_type": "markdown",
   "metadata": {},
   "source": [
    "#### Determine frequency distribution of the words "
   ]
  },
  {
   "cell_type": "code",
   "execution_count": 39,
   "metadata": {
    "collapsed": true
   },
   "outputs": [],
   "source": [
    "fdist = nltk.FreqDist(words_string)"
   ]
  },
  {
   "cell_type": "code",
   "execution_count": 40,
   "metadata": {},
   "outputs": [
    {
     "data": {
      "text/plain": [
       "'would 1199'"
      ]
     },
     "metadata": {},
     "output_type": "display_data"
    },
    {
     "data": {
      "text/plain": [
       "'jurgis 1116'"
      ]
     },
     "metadata": {},
     "output_type": "display_data"
    },
    {
     "data": {
      "text/plain": [
       "'one 766'"
      ]
     },
     "metadata": {},
     "output_type": "display_data"
    },
    {
     "data": {
      "text/plain": [
       "'could 611'"
      ]
     },
     "metadata": {},
     "output_type": "display_data"
    },
    {
     "data": {
      "text/plain": [
       "'man 468'"
      ]
     },
     "metadata": {},
     "output_type": "display_data"
    },
    {
     "data": {
      "text/plain": [
       "'upon 404'"
      ]
     },
     "metadata": {},
     "output_type": "display_data"
    },
    {
     "data": {
      "text/plain": [
       "'said 366'"
      ]
     },
     "metadata": {},
     "output_type": "display_data"
    },
    {
     "data": {
      "text/plain": [
       "'work 355'"
      ]
     },
     "metadata": {},
     "output_type": "display_data"
    },
    {
     "data": {
      "text/plain": [
       "'time 346'"
      ]
     },
     "metadata": {},
     "output_type": "display_data"
    },
    {
     "data": {
      "text/plain": [
       "'came 341'"
      ]
     },
     "metadata": {},
     "output_type": "display_data"
    },
    {
     "data": {
      "text/plain": [
       "'men 334'"
      ]
     },
     "metadata": {},
     "output_type": "display_data"
    },
    {
     "data": {
      "text/plain": [
       "'little 296'"
      ]
     },
     "metadata": {},
     "output_type": "display_data"
    },
    {
     "data": {
      "text/plain": [
       "'day 285'"
      ]
     },
     "metadata": {},
     "output_type": "display_data"
    },
    {
     "data": {
      "text/plain": [
       "'get 279'"
      ]
     },
     "metadata": {},
     "output_type": "display_data"
    },
    {
     "data": {
      "text/plain": [
       "'went 275'"
      ]
     },
     "metadata": {},
     "output_type": "display_data"
    },
    {
     "data": {
      "text/plain": [
       "'place 263'"
      ]
     },
     "metadata": {},
     "output_type": "display_data"
    },
    {
     "data": {
      "text/plain": [
       "'like 260'"
      ]
     },
     "metadata": {},
     "output_type": "display_data"
    },
    {
     "data": {
      "text/plain": [
       "'come 255'"
      ]
     },
     "metadata": {},
     "output_type": "display_data"
    },
    {
     "data": {
      "text/plain": [
       "'made 251'"
      ]
     },
     "metadata": {},
     "output_type": "display_data"
    },
    {
     "data": {
      "text/plain": [
       "'two 249'"
      ]
     },
     "metadata": {},
     "output_type": "display_data"
    },
    {
     "data": {
      "text/plain": [
       "'every 239'"
      ]
     },
     "metadata": {},
     "output_type": "display_data"
    },
    {
     "data": {
      "text/plain": [
       "'go 237'"
      ]
     },
     "metadata": {},
     "output_type": "display_data"
    },
    {
     "data": {
      "text/plain": [
       "'home 226'"
      ]
     },
     "metadata": {},
     "output_type": "display_data"
    },
    {
     "data": {
      "text/plain": [
       "'ona 224'"
      ]
     },
     "metadata": {},
     "output_type": "display_data"
    },
    {
     "data": {
      "text/plain": [
       "'might 222'"
      ]
     },
     "metadata": {},
     "output_type": "display_data"
    },
    {
     "data": {
      "text/plain": [
       "'marija 213'"
      ]
     },
     "metadata": {},
     "output_type": "display_data"
    },
    {
     "data": {
      "text/plain": [
       "'night 210'"
      ]
     },
     "metadata": {},
     "output_type": "display_data"
    },
    {
     "data": {
      "text/plain": [
       "'got 200'"
      ]
     },
     "metadata": {},
     "output_type": "display_data"
    },
    {
     "data": {
      "text/plain": [
       "'see 198'"
      ]
     },
     "metadata": {},
     "output_type": "display_data"
    },
    {
     "data": {
      "text/plain": [
       "'long 194'"
      ]
     },
     "metadata": {},
     "output_type": "display_data"
    },
    {
     "data": {
      "text/plain": [
       "'never 192'"
      ]
     },
     "metadata": {},
     "output_type": "display_data"
    },
    {
     "data": {
      "text/plain": [
       "'back 188'"
      ]
     },
     "metadata": {},
     "output_type": "display_data"
    },
    {
     "data": {
      "text/plain": [
       "'half 184'"
      ]
     },
     "metadata": {},
     "output_type": "display_data"
    },
    {
     "data": {
      "text/plain": [
       "'old 180'"
      ]
     },
     "metadata": {},
     "output_type": "display_data"
    },
    {
     "data": {
      "text/plain": [
       "'away 177'"
      ]
     },
     "metadata": {},
     "output_type": "display_data"
    },
    {
     "data": {
      "text/plain": [
       "'way 166'"
      ]
     },
     "metadata": {},
     "output_type": "display_data"
    },
    {
     "data": {
      "text/plain": [
       "'another 165'"
      ]
     },
     "metadata": {},
     "output_type": "display_data"
    },
    {
     "data": {
      "text/plain": [
       "'money 161'"
      ]
     },
     "metadata": {},
     "output_type": "display_data"
    },
    {
     "data": {
      "text/plain": [
       "'people 155'"
      ]
     },
     "metadata": {},
     "output_type": "display_data"
    },
    {
     "data": {
      "text/plain": [
       "'dollars 155'"
      ]
     },
     "metadata": {},
     "output_type": "display_data"
    },
    {
     "data": {
      "text/plain": [
       "'even 154'"
      ]
     },
     "metadata": {},
     "output_type": "display_data"
    },
    {
     "data": {
      "text/plain": [
       "'make 152'"
      ]
     },
     "metadata": {},
     "output_type": "display_data"
    },
    {
     "data": {
      "text/plain": [
       "'room 152'"
      ]
     },
     "metadata": {},
     "output_type": "display_data"
    },
    {
     "data": {
      "text/plain": [
       "'house 149'"
      ]
     },
     "metadata": {},
     "output_type": "display_data"
    },
    {
     "data": {
      "text/plain": [
       "'three 141'"
      ]
     },
     "metadata": {},
     "output_type": "display_data"
    },
    {
     "data": {
      "text/plain": [
       "'know 140'"
      ]
     },
     "metadata": {},
     "output_type": "display_data"
    },
    {
     "data": {
      "text/plain": [
       "'new 134'"
      ]
     },
     "metadata": {},
     "output_type": "display_data"
    },
    {
     "data": {
      "text/plain": [
       "'great 134'"
      ]
     },
     "metadata": {},
     "output_type": "display_data"
    },
    {
     "data": {
      "text/plain": [
       "'good 134'"
      ]
     },
     "metadata": {},
     "output_type": "display_data"
    },
    {
     "data": {
      "text/plain": [
       "'things 133'"
      ]
     },
     "metadata": {},
     "output_type": "display_data"
    },
    {
     "data": {
      "text/plain": [
       "'life 133'"
      ]
     },
     "metadata": {},
     "output_type": "display_data"
    },
    {
     "data": {
      "text/plain": [
       "'put 130'"
      ]
     },
     "metadata": {},
     "output_type": "display_data"
    },
    {
     "data": {
      "text/plain": [
       "'first 128'"
      ]
     },
     "metadata": {},
     "output_type": "display_data"
    },
    {
     "data": {
      "text/plain": [
       "'saw 127'"
      ]
     },
     "metadata": {},
     "output_type": "display_data"
    },
    {
     "data": {
      "text/plain": [
       "'nothing 127'"
      ]
     },
     "metadata": {},
     "output_type": "display_data"
    },
    {
     "data": {
      "text/plain": [
       "'family 125'"
      ]
     },
     "metadata": {},
     "output_type": "display_data"
    },
    {
     "data": {
      "text/plain": [
       "'without 124'"
      ]
     },
     "metadata": {},
     "output_type": "display_data"
    },
    {
     "data": {
      "text/plain": [
       "'last 124'"
      ]
     },
     "metadata": {},
     "output_type": "display_data"
    },
    {
     "data": {
      "text/plain": [
       "'pay 123'"
      ]
     },
     "metadata": {},
     "output_type": "display_data"
    },
    {
     "data": {
      "text/plain": [
       "'thing 123'"
      ]
     },
     "metadata": {},
     "output_type": "display_data"
    },
    {
     "data": {
      "text/plain": [
       "'told 121'"
      ]
     },
     "metadata": {},
     "output_type": "display_data"
    },
    {
     "data": {
      "text/plain": [
       "'much 120'"
      ]
     },
     "metadata": {},
     "output_type": "display_data"
    },
    {
     "data": {
      "text/plain": [
       "'hands 120'"
      ]
     },
     "metadata": {},
     "output_type": "display_data"
    },
    {
     "data": {
      "text/plain": [
       "'children 120'"
      ]
     },
     "metadata": {},
     "output_type": "display_data"
    },
    {
     "data": {
      "text/plain": [
       "'elzbieta 118'"
      ]
     },
     "metadata": {},
     "output_type": "display_data"
    },
    {
     "data": {
      "text/plain": [
       "'hour 116'"
      ]
     },
     "metadata": {},
     "output_type": "display_data"
    },
    {
     "data": {
      "text/plain": [
       "'eyes 116'"
      ]
     },
     "metadata": {},
     "output_type": "display_data"
    },
    {
     "data": {
      "text/plain": [
       "'city 116'"
      ]
     },
     "metadata": {},
     "output_type": "display_data"
    },
    {
     "data": {
      "text/plain": [
       "'door 115'"
      ]
     },
     "metadata": {},
     "output_type": "display_data"
    },
    {
     "data": {
      "text/plain": [
       "'began 111'"
      ]
     },
     "metadata": {},
     "output_type": "display_data"
    },
    {
     "data": {
      "text/plain": [
       "'morning 111'"
      ]
     },
     "metadata": {},
     "output_type": "display_data"
    },
    {
     "data": {
      "text/plain": [
       "'yet 111'"
      ]
     },
     "metadata": {},
     "output_type": "display_data"
    },
    {
     "data": {
      "text/plain": [
       "'took 110'"
      ]
     },
     "metadata": {},
     "output_type": "display_data"
    },
    {
     "data": {
      "text/plain": [
       "'face 109'"
      ]
     },
     "metadata": {},
     "output_type": "display_data"
    },
    {
     "data": {
      "text/plain": [
       "'take 108'"
      ]
     },
     "metadata": {},
     "output_type": "display_data"
    },
    {
     "data": {
      "text/plain": [
       "'also 108'"
      ]
     },
     "metadata": {},
     "output_type": "display_data"
    },
    {
     "data": {
      "text/plain": [
       "'stood 107'"
      ]
     },
     "metadata": {},
     "output_type": "display_data"
    },
    {
     "data": {
      "text/plain": [
       "'end 107'"
      ]
     },
     "metadata": {},
     "output_type": "display_data"
    },
    {
     "data": {
      "text/plain": [
       "'knew 104'"
      ]
     },
     "metadata": {},
     "output_type": "display_data"
    },
    {
     "data": {
      "text/plain": [
       "'turned 102'"
      ]
     },
     "metadata": {},
     "output_type": "display_data"
    },
    {
     "data": {
      "text/plain": [
       "'big 102'"
      ]
     },
     "metadata": {},
     "output_type": "display_data"
    },
    {
     "data": {
      "text/plain": [
       "'still 102'"
      ]
     },
     "metadata": {},
     "output_type": "display_data"
    },
    {
     "data": {
      "text/plain": [
       "'set 102'"
      ]
     },
     "metadata": {},
     "output_type": "display_data"
    },
    {
     "data": {
      "text/plain": [
       "'world 101'"
      ]
     },
     "metadata": {},
     "output_type": "display_data"
    },
    {
     "data": {
      "text/plain": [
       "'found 99'"
      ]
     },
     "metadata": {},
     "output_type": "display_data"
    },
    {
     "data": {
      "text/plain": [
       "'well 95'"
      ]
     },
     "metadata": {},
     "output_type": "display_data"
    },
    {
     "data": {
      "text/plain": [
       "'enough 93'"
      ]
     },
     "metadata": {},
     "output_type": "display_data"
    },
    {
     "data": {
      "text/plain": [
       "'thought 93'"
      ]
     },
     "metadata": {},
     "output_type": "display_data"
    },
    {
     "data": {
      "text/plain": [
       "'say 92'"
      ]
     },
     "metadata": {},
     "output_type": "display_data"
    },
    {
     "data": {
      "text/plain": [
       "'must 92'"
      ]
     },
     "metadata": {},
     "output_type": "display_data"
    },
    {
     "data": {
      "text/plain": [
       "'hundred 92'"
      ]
     },
     "metadata": {},
     "output_type": "display_data"
    },
    {
     "data": {
      "text/plain": [
       "'ever 92'"
      ]
     },
     "metadata": {},
     "output_type": "display_data"
    },
    {
     "data": {
      "text/plain": [
       "'left 91'"
      ]
     },
     "metadata": {},
     "output_type": "display_data"
    },
    {
     "data": {
      "text/plain": [
       "'floor 91'"
      ]
     },
     "metadata": {},
     "output_type": "display_data"
    },
    {
     "data": {
      "text/plain": [
       "'sat 91'"
      ]
     },
     "metadata": {},
     "output_type": "display_data"
    },
    {
     "data": {
      "text/plain": [
       "'many 91'"
      ]
     },
     "metadata": {},
     "output_type": "display_data"
    },
    {
     "data": {
      "text/plain": [
       "'women 91'"
      ]
     },
     "metadata": {},
     "output_type": "display_data"
    },
    {
     "data": {
      "text/plain": [
       "'gave 89'"
      ]
     },
     "metadata": {},
     "output_type": "display_data"
    },
    {
     "data": {
      "text/plain": [
       "'week 89'"
      ]
     },
     "metadata": {},
     "output_type": "display_data"
    },
    {
     "data": {
      "text/plain": [
       "'head 88'"
      ]
     },
     "metadata": {},
     "output_type": "display_data"
    }
   ],
   "source": [
    "for word, frequency in fdist.most_common(100): #finds most common words in the text\n",
    "    display (\"%s %d\" % (str(word), frequency)) "
   ]
  },
  {
   "cell_type": "markdown",
   "metadata": {},
   "source": [
    "#### Cumulative distribution of 50 most frequently used words"
   ]
  },
  {
   "cell_type": "code",
   "execution_count": 43,
   "metadata": {},
   "outputs": [
    {
     "data": {
      "image/png": "[encoded data removed]",
      "text/plain": [
       "<matplotlib.figure.Figure at 0x7f482ff43e10>"
      ]
     },
     "metadata": {},
     "output_type": "display_data"
    }
   ],
   "source": [
    "fdist.plot(50, cumulative=False)"
   ]
  },
  {
   "cell_type": "markdown",
   "metadata": {},
   "source": [
    "#### Determining the window size "
   ]
  },
  {
   "cell_type": "code",
   "execution_count": 44,
   "metadata": {
    "collapsed": true
   },
   "outputs": [],
   "source": [
    "# If we are interested in examining the surrounding context of a particular word in the text, we need to decide on the parameters of that context.\n",
    "# If, for example, we are interested in three words that precede a particular word and three words after then we are interested in a 7-word window size.\n",
    "# This window size can be established as follows:\n",
    "ngrams = [words_string[i:i+7] for i in range(len(words_string)-6)]# http://digitalhistoryhacks.blogspot.com/2006/08/easy-pieces-in-python-keyword-in.html\n",
    "    \n",
    "kwicdict = {}           # opens up a kwicdict        \n",
    "for n in ngrams: #indexes the fourth word in a sliding window of 7 (three words on each side) \n",
    "    if n[3] not in kwicdict: \n",
    "        kwicdict[n[3]] = [n]\n",
    "    else:\n",
    "        kwicdict[n[3]].append(n)"
   ]
  },
  {
   "cell_type": "markdown",
   "metadata": {},
   "source": [
    "#### Keyword in context"
   ]
  },
  {
   "cell_type": "code",
   "execution_count": 46,
   "metadata": {},
   "outputs": [
    {
     "name": "stdout",
     "output_type": "stream",
     "text": [
      "              room saloon part   chicago   known back yards.\n",
      "     apply stockyards district   chicago   quarter million inhabitants\n",
      "           stretches arms give   chicago   saloons slums fade\n",
      "       breaking men stockyards   chicago   happened afterward stories\n",
      "            second day arrival   chicago   beckoned one bosses\n",
      "            friend gotten rich   chicago   party bound knew\n",
      "                 knew one word   chicago   needed know least\n",
      "          realize arrived said   chicago   people longer pointed\n",
      "          inside anywhere else   chicago   would stood good\n",
      "        clubhouse biggest club   chicago   prizefights every cockfights\n",
      "              bubbly creek arm   chicago   river forms southern\n",
      "        endless horrors people   chicago   saw government inspectors\n",
      "          would floating labor   chicago   trained work cunning\n",
      "             ago elzbieta told   chicago   billionaire paid fortune\n",
      "        die starvation gutters   chicago   streets oh could\n",
      "    people district politician   chicago   ranked higher confidence\n",
      "               days whole city   chicago   auction growler pat\n",
      "               done since came   chicago   even grown strong\n",
      "             morning began see   chicago   past endless blocks\n",
      "      packingtown chosen mayor   chicago   wasted time hunting\n",
      "              man go midwinter   chicago   overcoat pay jurgis\n",
      "        great steelworks south   chicago   get jurgis something\n",
      "   jurgis explained workingman   chicago   know whither bound\n",
      "               fall jurgis set   chicago   joy went tramping\n",
      "              desk ever worked   chicago   man inquired whether\n",
      "  corporation proceeded tunnel   chicago   system railway freight-subways\n",
      "    falsified crimes committed   chicago   big capitalists got\n",
      "         half toiled merchants   chicago   enable break grip\n",
      "                 pay want quit   chicago   jurgis place go\n",
      "     high-class criminal world   chicago   city owned oligarchy\n",
      "   proprietors notorious dives   chicago   also gray wolves\n",
      "      emergency thousands came   chicago   answering advertisements servants\n",
      "           jaw fellow stranger   chicago   found night head\n",
      "        cracked heads gamblers   chicago   inquired would coming\n",
      "            lord district boss   chicago   mayor scully owned\n",
      "      two-thirds unskilled men   chicago   latter receiving part\n",
      "        hundred thousand right   chicago   packers let union\n",
      "       inadequate police force   chicago   suddenly diverted work\n",
      "          women dregs brothels   chicago   men part ignorant\n",
      "             streetcar got end   chicago   chapter 27 poor\n",
      "             gates never since   chicago   stood less chance\n",
      "        months twenty thousand   chicago   many seeking work\n",
      "            wanted. would left   chicago   time realized danger\n",
      "                  day time one   chicago   newspapers made much\n",
      "               noise come held   chicago   far proven dismal\n",
      "          scully tenpin setter   chicago   board aldermen truth\n",
      "                come home come   chicago   city to-night ten\n",
      "          may waiting to-night   chicago   ten thousand men\n",
      "           winter cold tonight   chicago   hundred thousand children\n",
      "     always progress encourage   chicago   instance movement growing\n",
      "          growing leaps bounds   chicago   industrial center country\n",
      "        also monthly published   chicago   cooperative publishing house\n",
      "          ostrinski first came   chicago   ostrinski pole fifty\n",
      "   corruption everyday methods   chicago   city government simply\n",
      "           fortune passing one   chicago   innumerable small hotels\n",
      "                 got best boss   chicago   state organizer party\n",
      "             hinds put savings   chicago   real estate set\n",
      "           rest talk socialism   chicago   hinds hotel hot-bed\n",
      "                sold farm come   chicago   amos struver harry\n",
      "                adams got last   chicago   joined socialist party\n",
      "               raiser apt find   chicago   without money enough\n",
      "               party ten years   chicago   strike hundred fifty\n",
      "              man named fisher   chicago   millionaire given life\n",
      "              july would leave   chicago   vacation foot struck\n",
      "        increase actually made   chicago   state vote city\n",
      "      legislature elected thus   chicago   led country set\n",
      "      thousand socialist votes   chicago   means municipal-ownership democracy\n",
      "                try give party   chicago   greatest opportunity ever\n",
      "  rallying outraged workingmen   chicago   standard shall organize\n",
      "                shall sweep us   chicago   chicago chicago end\n",
      "              sweep us chicago   chicago   chicago end project\n",
      "            us chicago chicago   chicago   end project gutenberg\n"
     ]
    }
   ],
   "source": [
    "for n in kwicdict['chicago']: # nicely formatted output for the word we are interested in determining the context for\n",
    "    outstring = ' '.join(n[:3]).rjust(30) #output as a string and right justify first three words in the sliding window\n",
    "    outstring += str(n[3]).center(len(n[3])+6) # output as a string and center fourth word in the sliding window\n",
    "    outstring += ' '.join(n[4:]) # output as a string last three words in the sliding window of 7 consecutive words in the text\n",
    "    print(outstring)"
   ]
  },
  {
   "cell_type": "code",
   "execution_count": null,
   "metadata": {
    "collapsed": true
   },
   "outputs": [],
   "source": []
  }
 ],
 "metadata": {
  "anaconda-cloud": {},
  "kernelspec": {
   "display_name": "Python 3",
   "language": "python",
   "name": "python3"
  },
  "language_info": {
   "codemirror_mode": {
    "name": "ipython",
    "version": 3
   },
   "file_extension": ".py",
   "mimetype": "text/x-python",
   "name": "python",
   "nbconvert_exporter": "python",
   "pygments_lexer": "ipython3",
   "version": "3.5.2"
  }
 },
 "nbformat": 4,
 "nbformat_minor": 1
}
