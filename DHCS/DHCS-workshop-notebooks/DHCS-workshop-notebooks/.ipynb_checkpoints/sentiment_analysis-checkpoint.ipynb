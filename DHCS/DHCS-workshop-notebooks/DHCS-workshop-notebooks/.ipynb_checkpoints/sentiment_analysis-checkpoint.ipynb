{
 "cells": [
  {
   "cell_type": "markdown",
   "metadata": {},
   "source": [
    "# Sentiment analysis"
   ]
  },
  {
   "cell_type": "markdown",
   "metadata": {},
   "source": [
    "#### Importing the libraries for sentiment analysis"
   ]
  },
  {
   "cell_type": "code",
   "execution_count": 1,
   "metadata": {},
   "outputs": [
    {
     "name": "stderr",
     "output_type": "stream",
     "text": [
      "/usr/local/lib/python2.7/dist-packages/nltk/twitter/__init__.py:20: UserWarning: The twython library has not been installed. Some functionality from the twitter package will not be available.\n",
      "  warnings.warn(\"The twython library has not been installed. \"\n"
     ]
    }
   ],
   "source": [
    "import nltk\n",
    "from nltk.stem import WordNetLemmatizer # imports WordNetLemmatizer\n",
    "from nltk.corpus import wordnet as wn # imports Wordnet corpus\n",
    "from nltk.corpus import sentiwordnet as swn # imports SentiWordNet\n",
    "from nltk.sentiment.vader import SentimentIntensityAnalyzer #imports the Vader module for analyzing sentiment"
   ]
  },
  {
   "cell_type": "markdown",
   "metadata": {},
   "source": [
    "#### Importing the libraries for opening up the file and common processing tasks "
   ]
  },
  {
   "cell_type": "code",
   "execution_count": 2,
   "metadata": {},
   "outputs": [],
   "source": [
    "from IPython.display import display\n",
    "import string\n",
    "import urllib2\n",
    "import os\n",
    "import re\n",
    "from collections import OrderedDict\n",
    "import sys\n",
    "import codecs\n",
    "codecs.register_error(\"strict\", codecs.ignore_errors)"
   ]
  },
  {
   "cell_type": "code",
   "execution_count": 3,
   "metadata": {},
   "outputs": [],
   "source": [
    "import nltk\n",
    "from IPython.display import display\n",
    "import string\n",
    "from string import punctuation\n",
    "# import urllib2\n",
    "import os\n",
    "import re\n",
    "import collections\n",
    "from collections import OrderedDict"
   ]
  },
  {
   "cell_type": "markdown",
   "metadata": {},
   "source": [
    "### Preprocessing the text"
   ]
  },
  {
   "cell_type": "code",
   "execution_count": 4,
   "metadata": {},
   "outputs": [
    {
     "data": {
      "text/plain": [
       "u' THE JUNGLE ***     Produced by David Meltzer, Christy Phillips, Scott Coulter, Leroy Smith and David Widger       THE JUNGLE  by Upton Sinclair   (1906)      Chapter 1   It was four oclock when the ceremony was over and the carriages began to arrive. There had been a crowd following all the way, owing to the exuberance of Marija Berczynskas. The occasion rested heavily upon Marijas broad shoulders--it was her task to see that all things went in due form, and after the best home traditions; and, flying wildly hither and thither, bowling every one out of the way, and scolding and exhorting all day with her tremendous voice, Marija was too eager to see that others conformed to the proprieties to consider them herself. She had left the church last of all, and, desiring to arrive first at the hall, had issued orders to the coachman to drive faster. When that personage had developed a will of his own in the matter, Marija had flung up the window of the carriage, and, leaning out, proceeded to tell him her opinion of him, first in Lithuanian, which he did not understand, and then in Polish, which he did. Having the advantage of her in altitude, the driver had stood his ground and even ventured to attempt to speak; and the result had been a furious altercation, which, continuing all the way down Ashland Avenue, had added a new swarm of urchins to the cortege at each side street for half a mile.  This was unfortunate, for already there was a throng before the door. The music had started up, and half a block away you could hear the dull broom, broom of a cello, with the squeaking of two fiddles which vied with each other in intricate and altitudinous gymnastics. Seeing the throng, Marija abandoned precipitately the debate concerning the ancestors of her coachman, and, springing from the moving carriage, plunged in and proceeded to clear a way to the hall. Once within, she turned and began to push the other way, roaring, meantime, Eik! Eik! Uzdaryk-duris! in tones which made the orchestral uproar sound like fairy music.  Z. Graiczunas, Pasilinksminimams darzas. Vynas. Sznapsas. Wines and Liquors. Union Headquarters--that was the way the signs ran. The reader, who perhaps has never held much converse in the language of far-off Lithuania, will be glad of the explanation that the place was the rear room of a saloon in that part of Chicago known as back of the yards. This information is definite and suited to the matter of fact; but how pitifully inadequate it would have seemed to one who understood that it was also the supreme hour of ecstasy in the life of one of Gods gentlest creatures, the scene of the wedding feast and the joy-transfiguration of little Ona Lukoszaite!  She stood in the doorway, shepherded by Cousin Marija, breathless from pushing through the crowd, and in her happiness painful to look upon. There was a light of wonder in her eyes and her lids trembled, and her otherwise wan little face was flushed. She wore a muslin dress, conspicuously white, and a stiff little veil coming to her shoulders. There were five pink paper roses twisted in the veil, and eleven bright green rose leaves. There were new white cotton gloves upon her hands, and as she stood staring about her she twisted them together feverishly. It was almost too much for her--you could see the pain of too great emotion in her face, and all the tremor of her form. She was so young--not quite sixteen--and small for her age, a mere child; and she had just been married--and married to Jurgis,* (*Pronounced Yoorghis) of all men, to Jurgis Rudkus, he with the white flower in the buttonhole of his new black suit, he with the mighty shoulders and the giant hands.  Ona was blue-eyed and fair, while Jurgis had great black eyes with beetling brows, and thick black hair that curled in waves about his ears--in short, they were one of those incongruous and impossible married couples with which Mother Nature so often wills to confound all prophets, before and after. Jurgis could take up a two-hundred-and-fifty-pound quarter of beef and carry it into a car without a stagger, or even a thought; and now he stood in a far corner, frightened as a hunted animal, and obliged to moisten his lips with his tongue each time before he could answer the congratulations of his friends.  Gradually there was effected a separation between the spectators and the guests--a separation at least sufficiently complete for working purposes. There was no time during the festivities which ensued when there were not groups of onlookers in the doorways and the corners; and if any one of these onlookers came sufficiently close, or looked sufficiently hungry, a chair was offered him, and he was invited to the feast. It was one of the laws of the veselija that no one goes hungry; and, while a rule made in the forests of Lithuania is hard to apply in the stockyards district of Chicago, with its quarter of a million inhabitants, still they did their best, and the children who ran in from the street, and even the dogs, went out again happier. A charming informality was one of the characteristics of this celebration. The men wore their hats, or, if they wished, they took them off, and their coats with them; they ate when and where they pleased, and moved as often as they pleased. There were to be speeches and singing, but no one had to listen who did not care to; if he wished, meantime, to speak or sing himself, he was perfectly free. The resulting medley of sound distracted no one, save possibly alone the babies, of which there were present a number equal to the total possessed by all the guests invited. There was no other place for the babies to be, and so part of the preparations for the evening consisted of a collection of cribs and carriages in one corner. In these the babies slept, three or four together, or wakened together, as the case might be. Those who were still older, and could reach the tables, marched about munching contentedly at meat bones and bologna sausages.   The room is about thirty feet square, with whitewashed walls, bare save for a calendar, a picture of a race horse, and a family tree in a gilded frame. To the right there is a door from the saloon, with a few loafers in the doorway, and in the corner beyond it a bar, with a presiding genius clad in soiled white, with waxed black mustaches and a carefully oiled curl plastered against one side of his forehead. In the opposite corner are two tables, filling a third of the room and laden with dishes and cold viands, which a few of the hungrier guests are already munching. At the head, where sits the bride, is a snow-white cake, with an Eiffel tower of constructed decoration, with sugar roses and two angels upon it, and a generous sprinkling of pink and green and yellow candies. Beyond opens a door into the kitchen, where there is a glimpse to be had of a range with much steam ascending from it, and many women, old and young, rushing hither and thither. In the corner to the left are the three musicians, upon a little platform, toiling heroically to make some impression upon the hubbub; also the babies, similarly occupied, and an open window whence the populace imbibes the sights and sounds and odors.  Suddenly some of the steam begins to advance, and, peering through it, you discern Aunt Elizabeth, Onas stepmother--Teta Elzbieta, as they call her--bearing aloft a great platter of stewed duck. Behind her is Kotrina, making her way cautiously, staggering beneath a similar burden; and half a minute later there appears old Grandmother Majauszkiene, with a big yellow bowl of smoking potatoes, nearly as big as herself. So, bit by bit, the feast takes form--there is a ham and a dish of sauerkraut, boiled rice, macaroni, bologna sausages, great piles of penny buns, bowls of milk, and foaming pitchers of beer. There is also, not six feet from your back, the bar, where you may order all you please and do not have to pay for it. Eiksz! Graicziau! screams Marija Berczynskas, and falls to work herself--for there is more upon the stove inside that will be spoiled if it be not eaten.  So, with laughter and shouts and endless badinage and merriment, the guests take their places. The young men, who for the most part have been huddled near the door, summon their resolution and advance; and the shrinking Jurgis is poked and scolded by the old folks until he consents to seat himself at the right hand of the bride. The two bridesmaids, whose insignia of office are paper wreaths, come next, and after them the rest of the guests, old and young, boys and girls. The spirit of the occasion takes hold of the stately bartender, who condescends to a plate of stewed duck; even the fat policeman--whose duty it will be, later in the evening, to break up the fights--draws up a chair to the foot of the table. And the children shout and the babies yell, and every one laughs and sings and chatters--while above all the deafening clamor Cousin Marija shouts orders to the musicians.  The musicians--how shall one begin to describe them? All this time they have been there, playing in a mad frenzy--all of this scene must be read, or said, or sung, to music. It is the music which makes it what it is; it is the music which changes the place from the rear room of a saloon in back of the yards to a fairy place, a wonderland, a little corner of the high mansions of the sky.  The little person who leads this trio is an inspired man. His fiddle is out of tune, and there is no rosin on his bow, but still he is an inspired man--the hands of the muses have been laid upon him. He plays like one possessed by a demon, by a whole horde of demons. You can feel them in the air round about him, capering frenetically; with their invisible feet they set the pace, and the hair of the leader of the orchestra rises on end, and his eyeballs start from their sockets, as he toils to keep up with them.  Tamoszius Kuszleika is his name, and he has taught himself to play the violin by practi'"
      ]
     },
     "execution_count": 4,
     "metadata": {},
     "output_type": "execute_result"
    }
   ],
   "source": [
    "url = \"https://www.gutenberg.org/files/140/140-0.txt\" #assigns a link to a variable\n",
    "data = urllib2.urlopen(url.encode('utf-8')).read() #opens up the link/file\n",
    "data = data.replace(\"\\r\\n\", \" \")\n",
    "data = re.sub('^(.*?)START OF THIS PROJECT GUTENBERG EBOOK', '', data) #removes Project Gutenberg metadata\n",
    "data = re.sub('End of the Project Gutenberg(.*?)$', '', data)#removes Project Gutenberg metadata\n",
    "data = unicode(data, errors=\"ignore\") # ignores encoding errors\n",
    "data[:10000]\n",
    "#Alternative texts to use\n",
    "#https://www.gutenberg.org/files/140/140-0.txt The Jungle by Upton Sinclair\n",
    "# https://www.gutenberg.org/files/1342/1342-0.txt Pride and Prejudice by Jane Austen\n",
    "#https://www.gutenberg.org/files/543/543-0.txt The Main Street by Sinclair Lewis"
   ]
  },
  {
   "cell_type": "code",
   "execution_count": 5,
   "metadata": {
    "collapsed": true
   },
   "outputs": [],
   "source": [
    "sentences = nltk.sent_tokenize(data) #sentence tokenization"
   ]
  },
  {
   "cell_type": "code",
   "execution_count": 6,
   "metadata": {},
   "outputs": [
    {
     "data": {
      "text/plain": [
       "[u' THE JUNGLE ***     Produced by David Meltzer, Christy Phillips, Scott Coulter, Leroy Smith and David Widger       THE JUNGLE  by Upton Sinclair   (1906)      Chapter 1   It was four oclock when the ceremony was over and the carriages began to arrive.',\n",
       " u'There had been a crowd following all the way, owing to the exuberance of Marija Berczynskas.',\n",
       " u'The occasion rested heavily upon Marijas broad shoulders--it was her task to see that all things went in due form, and after the best home traditions; and, flying wildly hither and thither, bowling every one out of the way, and scolding and exhorting all day with her tremendous voice, Marija was too eager to see that others conformed to the proprieties to consider them herself.',\n",
       " u'She had left the church last of all, and, desiring to arrive first at the hall, had issued orders to the coachman to drive faster.',\n",
       " u'When that personage had developed a will of his own in the matter, Marija had flung up the window of the carriage, and, leaning out, proceeded to tell him her opinion of him, first in Lithuanian, which he did not understand, and then in Polish, which he did.',\n",
       " u'Having the advantage of her in altitude, the driver had stood his ground and even ventured to attempt to speak; and the result had been a furious altercation, which, continuing all the way down Ashland Avenue, had added a new swarm of urchins to the cortege at each side street for half a mile.',\n",
       " u'This was unfortunate, for already there was a throng before the door.',\n",
       " u'The music had started up, and half a block away you could hear the dull broom, broom of a cello, with the squeaking of two fiddles which vied with each other in intricate and altitudinous gymnastics.',\n",
       " u'Seeing the throng, Marija abandoned precipitately the debate concerning the ancestors of her coachman, and, springing from the moving carriage, plunged in and proceeded to clear a way to the hall.',\n",
       " u'Once within, she turned and began to push the other way, roaring, meantime, Eik!',\n",
       " u'Eik!',\n",
       " u'Uzdaryk-duris!',\n",
       " u'in tones which made the orchestral uproar sound like fairy music.',\n",
       " u'Z. Graiczunas, Pasilinksminimams darzas.',\n",
       " u'Vynas.',\n",
       " u'Sznapsas.',\n",
       " u'Wines and Liquors.',\n",
       " u'Union Headquarters--that was the way the signs ran.',\n",
       " u'The reader, who perhaps has never held much converse in the language of far-off Lithuania, will be glad of the explanation that the place was the rear room of a saloon in that part of Chicago known as back of the yards.',\n",
       " u'This information is definite and suited to the matter of fact; but how pitifully inadequate it would have seemed to one who understood that it was also the supreme hour of ecstasy in the life of one of Gods gentlest creatures, the scene of the wedding feast and the joy-transfiguration of little Ona Lukoszaite!',\n",
       " u'She stood in the doorway, shepherded by Cousin Marija, breathless from pushing through the crowd, and in her happiness painful to look upon.',\n",
       " u'There was a light of wonder in her eyes and her lids trembled, and her otherwise wan little face was flushed.',\n",
       " u'She wore a muslin dress, conspicuously white, and a stiff little veil coming to her shoulders.',\n",
       " u'There were five pink paper roses twisted in the veil, and eleven bright green rose leaves.',\n",
       " u'There were new white cotton gloves upon her hands, and as she stood staring about her she twisted them together feverishly.',\n",
       " u'It was almost too much for her--you could see the pain of too great emotion in her face, and all the tremor of her form.',\n",
       " u'She was so young--not quite sixteen--and small for her age, a mere child; and she had just been married--and married to Jurgis,* (*Pronounced Yoorghis) of all men, to Jurgis Rudkus, he with the white flower in the buttonhole of his new black suit, he with the mighty shoulders and the giant hands.',\n",
       " u'Ona was blue-eyed and fair, while Jurgis had great black eyes with beetling brows, and thick black hair that curled in waves about his ears--in short, they were one of those incongruous and impossible married couples with which Mother Nature so often wills to confound all prophets, before and after.',\n",
       " u'Jurgis could take up a two-hundred-and-fifty-pound quarter of beef and carry it into a car without a stagger, or even a thought; and now he stood in a far corner, frightened as a hunted animal, and obliged to moisten his lips with his tongue each time before he could answer the congratulations of his friends.',\n",
       " u'Gradually there was effected a separation between the spectators and the guests--a separation at least sufficiently complete for working purposes.',\n",
       " u'There was no time during the festivities which ensued when there were not groups of onlookers in the doorways and the corners; and if any one of these onlookers came sufficiently close, or looked sufficiently hungry, a chair was offered him, and he was invited to the feast.',\n",
       " u'It was one of the laws of the veselija that no one goes hungry; and, while a rule made in the forests of Lithuania is hard to apply in the stockyards district of Chicago, with its quarter of a million inhabitants, still they did their best, and the children who ran in from the street, and even the dogs, went out again happier.',\n",
       " u'A charming informality was one of the characteristics of this celebration.',\n",
       " u'The men wore their hats, or, if they wished, they took them off, and their coats with them; they ate when and where they pleased, and moved as often as they pleased.',\n",
       " u'There were to be speeches and singing, but no one had to listen who did not care to; if he wished, meantime, to speak or sing himself, he was perfectly free.',\n",
       " u'The resulting medley of sound distracted no one, save possibly alone the babies, of which there were present a number equal to the total possessed by all the guests invited.',\n",
       " u'There was no other place for the babies to be, and so part of the preparations for the evening consisted of a collection of cribs and carriages in one corner.',\n",
       " u'In these the babies slept, three or four together, or wakened together, as the case might be.',\n",
       " u'Those who were still older, and could reach the tables, marched about munching contentedly at meat bones and bologna sausages.',\n",
       " u'The room is about thirty feet square, with whitewashed walls, bare save for a calendar, a picture of a race horse, and a family tree in a gilded frame.',\n",
       " u'To the right there is a door from the saloon, with a few loafers in the doorway, and in the corner beyond it a bar, with a presiding genius clad in soiled white, with waxed black mustaches and a carefully oiled curl plastered against one side of his forehead.',\n",
       " u'In the opposite corner are two tables, filling a third of the room and laden with dishes and cold viands, which a few of the hungrier guests are already munching.',\n",
       " u'At the head, where sits the bride, is a snow-white cake, with an Eiffel tower of constructed decoration, with sugar roses and two angels upon it, and a generous sprinkling of pink and green and yellow candies.',\n",
       " u'Beyond opens a door into the kitchen, where there is a glimpse to be had of a range with much steam ascending from it, and many women, old and young, rushing hither and thither.',\n",
       " u'In the corner to the left are the three musicians, upon a little platform, toiling heroically to make some impression upon the hubbub; also the babies, similarly occupied, and an open window whence the populace imbibes the sights and sounds and odors.',\n",
       " u'Suddenly some of the steam begins to advance, and, peering through it, you discern Aunt Elizabeth, Onas stepmother--Teta Elzbieta, as they call her--bearing aloft a great platter of stewed duck.',\n",
       " u'Behind her is Kotrina, making her way cautiously, staggering beneath a similar burden; and half a minute later there appears old Grandmother Majauszkiene, with a big yellow bowl of smoking potatoes, nearly as big as herself.',\n",
       " u'So, bit by bit, the feast takes form--there is a ham and a dish of sauerkraut, boiled rice, macaroni, bologna sausages, great piles of penny buns, bowls of milk, and foaming pitchers of beer.',\n",
       " u'There is also, not six feet from your back, the bar, where you may order all you please and do not have to pay for it.',\n",
       " u'Eiksz!',\n",
       " u'Graicziau!',\n",
       " u'screams Marija Berczynskas, and falls to work herself--for there is more upon the stove inside that will be spoiled if it be not eaten.',\n",
       " u'So, with laughter and shouts and endless badinage and merriment, the guests take their places.',\n",
       " u'The young men, who for the most part have been huddled near the door, summon their resolution and advance; and the shrinking Jurgis is poked and scolded by the old folks until he consents to seat himself at the right hand of the bride.',\n",
       " u'The two bridesmaids, whose insignia of office are paper wreaths, come next, and after them the rest of the guests, old and young, boys and girls.',\n",
       " u'The spirit of the occasion takes hold of the stately bartender, who condescends to a plate of stewed duck; even the fat policeman--whose duty it will be, later in the evening, to break up the fights--draws up a chair to the foot of the table.',\n",
       " u'And the children shout and the babies yell, and every one laughs and sings and chatters--while above all the deafening clamor Cousin Marija shouts orders to the musicians.',\n",
       " u'The musicians--how shall one begin to describe them?',\n",
       " u'All this time they have been there, playing in a mad frenzy--all of this scene must be read, or said, or sung, to music.',\n",
       " u'It is the music which makes it what it is; it is the music which changes the place from the rear room of a saloon in back of the yards to a fairy place, a wonderland, a little corner of the high mansions of the sky.',\n",
       " u'The little person who leads this trio is an inspired man.',\n",
       " u'His fiddle is out of tune, and there is no rosin on his bow, but still he is an inspired man--the hands of the muses have been laid upon him.',\n",
       " u'He plays like one possessed by a demon, by a whole horde of demons.',\n",
       " u'You can feel them in the air round about him, capering frenetically; with their invisible feet they set the pace, and the hair of the leader of the orchestra rises on end, and his eyeballs start from their sockets, as he toils to keep up with them.',\n",
       " u'Tamoszius Kuszleika is his name, and he has taught himself to play the violin by practicing all night, after working all day on the killing beds.',\n",
       " u'He is in his shirt sleeves, with a vest figured with faded gold horseshoes, and a pink-striped shirt, suggestive of peppermint candy.',\n",
       " u'A pair of military trousers, light blue with a yellow stripe, serve to give that suggestion of authority proper to the leader of a band.',\n",
       " u'He is only about five feet high, but even so these trousers are about eight inches short of the ground.',\n",
       " u'You wonder where he can have gotten them or rather you would wonder, if the excitement of being in his presence left you time to think of such things.',\n",
       " u'For he is an inspired man.',\n",
       " u'Every inch of him is inspired--you might almost say inspired separately.',\n",
       " u'He stamps with his feet, he tosses his head, he sways and swings to and fro; he has a wizened-up little face, irresistibly comical; and, when he executes a turn or a flourish, his brows knit and his lips work and his eyelids wink--the very ends of his necktie bristle out.',\n",
       " u'And every now and then he turns upon his companions, nodding, signaling, beckoning frantically--with every inch of him appealing, imploring, in behalf of the muses and their call.',\n",
       " u'For they are hardly worthy of Tamoszius, the other two members of the orchestra.',\n",
       " u'The second violin is a Slovak, a tall, gaunt man with black-rimmed spectacles and the mute and patient look of an overdriven mule; he responds to the whip but feebly, and then always falls back into his old rut.',\n",
       " u'The third man is very fat, with a round, red, sentimental nose, and he plays with his eyes turned up to the sky and a look of infinite yearning.',\n",
       " u'He is playing a bass part upon his cello, and so the excitement is nothing to him; no matter what happens in the treble, it is his task to saw out one long-drawn and lugubrious note after another, from four oclock in the afternoon until nearly the same hour next morning, for his third of the total income of one dollar per hour.',\n",
       " u'Before the feast has been five minutes under way, Tamoszius Kuszleika has risen in his excitement; a minute or two more and you see that he is beginning to edge over toward the tables.',\n",
       " u'His nostrils are dilated and his breath comes fast--his demons are driving him.',\n",
       " u'He nods and shakes his head at his companions, jerking at them with his violin, until at last the long form of the second violinist also rises up.',\n",
       " u'In the end all three of them begin advancing, step by step, upon the banqueters, Valentinavyczia, the cellist, bumping along with his instrument between notes.',\n",
       " u'Finally all three are gathered at the foot of the tables, and there Tamoszius mounts upon a stool.',\n",
       " u'Now he is in his glory, dominating the scene.',\n",
       " u'Some of the people are eating, some are laughing and talking--but you will make a great mistake if you think there is one of them who does not hear him.',\n",
       " u'His notes are never true, and his fiddle buzzes on the low ones and squeaks and scratches on the high; but these things they heed no more than they heed the dirt and noise and squalor about them--it is out of this material that they have to build their lives, with it that they have to utter their souls.',\n",
       " u'And this is their utterance; merry and boisterous, or mournful and wailing, or passionate and rebellious, this music is their music, music of home.',\n",
       " u'It stretches out its arms to them, they have only to give themselves up.',\n",
       " u'Chicago and its saloons and its slums fade away--there are green meadows and sunlit rivers, mighty forests and snow-clad hills.',\n",
       " u'They behold home landscapes and childhood scenes returning; old loves and friendships begin to waken, old joys and griefs to laugh and weep.',\n",
       " u'Some fall back and close their eyes, some beat upon the table.',\n",
       " u'Now and then one leaps up with a cry and calls for this song or that; and then the fire leaps brighter in Tamoszius eyes, and he flings up his fiddle and shouts to his companions, and away they go in mad career.',\n",
       " u'The company takes up the choruses, and men and women cry out like all possessed; some leap to their feet and stamp upon the floor, lifting their glasses and pledging each other.',\n",
       " u'Before long it occurs to some one to demand an old wedding song, which celebrates the beauty of the bride and the joys of love.',\n",
       " u'In the excitement of this masterpiece Tamoszius Kuszleika begins to edge in between the tables, making his way toward the head, where sits the bride.',\n",
       " u'There is not a foot of space between the chairs of the guests, and Tamoszius is so short that he pokes them with his bow whenever he reaches over for the low notes; but still he presses in, and insists relentlessly that his companions must follow.',\n",
       " u'During their progress, needless to say, the sounds of the cello are pretty well extinguished; but at last the three are at the head, and Tamoszius takes his station at the right hand of the bride and begins to pour out his soul in melting strains.',\n",
       " u'Little Ona is too excited to eat.',\n",
       " u'Once in a while she tastes a little something, when Cousin Marija pinches her elbow and reminds her; but, for the most part, she sits gazing with the same fearful eyes of wonder.',\n",
       " u'Teta Elzbieta is all in a flutter, like a hummingbird; her sisters, too, keep running up behind her, whispering, breathless.',\n",
       " u'But Ona seems scarcely to hear them--the music keeps calling, and the far-off look comes back, and she sits with her hands pressed together over her heart.',\n",
       " u'Then the tears begin to come into her eyes; and as she is ashamed to wipe them away, and ashamed to let them run down her cheeks, she turns and shakes her head a little, and then flushes red when she sees that Jurgis is watching her.',\n",
       " u'When in the end Tamoszius Kuszleika has reached her side, and is waving his magic wand above her, Onas cheeks are scarlet, and she looks as if she would have to get up and run away.',\n",
       " u'In this crisis, however, she is saved by Marija Berczynskas, whom the muses suddenly visit.',\n",
       " u'Marija is fond of a song, a song of lovers parting; she wishes to hear it, and, as the musicians do not know it, she has risen, and is proceeding to teach them.',\n",
       " u'Marija is short, but powerful in build.',\n",
       " u'She works in a canning factory, and all day long she handles cans of beef that weigh fourteen pounds.',\n",
       " u'She has a broad Slavic face, with prominent red cheeks.',\n",
       " u'When she opens her mouth, it is tragical, but you cannot help thinking of a horse.',\n",
       " u'She wears a blue flannel shirt-waist, which is now rolled up at the sleeves, disclosing her brawny arms; she has a carving fork in her hand, with which she pounds on the table to mark the time.',\n",
       " u'As she roars her song, in a voice of which it is enough to say that it leaves no portion of the room vacant, the three musicians follow her, laboriously and note by note, but averaging one note behind; thus they toil through stanza after stanza of a lovesick swains lamentation:--       Sudiev kvietkeli, tu brangiausis;      Sudiev ir laime, man biednam,      Matau--paskyre teip Aukszcziausis,      Jog vargt ant svieto reik vienam!',\n",
       " u'When the song is over, it is time for the speech, and old Dede Antanas rises to his feet.',\n",
       " u'Grandfather Anthony, Jurgis father, is not more than sixty years of age, but you would think that he was eighty.',\n",
       " u'He has been only six months in America, and the change has not done him good.',\n",
       " u'In his manhood he worked in a cotton mill, but then a coughing fell upon him, and he had to leave; out in the country the trouble disappeared, but he has been working in the pickle rooms at Durhams, and the breathing of the cold, damp air all day has brought it back.',\n",
       " u'Now as he rises he is seized with a coughing fit, and holds himself by his chair and turns away his wan and battered face until it passes.',\n",
       " u'Generally it is the custom for the speech at a veselija to be taken out of one of the books and learned by heart; but in his youthful days Dede Antanas used to be a scholar, and really make up all the love letters of his friends.',\n",
       " u'Now it is understood that he has composed an original speech of congratulation and benediction, and this is one of the events of the day.',\n",
       " u'Even the boys, who are romping about the room, draw near and listen, and some of the women sob and wipe their aprons in their eyes.',\n",
       " u'It is very solemn, for Antanas Rudkus has become possessed of the idea that he has not much longer to stay with his children.',\n",
       " u'His speech leaves them all so tearful that one of the guests, Jokubas Szedvilas, who keeps a delicatessen store on Halsted Street, and is fat and hearty, is moved to rise and say that things may not be as bad as that, and then to go on and make a little speech of his own, in which he showers congratulations and prophecies of happiness upon the bride and groom, proceeding to particulars which greatly delight the young men, but which cause Ona to blush more furiously than ever.',\n",
       " u'Jokubas possesses what his wife complacently describes as poetiszka vaidintuve--a poetical imagination.',\n",
       " u'Now a good many of the guests have finished, and, since there is no pretense of ceremony, the banquet begins to break up.',\n",
       " u'Some of the men gather about the bar; some wander about, laughing and singing; here and there will be a little group, chanting merrily, and in sublime indifference to the others and to the orchestra as well.',\n",
       " u'Everybody is more or less restless--one would guess that something is on their minds.',\n",
       " u'And so it proves.',\n",
       " u'The last tardy diners are scarcely given time to finish, before the tables and the debris are shoved into the corner, and the chairs and the babies piled out of the way, and the real celebration of the evening begins.',\n",
       " u'Then Tamoszius Kuszleika, after replenishing himself with a pot of beer, returns to his platform, and, standing up, reviews the scene; he taps authoritatively upon the side of his violin, then tucks it carefully under his chin, then waves his bow in an elaborate flourish, and finally smites the sounding strings and closes his eyes, and floats away in spirit upon the wings of a dreamy waltz.',\n",
       " u'His companion follows, but with his eyes open, watching where he treads, so to speak; and finally Valentinavyczia, after waiting for a little and beating with his foot to get the time, casts up his eyes to the ceiling and begins to saw--Broom!',\n",
       " u'broom!',\n",
       " u'broom!',\n",
       " u'The company pairs off quickly, and the whole room is soon in motion.',\n",
       " u'Apparently nobody knows how to waltz, but that is nothing of any consequence--there is music, and they dance, each as he pleases, just as before they sang.',\n",
       " u'Most of them prefer the two-step, especially the young, with whom it is the fashion.',\n",
       " u'The older people have dances from home, strange and complicated steps which they execute with grave solemnity.',\n",
       " u'Some do not dance anything at all, but simply hold each others hands and allow the undisciplined joy of motion to express itself with their feet.',\n",
       " u'Among these are Jokubas Szedvilas and his wife, Lucija, who together keep the delicatessen store, and consume nearly as much as they sell; they are too fat to dance, but they stand in the middle of the floor, holding each other fast in their arms, rocking slowly from side to side and grinning seraphically, a picture of toothless and perspiring ecstasy.',\n",
       " u'Of these older people many wear clothing reminiscent in some detail of home--an embroidered waistcoat or stomacher, or a gaily colored handkerchief, or a coat with large cuffs and fancy buttons.',\n",
       " u'All these things are carefully avoided by the young, most of whom have learned to speak English and to affect the latest style of clothing.',\n",
       " u'The girls wear ready-made dresses or shirt waists, and some of them look quite pretty.',\n",
       " u'Some of the young men you would take to be Americans, of the type of clerks, but for the fact that they wear their hats in the room.',\n",
       " u'Each of these younger couples affects a style of its own in dancing.',\n",
       " u'Some hold each other tightly, some at a cautious distance.',\n",
       " u'Some hold their hands out stiffly, some drop them loosely at their sides.',\n",
       " u'Some dance springily, some glide softly, some move with grave dignity.',\n",
       " u'There are boisterous couples, who tear wildly about the room, knocking every one out of their way.',\n",
       " u'There are nervous couples, whom these frighten, and who cry, Nusfok!',\n",
       " u'Kas yra?',\n",
       " u'at them as they pass.',\n",
       " u'Each couple is paired for the evening--you will never see them change about.',\n",
       " u'There is Alena Jasaityte, for instance, who has danced unending hours with Juozas Raczius, to whom she is engaged.']"
      ]
     },
     "execution_count": 6,
     "metadata": {},
     "output_type": "execute_result"
    }
   ],
   "source": [
    "sentences[0:150]"
   ]
  },
  {
   "cell_type": "markdown",
   "metadata": {},
   "source": [
    "### Assigning sentiment scores to sentences"
   ]
  },
  {
   "cell_type": "code",
   "execution_count": 7,
   "metadata": {},
   "outputs": [
    {
     "name": "stdout",
     "output_type": "stream",
     "text": [
      "[nltk_data] Downloading package vader_lexicon to\n",
      "[nltk_data]     /home/harish/nltk_data...\n",
      "[nltk_data]   Package vader_lexicon is already up-to-date!\n"
     ]
    },
    {
     "data": {
      "text/plain": [
       "True"
      ]
     },
     "execution_count": 7,
     "metadata": {},
     "output_type": "execute_result"
    }
   ],
   "source": [
    "nltk.download(\"vader_lexicon\")\n"
   ]
  },
  {
   "cell_type": "code",
   "execution_count": 8,
   "metadata": {},
   "outputs": [
    {
     "data": {
      "text/plain": [
       "u'Then the tears begin to come into her eyes; and as she is ashamed to wipe them away, and ashamed to let them run down her cheeks, she turns and shakes her head a little, and then flushes red when she sees that Jurgis is watching her.'"
      ]
     },
     "metadata": {},
     "output_type": "display_data"
    },
    {
     "data": {
      "text/plain": [
       "'compound: -0.7964, '"
      ]
     },
     "metadata": {},
     "output_type": "display_data"
    },
    {
     "data": {
      "text/plain": [
       "'neg: 0.159, '"
      ]
     },
     "metadata": {},
     "output_type": "display_data"
    },
    {
     "data": {
      "text/plain": [
       "'neu: 0.841, '"
      ]
     },
     "metadata": {},
     "output_type": "display_data"
    },
    {
     "data": {
      "text/plain": [
       "'pos: 0.0, '"
      ]
     },
     "metadata": {},
     "output_type": "display_data"
    },
    {
     "data": {
      "text/plain": [
       "u'When in the end Tamoszius Kuszleika has reached her side, and is waving his magic wand above her, Onas cheeks are scarlet, and she looks as if she would have to get up and run away.'"
      ]
     },
     "metadata": {},
     "output_type": "display_data"
    },
    {
     "data": {
      "text/plain": [
       "'compound: 0.1027, '"
      ]
     },
     "metadata": {},
     "output_type": "display_data"
    },
    {
     "data": {
      "text/plain": [
       "'neg: 0.0, '"
      ]
     },
     "metadata": {},
     "output_type": "display_data"
    },
    {
     "data": {
      "text/plain": [
       "'neu: 0.962, '"
      ]
     },
     "metadata": {},
     "output_type": "display_data"
    },
    {
     "data": {
      "text/plain": [
       "'pos: 0.038, '"
      ]
     },
     "metadata": {},
     "output_type": "display_data"
    },
    {
     "data": {
      "text/plain": [
       "u'In this crisis, however, she is saved by Marija Berczynskas, whom the muses suddenly visit.'"
      ]
     },
     "metadata": {},
     "output_type": "display_data"
    },
    {
     "data": {
      "text/plain": [
       "'compound: -0.3182, '"
      ]
     },
     "metadata": {},
     "output_type": "display_data"
    },
    {
     "data": {
      "text/plain": [
       "'neg: 0.206, '"
      ]
     },
     "metadata": {},
     "output_type": "display_data"
    },
    {
     "data": {
      "text/plain": [
       "'neu: 0.653, '"
      ]
     },
     "metadata": {},
     "output_type": "display_data"
    },
    {
     "data": {
      "text/plain": [
       "'pos: 0.141, '"
      ]
     },
     "metadata": {},
     "output_type": "display_data"
    },
    {
     "data": {
      "text/plain": [
       "u'Marija is fond of a song, a song of lovers parting; she wishes to hear it, and, as the musicians do not know it, she has risen, and is proceeding to teach them.'"
      ]
     },
     "metadata": {},
     "output_type": "display_data"
    },
    {
     "data": {
      "text/plain": [
       "'compound: 0.7845, '"
      ]
     },
     "metadata": {},
     "output_type": "display_data"
    },
    {
     "data": {
      "text/plain": [
       "'neg: 0.0, '"
      ]
     },
     "metadata": {},
     "output_type": "display_data"
    },
    {
     "data": {
      "text/plain": [
       "'neu: 0.78, '"
      ]
     },
     "metadata": {},
     "output_type": "display_data"
    },
    {
     "data": {
      "text/plain": [
       "'pos: 0.22, '"
      ]
     },
     "metadata": {},
     "output_type": "display_data"
    },
    {
     "data": {
      "text/plain": [
       "u'Marija is short, but powerful in build.'"
      ]
     },
     "metadata": {},
     "output_type": "display_data"
    },
    {
     "data": {
      "text/plain": [
       "'compound: 0.5719, '"
      ]
     },
     "metadata": {},
     "output_type": "display_data"
    },
    {
     "data": {
      "text/plain": [
       "'neg: 0.0, '"
      ]
     },
     "metadata": {},
     "output_type": "display_data"
    },
    {
     "data": {
      "text/plain": [
       "'neu: 0.619, '"
      ]
     },
     "metadata": {},
     "output_type": "display_data"
    },
    {
     "data": {
      "text/plain": [
       "'pos: 0.381, '"
      ]
     },
     "metadata": {},
     "output_type": "display_data"
    },
    {
     "data": {
      "text/plain": [
       "u'She works in a canning factory, and all day long she handles cans of beef that weigh fourteen pounds.'"
      ]
     },
     "metadata": {},
     "output_type": "display_data"
    },
    {
     "data": {
      "text/plain": [
       "'compound: 0.0, '"
      ]
     },
     "metadata": {},
     "output_type": "display_data"
    },
    {
     "data": {
      "text/plain": [
       "'neg: 0.0, '"
      ]
     },
     "metadata": {},
     "output_type": "display_data"
    },
    {
     "data": {
      "text/plain": [
       "'neu: 1.0, '"
      ]
     },
     "metadata": {},
     "output_type": "display_data"
    },
    {
     "data": {
      "text/plain": [
       "'pos: 0.0, '"
      ]
     },
     "metadata": {},
     "output_type": "display_data"
    },
    {
     "data": {
      "text/plain": [
       "u'She has a broad Slavic face, with prominent red cheeks.'"
      ]
     },
     "metadata": {},
     "output_type": "display_data"
    },
    {
     "data": {
      "text/plain": [
       "'compound: 0.3182, '"
      ]
     },
     "metadata": {},
     "output_type": "display_data"
    },
    {
     "data": {
      "text/plain": [
       "'neg: 0.0, '"
      ]
     },
     "metadata": {},
     "output_type": "display_data"
    },
    {
     "data": {
      "text/plain": [
       "'neu: 0.777, '"
      ]
     },
     "metadata": {},
     "output_type": "display_data"
    },
    {
     "data": {
      "text/plain": [
       "'pos: 0.223, '"
      ]
     },
     "metadata": {},
     "output_type": "display_data"
    },
    {
     "data": {
      "text/plain": [
       "u'When she opens her mouth, it is tragical, but you cannot help thinking of a horse.'"
      ]
     },
     "metadata": {},
     "output_type": "display_data"
    },
    {
     "data": {
      "text/plain": [
       "'compound: -0.6233, '"
      ]
     },
     "metadata": {},
     "output_type": "display_data"
    },
    {
     "data": {
      "text/plain": [
       "'neg: 0.281, '"
      ]
     },
     "metadata": {},
     "output_type": "display_data"
    },
    {
     "data": {
      "text/plain": [
       "'neu: 0.719, '"
      ]
     },
     "metadata": {},
     "output_type": "display_data"
    },
    {
     "data": {
      "text/plain": [
       "'pos: 0.0, '"
      ]
     },
     "metadata": {},
     "output_type": "display_data"
    },
    {
     "data": {
      "text/plain": [
       "u'She wears a blue flannel shirt-waist, which is now rolled up at the sleeves, disclosing her brawny arms; she has a carving fork in her hand, with which she pounds on the table to mark the time.'"
      ]
     },
     "metadata": {},
     "output_type": "display_data"
    },
    {
     "data": {
      "text/plain": [
       "'compound: 0.4939, '"
      ]
     },
     "metadata": {},
     "output_type": "display_data"
    },
    {
     "data": {
      "text/plain": [
       "'neg: 0.0, '"
      ]
     },
     "metadata": {},
     "output_type": "display_data"
    },
    {
     "data": {
      "text/plain": [
       "'neu: 0.914, '"
      ]
     },
     "metadata": {},
     "output_type": "display_data"
    },
    {
     "data": {
      "text/plain": [
       "'pos: 0.086, '"
      ]
     },
     "metadata": {},
     "output_type": "display_data"
    },
    {
     "data": {
      "text/plain": [
       "u'As she roars her song, in a voice of which it is enough to say that it leaves no portion of the room vacant, the three musicians follow her, laboriously and note by note, but averaging one note behind; thus they toil through stanza after stanza of a lovesick swains lamentation:--       Sudiev kvietkeli, tu brangiausis;      Sudiev ir laime, man biednam,      Matau--paskyre teip Aukszcziausis,      Jog vargt ant svieto reik vienam!'"
      ]
     },
     "metadata": {},
     "output_type": "display_data"
    },
    {
     "data": {
      "text/plain": [
       "'compound: -0.2244, '"
      ]
     },
     "metadata": {},
     "output_type": "display_data"
    },
    {
     "data": {
      "text/plain": [
       "'neg: 0.028, '"
      ]
     },
     "metadata": {},
     "output_type": "display_data"
    },
    {
     "data": {
      "text/plain": [
       "'neu: 0.972, '"
      ]
     },
     "metadata": {},
     "output_type": "display_data"
    },
    {
     "data": {
      "text/plain": [
       "'pos: 0.0, '"
      ]
     },
     "metadata": {},
     "output_type": "display_data"
    },
    {
     "data": {
      "text/plain": [
       "u'When the song is over, it is time for the speech, and old Dede Antanas rises to his feet.'"
      ]
     },
     "metadata": {},
     "output_type": "display_data"
    },
    {
     "data": {
      "text/plain": [
       "'compound: 0.0, '"
      ]
     },
     "metadata": {},
     "output_type": "display_data"
    },
    {
     "data": {
      "text/plain": [
       "'neg: 0.0, '"
      ]
     },
     "metadata": {},
     "output_type": "display_data"
    },
    {
     "data": {
      "text/plain": [
       "'neu: 1.0, '"
      ]
     },
     "metadata": {},
     "output_type": "display_data"
    },
    {
     "data": {
      "text/plain": [
       "'pos: 0.0, '"
      ]
     },
     "metadata": {},
     "output_type": "display_data"
    },
    {
     "data": {
      "text/plain": [
       "u'Grandfather Anthony, Jurgis father, is not more than sixty years of age, but you would think that he was eighty.'"
      ]
     },
     "metadata": {},
     "output_type": "display_data"
    },
    {
     "data": {
      "text/plain": [
       "'compound: 0.0, '"
      ]
     },
     "metadata": {},
     "output_type": "display_data"
    },
    {
     "data": {
      "text/plain": [
       "'neg: 0.0, '"
      ]
     },
     "metadata": {},
     "output_type": "display_data"
    },
    {
     "data": {
      "text/plain": [
       "'neu: 1.0, '"
      ]
     },
     "metadata": {},
     "output_type": "display_data"
    },
    {
     "data": {
      "text/plain": [
       "'pos: 0.0, '"
      ]
     },
     "metadata": {},
     "output_type": "display_data"
    },
    {
     "data": {
      "text/plain": [
       "u'He has been only six months in America, and the change has not done him good.'"
      ]
     },
     "metadata": {},
     "output_type": "display_data"
    },
    {
     "data": {
      "text/plain": [
       "'compound: -0.3412, '"
      ]
     },
     "metadata": {},
     "output_type": "display_data"
    },
    {
     "data": {
      "text/plain": [
       "'neg: 0.138, '"
      ]
     },
     "metadata": {},
     "output_type": "display_data"
    },
    {
     "data": {
      "text/plain": [
       "'neu: 0.862, '"
      ]
     },
     "metadata": {},
     "output_type": "display_data"
    },
    {
     "data": {
      "text/plain": [
       "'pos: 0.0, '"
      ]
     },
     "metadata": {},
     "output_type": "display_data"
    },
    {
     "data": {
      "text/plain": [
       "u'In his manhood he worked in a cotton mill, but then a coughing fell upon him, and he had to leave; out in the country the trouble disappeared, but he has been working in the pickle rooms at Durhams, and the breathing of the cold, damp air all day has brought it back.'"
      ]
     },
     "metadata": {},
     "output_type": "display_data"
    },
    {
     "data": {
      "text/plain": [
       "'compound: -0.7351, '"
      ]
     },
     "metadata": {},
     "output_type": "display_data"
    },
    {
     "data": {
      "text/plain": [
       "'neg: 0.13, '"
      ]
     },
     "metadata": {},
     "output_type": "display_data"
    },
    {
     "data": {
      "text/plain": [
       "'neu: 0.87, '"
      ]
     },
     "metadata": {},
     "output_type": "display_data"
    },
    {
     "data": {
      "text/plain": [
       "'pos: 0.0, '"
      ]
     },
     "metadata": {},
     "output_type": "display_data"
    },
    {
     "data": {
      "text/plain": [
       "u'Now as he rises he is seized with a coughing fit, and holds himself by his chair and turns away his wan and battered face until it passes.'"
      ]
     },
     "metadata": {},
     "output_type": "display_data"
    },
    {
     "data": {
      "text/plain": [
       "'compound: 0.3612, '"
      ]
     },
     "metadata": {},
     "output_type": "display_data"
    },
    {
     "data": {
      "text/plain": [
       "'neg: 0.0, '"
      ]
     },
     "metadata": {},
     "output_type": "display_data"
    },
    {
     "data": {
      "text/plain": [
       "'neu: 0.912, '"
      ]
     },
     "metadata": {},
     "output_type": "display_data"
    },
    {
     "data": {
      "text/plain": [
       "'pos: 0.088, '"
      ]
     },
     "metadata": {},
     "output_type": "display_data"
    },
    {
     "data": {
      "text/plain": [
       "u'Generally it is the custom for the speech at a veselija to be taken out of one of the books and learned by heart; but in his youthful days Dede Antanas used to be a scholar, and really make up all the love letters of his friends.'"
      ]
     },
     "metadata": {},
     "output_type": "display_data"
    },
    {
     "data": {
      "text/plain": [
       "'compound: 0.9313, '"
      ]
     },
     "metadata": {},
     "output_type": "display_data"
    },
    {
     "data": {
      "text/plain": [
       "'neg: 0.0, '"
      ]
     },
     "metadata": {},
     "output_type": "display_data"
    },
    {
     "data": {
      "text/plain": [
       "'neu: 0.765, '"
      ]
     },
     "metadata": {},
     "output_type": "display_data"
    },
    {
     "data": {
      "text/plain": [
       "'pos: 0.235, '"
      ]
     },
     "metadata": {},
     "output_type": "display_data"
    },
    {
     "data": {
      "text/plain": [
       "u'Now it is understood that he has composed an original speech of congratulation and benediction, and this is one of the events of the day.'"
      ]
     },
     "metadata": {},
     "output_type": "display_data"
    },
    {
     "data": {
      "text/plain": [
       "'compound: 0.7351, '"
      ]
     },
     "metadata": {},
     "output_type": "display_data"
    },
    {
     "data": {
      "text/plain": [
       "'neg: 0.0, '"
      ]
     },
     "metadata": {},
     "output_type": "display_data"
    },
    {
     "data": {
      "text/plain": [
       "'neu: 0.788, '"
      ]
     },
     "metadata": {},
     "output_type": "display_data"
    },
    {
     "data": {
      "text/plain": [
       "'pos: 0.212, '"
      ]
     },
     "metadata": {},
     "output_type": "display_data"
    },
    {
     "data": {
      "text/plain": [
       "u'Even the boys, who are romping about the room, draw near and listen, and some of the women sob and wipe their aprons in their eyes.'"
      ]
     },
     "metadata": {},
     "output_type": "display_data"
    },
    {
     "data": {
      "text/plain": [
       "'compound: -0.25, '"
      ]
     },
     "metadata": {},
     "output_type": "display_data"
    },
    {
     "data": {
      "text/plain": [
       "'neg: 0.074, '"
      ]
     },
     "metadata": {},
     "output_type": "display_data"
    },
    {
     "data": {
      "text/plain": [
       "'neu: 0.926, '"
      ]
     },
     "metadata": {},
     "output_type": "display_data"
    },
    {
     "data": {
      "text/plain": [
       "'pos: 0.0, '"
      ]
     },
     "metadata": {},
     "output_type": "display_data"
    },
    {
     "data": {
      "text/plain": [
       "u'It is very solemn, for Antanas Rudkus has become possessed of the idea that he has not much longer to stay with his children.'"
      ]
     },
     "metadata": {},
     "output_type": "display_data"
    },
    {
     "data": {
      "text/plain": [
       "'compound: -0.1513, '"
      ]
     },
     "metadata": {},
     "output_type": "display_data"
    },
    {
     "data": {
      "text/plain": [
       "'neg: 0.065, '"
      ]
     },
     "metadata": {},
     "output_type": "display_data"
    },
    {
     "data": {
      "text/plain": [
       "'neu: 0.935, '"
      ]
     },
     "metadata": {},
     "output_type": "display_data"
    },
    {
     "data": {
      "text/plain": [
       "'pos: 0.0, '"
      ]
     },
     "metadata": {},
     "output_type": "display_data"
    },
    {
     "data": {
      "text/plain": [
       "u'His speech leaves them all so tearful that one of the guests, Jokubas Szedvilas, who keeps a delicatessen store on Halsted Street, and is fat and hearty, is moved to rise and say that things may not be as bad as that, and then to go on and make a little speech of his own, in which he showers congratulations and prophecies of happiness upon the bride and groom, proceeding to particulars which greatly delight the young men, but which cause Ona to blush more furiously than ever.'"
      ]
     },
     "metadata": {},
     "output_type": "display_data"
    },
    {
     "data": {
      "text/plain": [
       "'compound: 0.4909, '"
      ]
     },
     "metadata": {},
     "output_type": "display_data"
    },
    {
     "data": {
      "text/plain": [
       "'neg: 0.045, '"
      ]
     },
     "metadata": {},
     "output_type": "display_data"
    },
    {
     "data": {
      "text/plain": [
       "'neu: 0.844, '"
      ]
     },
     "metadata": {},
     "output_type": "display_data"
    },
    {
     "data": {
      "text/plain": [
       "'pos: 0.111, '"
      ]
     },
     "metadata": {},
     "output_type": "display_data"
    },
    {
     "data": {
      "text/plain": [
       "u'Jokubas possesses what his wife complacently describes as poetiszka vaidintuve--a poetical imagination.'"
      ]
     },
     "metadata": {},
     "output_type": "display_data"
    },
    {
     "data": {
      "text/plain": [
       "'compound: 0.0, '"
      ]
     },
     "metadata": {},
     "output_type": "display_data"
    },
    {
     "data": {
      "text/plain": [
       "'neg: 0.0, '"
      ]
     },
     "metadata": {},
     "output_type": "display_data"
    },
    {
     "data": {
      "text/plain": [
       "'neu: 1.0, '"
      ]
     },
     "metadata": {},
     "output_type": "display_data"
    },
    {
     "data": {
      "text/plain": [
       "'pos: 0.0, '"
      ]
     },
     "metadata": {},
     "output_type": "display_data"
    },
    {
     "data": {
      "text/plain": [
       "u'Now a good many of the guests have finished, and, since there is no pretense of ceremony, the banquet begins to break up.'"
      ]
     },
     "metadata": {},
     "output_type": "display_data"
    },
    {
     "data": {
      "text/plain": [
       "'compound: 0.1779, '"
      ]
     },
     "metadata": {},
     "output_type": "display_data"
    },
    {
     "data": {
      "text/plain": [
       "'neg: 0.088, '"
      ]
     },
     "metadata": {},
     "output_type": "display_data"
    },
    {
     "data": {
      "text/plain": [
       "'neu: 0.797, '"
      ]
     },
     "metadata": {},
     "output_type": "display_data"
    },
    {
     "data": {
      "text/plain": [
       "'pos: 0.116, '"
      ]
     },
     "metadata": {},
     "output_type": "display_data"
    },
    {
     "data": {
      "text/plain": [
       "u'Some of the men gather about the bar; some wander about, laughing and singing; here and there will be a little group, chanting merrily, and in sublime indifference to the others and to the orchestra as well.'"
      ]
     },
     "metadata": {},
     "output_type": "display_data"
    },
    {
     "data": {
      "text/plain": [
       "'compound: 0.804, '"
      ]
     },
     "metadata": {},
     "output_type": "display_data"
    },
    {
     "data": {
      "text/plain": [
       "'neg: 0.029, '"
      ]
     },
     "metadata": {},
     "output_type": "display_data"
    },
    {
     "data": {
      "text/plain": [
       "'neu: 0.769, '"
      ]
     },
     "metadata": {},
     "output_type": "display_data"
    },
    {
     "data": {
      "text/plain": [
       "'pos: 0.203, '"
      ]
     },
     "metadata": {},
     "output_type": "display_data"
    },
    {
     "data": {
      "text/plain": [
       "u'Everybody is more or less restless--one would guess that something is on their minds.'"
      ]
     },
     "metadata": {},
     "output_type": "display_data"
    },
    {
     "data": {
      "text/plain": [
       "'compound: 0.0, '"
      ]
     },
     "metadata": {},
     "output_type": "display_data"
    },
    {
     "data": {
      "text/plain": [
       "'neg: 0.0, '"
      ]
     },
     "metadata": {},
     "output_type": "display_data"
    },
    {
     "data": {
      "text/plain": [
       "'neu: 1.0, '"
      ]
     },
     "metadata": {},
     "output_type": "display_data"
    },
    {
     "data": {
      "text/plain": [
       "'pos: 0.0, '"
      ]
     },
     "metadata": {},
     "output_type": "display_data"
    },
    {
     "data": {
      "text/plain": [
       "u'And so it proves.'"
      ]
     },
     "metadata": {},
     "output_type": "display_data"
    },
    {
     "data": {
      "text/plain": [
       "'compound: 0.0, '"
      ]
     },
     "metadata": {},
     "output_type": "display_data"
    },
    {
     "data": {
      "text/plain": [
       "'neg: 0.0, '"
      ]
     },
     "metadata": {},
     "output_type": "display_data"
    },
    {
     "data": {
      "text/plain": [
       "'neu: 1.0, '"
      ]
     },
     "metadata": {},
     "output_type": "display_data"
    },
    {
     "data": {
      "text/plain": [
       "'pos: 0.0, '"
      ]
     },
     "metadata": {},
     "output_type": "display_data"
    },
    {
     "data": {
      "text/plain": [
       "u'The last tardy diners are scarcely given time to finish, before the tables and the debris are shoved into the corner, and the chairs and the babies piled out of the way, and the real celebration of the evening begins.'"
      ]
     },
     "metadata": {},
     "output_type": "display_data"
    },
    {
     "data": {
      "text/plain": [
       "'compound: 0.0, '"
      ]
     },
     "metadata": {},
     "output_type": "display_data"
    },
    {
     "data": {
      "text/plain": [
       "'neg: 0.0, '"
      ]
     },
     "metadata": {},
     "output_type": "display_data"
    },
    {
     "data": {
      "text/plain": [
       "'neu: 1.0, '"
      ]
     },
     "metadata": {},
     "output_type": "display_data"
    },
    {
     "data": {
      "text/plain": [
       "'pos: 0.0, '"
      ]
     },
     "metadata": {},
     "output_type": "display_data"
    },
    {
     "data": {
      "text/plain": [
       "u'Then Tamoszius Kuszleika, after replenishing himself with a pot of beer, returns to his platform, and, standing up, reviews the scene; he taps authoritatively upon the side of his violin, then tucks it carefully under his chin, then waves his bow in an elaborate flourish, and finally smites the sounding strings and closes his eyes, and floats away in spirit upon the wings of a dreamy waltz.'"
      ]
     },
     "metadata": {},
     "output_type": "display_data"
    },
    {
     "data": {
      "text/plain": [
       "'compound: 0.296, '"
      ]
     },
     "metadata": {},
     "output_type": "display_data"
    },
    {
     "data": {
      "text/plain": [
       "'neg: 0.0, '"
      ]
     },
     "metadata": {},
     "output_type": "display_data"
    },
    {
     "data": {
      "text/plain": [
       "'neu: 0.952, '"
      ]
     },
     "metadata": {},
     "output_type": "display_data"
    },
    {
     "data": {
      "text/plain": [
       "'pos: 0.048, '"
      ]
     },
     "metadata": {},
     "output_type": "display_data"
    },
    {
     "data": {
      "text/plain": [
       "u'His companion follows, but with his eyes open, watching where he treads, so to speak; and finally Valentinavyczia, after waiting for a little and beating with his foot to get the time, casts up his eyes to the ceiling and begins to saw--Broom!'"
      ]
     },
     "metadata": {},
     "output_type": "display_data"
    },
    {
     "data": {
      "text/plain": [
       "'compound: -0.596, '"
      ]
     },
     "metadata": {},
     "output_type": "display_data"
    },
    {
     "data": {
      "text/plain": [
       "'neg: 0.086, '"
      ]
     },
     "metadata": {},
     "output_type": "display_data"
    },
    {
     "data": {
      "text/plain": [
       "'neu: 0.914, '"
      ]
     },
     "metadata": {},
     "output_type": "display_data"
    },
    {
     "data": {
      "text/plain": [
       "'pos: 0.0, '"
      ]
     },
     "metadata": {},
     "output_type": "display_data"
    },
    {
     "data": {
      "text/plain": [
       "u'broom!'"
      ]
     },
     "metadata": {},
     "output_type": "display_data"
    },
    {
     "data": {
      "text/plain": [
       "'compound: 0.0, '"
      ]
     },
     "metadata": {},
     "output_type": "display_data"
    },
    {
     "data": {
      "text/plain": [
       "'neg: 0.0, '"
      ]
     },
     "metadata": {},
     "output_type": "display_data"
    },
    {
     "data": {
      "text/plain": [
       "'neu: 1.0, '"
      ]
     },
     "metadata": {},
     "output_type": "display_data"
    },
    {
     "data": {
      "text/plain": [
       "'pos: 0.0, '"
      ]
     },
     "metadata": {},
     "output_type": "display_data"
    },
    {
     "data": {
      "text/plain": [
       "u'broom!'"
      ]
     },
     "metadata": {},
     "output_type": "display_data"
    },
    {
     "data": {
      "text/plain": [
       "'compound: 0.0, '"
      ]
     },
     "metadata": {},
     "output_type": "display_data"
    },
    {
     "data": {
      "text/plain": [
       "'neg: 0.0, '"
      ]
     },
     "metadata": {},
     "output_type": "display_data"
    },
    {
     "data": {
      "text/plain": [
       "'neu: 1.0, '"
      ]
     },
     "metadata": {},
     "output_type": "display_data"
    },
    {
     "data": {
      "text/plain": [
       "'pos: 0.0, '"
      ]
     },
     "metadata": {},
     "output_type": "display_data"
    },
    {
     "data": {
      "text/plain": [
       "u'The company pairs off quickly, and the whole room is soon in motion.'"
      ]
     },
     "metadata": {},
     "output_type": "display_data"
    },
    {
     "data": {
      "text/plain": [
       "'compound: 0.0, '"
      ]
     },
     "metadata": {},
     "output_type": "display_data"
    },
    {
     "data": {
      "text/plain": [
       "'neg: 0.0, '"
      ]
     },
     "metadata": {},
     "output_type": "display_data"
    },
    {
     "data": {
      "text/plain": [
       "'neu: 1.0, '"
      ]
     },
     "metadata": {},
     "output_type": "display_data"
    },
    {
     "data": {
      "text/plain": [
       "'pos: 0.0, '"
      ]
     },
     "metadata": {},
     "output_type": "display_data"
    },
    {
     "data": {
      "text/plain": [
       "u'Apparently nobody knows how to waltz, but that is nothing of any consequence--there is music, and they dance, each as he pleases, just as before they sang.'"
      ]
     },
     "metadata": {},
     "output_type": "display_data"
    },
    {
     "data": {
      "text/plain": [
       "'compound: 0.5499, '"
      ]
     },
     "metadata": {},
     "output_type": "display_data"
    },
    {
     "data": {
      "text/plain": [
       "'neg: 0.0, '"
      ]
     },
     "metadata": {},
     "output_type": "display_data"
    },
    {
     "data": {
      "text/plain": [
       "'neu: 0.88, '"
      ]
     },
     "metadata": {},
     "output_type": "display_data"
    },
    {
     "data": {
      "text/plain": [
       "'pos: 0.12, '"
      ]
     },
     "metadata": {},
     "output_type": "display_data"
    },
    {
     "data": {
      "text/plain": [
       "u'Most of them prefer the two-step, especially the young, with whom it is the fashion.'"
      ]
     },
     "metadata": {},
     "output_type": "display_data"
    },
    {
     "data": {
      "text/plain": [
       "'compound: 0.0, '"
      ]
     },
     "metadata": {},
     "output_type": "display_data"
    },
    {
     "data": {
      "text/plain": [
       "'neg: 0.0, '"
      ]
     },
     "metadata": {},
     "output_type": "display_data"
    },
    {
     "data": {
      "text/plain": [
       "'neu: 1.0, '"
      ]
     },
     "metadata": {},
     "output_type": "display_data"
    },
    {
     "data": {
      "text/plain": [
       "'pos: 0.0, '"
      ]
     },
     "metadata": {},
     "output_type": "display_data"
    },
    {
     "data": {
      "text/plain": [
       "u'The older people have dances from home, strange and complicated steps which they execute with grave solemnity.'"
      ]
     },
     "metadata": {},
     "output_type": "display_data"
    },
    {
     "data": {
      "text/plain": [
       "'compound: -0.6705, '"
      ]
     },
     "metadata": {},
     "output_type": "display_data"
    },
    {
     "data": {
      "text/plain": [
       "'neg: 0.317, '"
      ]
     },
     "metadata": {},
     "output_type": "display_data"
    },
    {
     "data": {
      "text/plain": [
       "'neu: 0.683, '"
      ]
     },
     "metadata": {},
     "output_type": "display_data"
    },
    {
     "data": {
      "text/plain": [
       "'pos: 0.0, '"
      ]
     },
     "metadata": {},
     "output_type": "display_data"
    },
    {
     "data": {
      "text/plain": [
       "u'Some do not dance anything at all, but simply hold each others hands and allow the undisciplined joy of motion to express itself with their feet.'"
      ]
     },
     "metadata": {},
     "output_type": "display_data"
    },
    {
     "data": {
      "text/plain": [
       "'compound: 0.8201, '"
      ]
     },
     "metadata": {},
     "output_type": "display_data"
    },
    {
     "data": {
      "text/plain": [
       "'neg: 0.0, '"
      ]
     },
     "metadata": {},
     "output_type": "display_data"
    },
    {
     "data": {
      "text/plain": [
       "'neu: 0.761, '"
      ]
     },
     "metadata": {},
     "output_type": "display_data"
    },
    {
     "data": {
      "text/plain": [
       "'pos: 0.239, '"
      ]
     },
     "metadata": {},
     "output_type": "display_data"
    },
    {
     "data": {
      "text/plain": [
       "u'Among these are Jokubas Szedvilas and his wife, Lucija, who together keep the delicatessen store, and consume nearly as much as they sell; they are too fat to dance, but they stand in the middle of the floor, holding each other fast in their arms, rocking slowly from side to side and grinning seraphically, a picture of toothless and perspiring ecstasy.'"
      ]
     },
     "metadata": {},
     "output_type": "display_data"
    },
    {
     "data": {
      "text/plain": [
       "'compound: 0.7717, '"
      ]
     },
     "metadata": {},
     "output_type": "display_data"
    },
    {
     "data": {
      "text/plain": [
       "'neg: 0.045, '"
      ]
     },
     "metadata": {},
     "output_type": "display_data"
    },
    {
     "data": {
      "text/plain": [
       "'neu: 0.813, '"
      ]
     },
     "metadata": {},
     "output_type": "display_data"
    },
    {
     "data": {
      "text/plain": [
       "'pos: 0.142, '"
      ]
     },
     "metadata": {},
     "output_type": "display_data"
    },
    {
     "data": {
      "text/plain": [
       "u'Of these older people many wear clothing reminiscent in some detail of home--an embroidered waistcoat or stomacher, or a gaily colored handkerchief, or a coat with large cuffs and fancy buttons.'"
      ]
     },
     "metadata": {},
     "output_type": "display_data"
    },
    {
     "data": {
      "text/plain": [
       "'compound: 0.0, '"
      ]
     },
     "metadata": {},
     "output_type": "display_data"
    },
    {
     "data": {
      "text/plain": [
       "'neg: 0.0, '"
      ]
     },
     "metadata": {},
     "output_type": "display_data"
    },
    {
     "data": {
      "text/plain": [
       "'neu: 1.0, '"
      ]
     },
     "metadata": {},
     "output_type": "display_data"
    },
    {
     "data": {
      "text/plain": [
       "'pos: 0.0, '"
      ]
     },
     "metadata": {},
     "output_type": "display_data"
    },
    {
     "data": {
      "text/plain": [
       "u'All these things are carefully avoided by the young, most of whom have learned to speak English and to affect the latest style of clothing.'"
      ]
     },
     "metadata": {},
     "output_type": "display_data"
    },
    {
     "data": {
      "text/plain": [
       "'compound: -0.2263, '"
      ]
     },
     "metadata": {},
     "output_type": "display_data"
    },
    {
     "data": {
      "text/plain": [
       "'neg: 0.089, '"
      ]
     },
     "metadata": {},
     "output_type": "display_data"
    },
    {
     "data": {
      "text/plain": [
       "'neu: 0.855, '"
      ]
     },
     "metadata": {},
     "output_type": "display_data"
    },
    {
     "data": {
      "text/plain": [
       "'pos: 0.056, '"
      ]
     },
     "metadata": {},
     "output_type": "display_data"
    },
    {
     "data": {
      "text/plain": [
       "u'The girls wear ready-made dresses or shirt waists, and some of them look quite pretty.'"
      ]
     },
     "metadata": {},
     "output_type": "display_data"
    },
    {
     "data": {
      "text/plain": [
       "'compound: 0.5413, '"
      ]
     },
     "metadata": {},
     "output_type": "display_data"
    },
    {
     "data": {
      "text/plain": [
       "'neg: 0.0, '"
      ]
     },
     "metadata": {},
     "output_type": "display_data"
    },
    {
     "data": {
      "text/plain": [
       "'neu: 0.8, '"
      ]
     },
     "metadata": {},
     "output_type": "display_data"
    },
    {
     "data": {
      "text/plain": [
       "'pos: 0.2, '"
      ]
     },
     "metadata": {},
     "output_type": "display_data"
    },
    {
     "data": {
      "text/plain": [
       "u'Some of the young men you would take to be Americans, of the type of clerks, but for the fact that they wear their hats in the room.'"
      ]
     },
     "metadata": {},
     "output_type": "display_data"
    },
    {
     "data": {
      "text/plain": [
       "'compound: 0.0, '"
      ]
     },
     "metadata": {},
     "output_type": "display_data"
    },
    {
     "data": {
      "text/plain": [
       "'neg: 0.0, '"
      ]
     },
     "metadata": {},
     "output_type": "display_data"
    },
    {
     "data": {
      "text/plain": [
       "'neu: 1.0, '"
      ]
     },
     "metadata": {},
     "output_type": "display_data"
    },
    {
     "data": {
      "text/plain": [
       "'pos: 0.0, '"
      ]
     },
     "metadata": {},
     "output_type": "display_data"
    },
    {
     "data": {
      "text/plain": [
       "u'Each of these younger couples affects a style of its own in dancing.'"
      ]
     },
     "metadata": {},
     "output_type": "display_data"
    },
    {
     "data": {
      "text/plain": [
       "'compound: 0.0, '"
      ]
     },
     "metadata": {},
     "output_type": "display_data"
    },
    {
     "data": {
      "text/plain": [
       "'neg: 0.0, '"
      ]
     },
     "metadata": {},
     "output_type": "display_data"
    },
    {
     "data": {
      "text/plain": [
       "'neu: 1.0, '"
      ]
     },
     "metadata": {},
     "output_type": "display_data"
    },
    {
     "data": {
      "text/plain": [
       "'pos: 0.0, '"
      ]
     },
     "metadata": {},
     "output_type": "display_data"
    },
    {
     "data": {
      "text/plain": [
       "u'Some hold each other tightly, some at a cautious distance.'"
      ]
     },
     "metadata": {},
     "output_type": "display_data"
    },
    {
     "data": {
      "text/plain": [
       "'compound: -0.1027, '"
      ]
     },
     "metadata": {},
     "output_type": "display_data"
    },
    {
     "data": {
      "text/plain": [
       "'neg: 0.149, '"
      ]
     },
     "metadata": {},
     "output_type": "display_data"
    },
    {
     "data": {
      "text/plain": [
       "'neu: 0.851, '"
      ]
     },
     "metadata": {},
     "output_type": "display_data"
    },
    {
     "data": {
      "text/plain": [
       "'pos: 0.0, '"
      ]
     },
     "metadata": {},
     "output_type": "display_data"
    },
    {
     "data": {
      "text/plain": [
       "u'Some hold their hands out stiffly, some drop them loosely at their sides.'"
      ]
     },
     "metadata": {},
     "output_type": "display_data"
    },
    {
     "data": {
      "text/plain": [
       "'compound: -0.2732, '"
      ]
     },
     "metadata": {},
     "output_type": "display_data"
    },
    {
     "data": {
      "text/plain": [
       "'neg: 0.149, '"
      ]
     },
     "metadata": {},
     "output_type": "display_data"
    },
    {
     "data": {
      "text/plain": [
       "'neu: 0.851, '"
      ]
     },
     "metadata": {},
     "output_type": "display_data"
    },
    {
     "data": {
      "text/plain": [
       "'pos: 0.0, '"
      ]
     },
     "metadata": {},
     "output_type": "display_data"
    },
    {
     "data": {
      "text/plain": [
       "u'Some dance springily, some glide softly, some move with grave dignity.'"
      ]
     },
     "metadata": {},
     "output_type": "display_data"
    },
    {
     "data": {
      "text/plain": [
       "'compound: 0.0258, '"
      ]
     },
     "metadata": {},
     "output_type": "display_data"
    },
    {
     "data": {
      "text/plain": [
       "'neg: 0.182, '"
      ]
     },
     "metadata": {},
     "output_type": "display_data"
    },
    {
     "data": {
      "text/plain": [
       "'neu: 0.629, '"
      ]
     },
     "metadata": {},
     "output_type": "display_data"
    },
    {
     "data": {
      "text/plain": [
       "'pos: 0.189, '"
      ]
     },
     "metadata": {},
     "output_type": "display_data"
    },
    {
     "data": {
      "text/plain": [
       "u'There are boisterous couples, who tear wildly about the room, knocking every one out of their way.'"
      ]
     },
     "metadata": {},
     "output_type": "display_data"
    },
    {
     "data": {
      "text/plain": [
       "'compound: 0.0, '"
      ]
     },
     "metadata": {},
     "output_type": "display_data"
    },
    {
     "data": {
      "text/plain": [
       "'neg: 0.0, '"
      ]
     },
     "metadata": {},
     "output_type": "display_data"
    },
    {
     "data": {
      "text/plain": [
       "'neu: 1.0, '"
      ]
     },
     "metadata": {},
     "output_type": "display_data"
    },
    {
     "data": {
      "text/plain": [
       "'pos: 0.0, '"
      ]
     },
     "metadata": {},
     "output_type": "display_data"
    },
    {
     "data": {
      "text/plain": [
       "u'There are nervous couples, whom these frighten, and who cry, Nusfok!'"
      ]
     },
     "metadata": {},
     "output_type": "display_data"
    },
    {
     "data": {
      "text/plain": [
       "'compound: -0.784, '"
      ]
     },
     "metadata": {},
     "output_type": "display_data"
    },
    {
     "data": {
      "text/plain": [
       "'neg: 0.497, '"
      ]
     },
     "metadata": {},
     "output_type": "display_data"
    },
    {
     "data": {
      "text/plain": [
       "'neu: 0.503, '"
      ]
     },
     "metadata": {},
     "output_type": "display_data"
    },
    {
     "data": {
      "text/plain": [
       "'pos: 0.0, '"
      ]
     },
     "metadata": {},
     "output_type": "display_data"
    },
    {
     "data": {
      "text/plain": [
       "u'Kas yra?'"
      ]
     },
     "metadata": {},
     "output_type": "display_data"
    },
    {
     "data": {
      "text/plain": [
       "'compound: 0.0, '"
      ]
     },
     "metadata": {},
     "output_type": "display_data"
    },
    {
     "data": {
      "text/plain": [
       "'neg: 0.0, '"
      ]
     },
     "metadata": {},
     "output_type": "display_data"
    },
    {
     "data": {
      "text/plain": [
       "'neu: 1.0, '"
      ]
     },
     "metadata": {},
     "output_type": "display_data"
    },
    {
     "data": {
      "text/plain": [
       "'pos: 0.0, '"
      ]
     },
     "metadata": {},
     "output_type": "display_data"
    },
    {
     "data": {
      "text/plain": [
       "u'at them as they pass.'"
      ]
     },
     "metadata": {},
     "output_type": "display_data"
    },
    {
     "data": {
      "text/plain": [
       "'compound: 0.0, '"
      ]
     },
     "metadata": {},
     "output_type": "display_data"
    },
    {
     "data": {
      "text/plain": [
       "'neg: 0.0, '"
      ]
     },
     "metadata": {},
     "output_type": "display_data"
    },
    {
     "data": {
      "text/plain": [
       "'neu: 1.0, '"
      ]
     },
     "metadata": {},
     "output_type": "display_data"
    },
    {
     "data": {
      "text/plain": [
       "'pos: 0.0, '"
      ]
     },
     "metadata": {},
     "output_type": "display_data"
    },
    {
     "data": {
      "text/plain": [
       "u'Each couple is paired for the evening--you will never see them change about.'"
      ]
     },
     "metadata": {},
     "output_type": "display_data"
    },
    {
     "data": {
      "text/plain": [
       "'compound: 0.0, '"
      ]
     },
     "metadata": {},
     "output_type": "display_data"
    },
    {
     "data": {
      "text/plain": [
       "'neg: 0.0, '"
      ]
     },
     "metadata": {},
     "output_type": "display_data"
    },
    {
     "data": {
      "text/plain": [
       "'neu: 1.0, '"
      ]
     },
     "metadata": {},
     "output_type": "display_data"
    },
    {
     "data": {
      "text/plain": [
       "'pos: 0.0, '"
      ]
     },
     "metadata": {},
     "output_type": "display_data"
    },
    {
     "data": {
      "text/plain": [
       "u'There is Alena Jasaityte, for instance, who has danced unending hours with Juozas Raczius, to whom she is engaged.'"
      ]
     },
     "metadata": {},
     "output_type": "display_data"
    },
    {
     "data": {
      "text/plain": [
       "'compound: 0.4019, '"
      ]
     },
     "metadata": {},
     "output_type": "display_data"
    },
    {
     "data": {
      "text/plain": [
       "'neg: 0.0, '"
      ]
     },
     "metadata": {},
     "output_type": "display_data"
    },
    {
     "data": {
      "text/plain": [
       "'neu: 0.87, '"
      ]
     },
     "metadata": {},
     "output_type": "display_data"
    },
    {
     "data": {
      "text/plain": [
       "'pos: 0.13, '"
      ]
     },
     "metadata": {},
     "output_type": "display_data"
    }
   ],
   "source": [
    "sid = SentimentIntensityAnalyzer() # calls SentimentIntensitAnalyzer function\n",
    "for sentence in sentences[100:150]: # for a sentence in a list of sentences\n",
    "        display (sentence) #display sentence\n",
    "        ss = sid.polarity_scores(sentence) #and assign a sentiment polarity score\n",
    "        for k in sorted(ss):        \n",
    "            display ('{0}: {1}, '.format(k, ss[k])) #format the output"
   ]
  },
  {
   "cell_type": "markdown",
   "metadata": {},
   "source": [
    "### Going a step deeper with sentiment analysis "
   ]
  },
  {
   "cell_type": "code",
   "execution_count": 9,
   "metadata": {},
   "outputs": [
    {
     "name": "stdout",
     "output_type": "stream",
     "text": [
      "much\n",
      "<much.a.01: PosScore=0.0 NegScore=0.0>\n",
      "far-off\n",
      "<faraway.s.01: PosScore=0.0 NegScore=0.0>\n",
      "rear\n",
      "<rear.s.01: PosScore=0.0 NegScore=0.0>\n",
      "hungry\n",
      "<hungry.a.01: PosScore=0.125 NegScore=0.125>\n",
      "hard\n",
      "<difficult.a.01: PosScore=0.0 NegScore=0.75>\n",
      "green\n",
      "<green.s.01: PosScore=0.0 NegScore=0.125>\n",
      "snow-clad\n",
      "<snow-clad.s.01: PosScore=0.0 NegScore=0.25>\n",
      "flesh\n",
      "important\n",
      "<important.a.01: PosScore=0.875 NegScore=0.0>\n",
      "second\n",
      "<second.s.01: PosScore=0.0 NegScore=0.0>\n",
      "rich\n",
      "<rich.a.01: PosScore=0.0 NegScore=0.0>\n",
      "big\n",
      "<large.a.01: PosScore=0.25 NegScore=0.125>\n",
      "black\n",
      "<black.a.01: PosScore=0.0 NegScore=0.375>\n",
      "unable\n",
      "<unable.a.01: PosScore=0.0 NegScore=0.75>\n",
      "perplexed\n",
      "<perplexed.a.01: PosScore=0.0 NegScore=0.75>\n",
      "good\n",
      "<good.a.01: PosScore=0.75 NegScore=0.0>\n",
      "informal\n",
      "<informal.a.01: PosScore=0.0 NegScore=0.25>\n",
      "cursory\n",
      "<casual.s.05: PosScore=0.125 NegScore=0.75>\n",
      "southern\n",
      "<southern.a.01: PosScore=0.0 NegScore=0.0>\n",
      "great\n",
      "<great.s.01: PosScore=0.0 NegScore=0.0>\n",
      "open\n",
      "<open.a.01: PosScore=0.0 NegScore=0.375>\n",
      "wide\n",
      "<wide.a.01: PosScore=0.25 NegScore=0.125>\n",
      "diseased\n",
      "<diseased.s.01: PosScore=0.125 NegScore=0.625>\n",
      "sixty-three\n",
      "<sixty-three.s.01: PosScore=0.0 NegScore=0.0>\n",
      "diseased\n",
      "<diseased.s.01: PosScore=0.125 NegScore=0.625>\n",
      "great\n",
      "<great.s.01: PosScore=0.0 NegScore=0.0>\n",
      "European\n",
      "<european.a.01: PosScore=0.0 NegScore=0.0>\n",
      "little\n",
      "<small.a.01: PosScore=0.0 NegScore=0.375>\n",
      "same\n",
      "<same.a.01: PosScore=0.0 NegScore=0.0>\n",
      "long\n",
      "<long.a.01: PosScore=0.0 NegScore=0.0>\n",
      "old\n",
      "<old.a.01: PosScore=0.375 NegScore=0.0>\n",
      "self-made\n",
      "<self-made.s.01: PosScore=0.25 NegScore=0.0>\n",
      "early\n",
      "<early.a.01: PosScore=0.0 NegScore=0.0>\n",
      "whole\n",
      "<whole.a.01: PosScore=0.125 NegScore=0.0>\n",
      "strong\n",
      "<strong.a.01: PosScore=0.5 NegScore=0.0>\n",
      "thin\n",
      "<thin.a.01: PosScore=0.0 NegScore=0.0>\n",
      "much\n",
      "<much.a.01: PosScore=0.0 NegScore=0.0>\n",
      "young\n",
      "<young.a.01: PosScore=0.0 NegScore=0.0>\n",
      "great\n",
      "<great.s.01: PosScore=0.0 NegScore=0.0>\n",
      "other\n",
      "<other.a.01: PosScore=0.0 NegScore=0.625>\n",
      "quiet\n",
      "<quiet.a.01: PosScore=0.125 NegScore=0.625>\n",
      "innocent\n",
      "<innocent.a.01: PosScore=0.625 NegScore=0.25>\n",
      "little\n",
      "<small.a.01: PosScore=0.0 NegScore=0.375>\n",
      "great\n",
      "<great.s.01: PosScore=0.0 NegScore=0.0>\n",
      "tremendous\n",
      "<enormous.s.01: PosScore=0.0 NegScore=0.0>\n",
      "other\n",
      "<other.a.01: PosScore=0.0 NegScore=0.625>\n",
      "big\n",
      "<large.a.01: PosScore=0.25 NegScore=0.125>\n",
      "such\n",
      "<such.s.01: PosScore=0.0 NegScore=0.125>\n",
      "such\n",
      "<such.s.01: PosScore=0.0 NegScore=0.125>\n",
      "high-class\n",
      "<high-class.s.01: PosScore=0.375 NegScore=0.0>\n",
      "criminal\n",
      "<condemnable.s.01: PosScore=0.0 NegScore=0.875>\n",
      "notorious\n",
      "<ill-famed.s.01: PosScore=0.0 NegScore=0.875>\n",
      "gray\n",
      "<grey.s.01: PosScore=0.0 NegScore=0.0>\n",
      "prize\n",
      "<choice.s.01: PosScore=0.625 NegScore=0.0>\n",
      "holdup\n",
      "whole\n",
      "<whole.a.01: PosScore=0.125 NegScore=0.0>\n",
      "fake\n",
      "<bogus.s.01: PosScore=0.0 NegScore=0.75>\n",
      "confidential\n",
      "<confidential.s.01: PosScore=0.125 NegScore=0.0>\n",
      "direct\n",
      "<direct.a.01: PosScore=0.0 NegScore=0.25>\n",
      "bad\n",
      "<bad.a.01: PosScore=0.0 NegScore=0.625>\n",
      "big\n",
      "<large.a.01: PosScore=0.25 NegScore=0.125>\n",
      "political\n",
      "<political.a.01: PosScore=0.0 NegScore=0.0>\n",
      "latter\n",
      "<latter.a.01: PosScore=0.0 NegScore=0.0>\n",
      "general\n",
      "<general.a.01: PosScore=0.0 NegScore=0.0>\n",
      "next\n",
      "<following.s.02: PosScore=0.0 NegScore=0.0>\n",
      "several\n",
      "<several.s.01: PosScore=0.0 NegScore=0.5>\n",
      "left\n",
      "<left.a.01: PosScore=0.0 NegScore=0.0>\n",
      "unprotected\n",
      "<unprotected.a.01: PosScore=0.0 NegScore=0.375>\n",
      "good\n",
      "<good.a.01: PosScore=0.75 NegScore=0.0>\n",
      "inadequate\n",
      "<inadequate.a.01: PosScore=0.0 NegScore=0.5>\n",
      "ignorant\n",
      "<ignorant.s.01: PosScore=0.0 NegScore=0.5>\n",
      "nameless\n",
      "<nameless.s.01: PosScore=0.0 NegScore=0.0>\n",
      "rife\n",
      "<prevailing.s.01: PosScore=0.0 NegScore=0.0>\n",
      "civilized\n",
      "<civilized.a.01: PosScore=0.0 NegScore=0.0>\n",
      "free\n",
      "<free.a.01: PosScore=0.375 NegScore=0.0>\n",
      "possible\n",
      "<possible.a.01: PosScore=0.5 NegScore=0.0>\n",
      "fourteen\n",
      "<fourteen.s.01: PosScore=0.0 NegScore=0.0>\n",
      "last\n",
      "<last.s.01: PosScore=0.0 NegScore=0.25>\n",
      "other\n",
      "<other.a.01: PosScore=0.0 NegScore=0.625>\n",
      "seventy\n",
      "<seventy.s.01: PosScore=0.0 NegScore=0.0>\n",
      "many\n",
      "<many.a.01: PosScore=0.0 NegScore=0.0>\n",
      "penniless\n",
      "<hard_up.s.01: PosScore=0.0 NegScore=0.75>\n",
      "common\n",
      "<common.a.01: PosScore=0.0 NegScore=0.0>\n",
      "free-soup\n",
      "unemployed\n",
      "<unemployed.a.01: PosScore=0.0 NegScore=0.625>\n",
      "dismal\n",
      "<blue.s.08: PosScore=0.0 NegScore=0.625>\n",
      "political\n",
      "<political.a.01: PosScore=0.0 NegScore=0.0>\n",
      "large\n",
      "<large.a.01: PosScore=0.25 NegScore=0.125>\n",
      "little\n",
      "<small.a.01: PosScore=0.0 NegScore=0.375>\n",
      "other\n",
      "<other.a.01: PosScore=0.0 NegScore=0.625>\n",
      "famous\n",
      "<celebrated.s.01: PosScore=0.375 NegScore=0.0>\n",
      "eloquent\n",
      "<eloquent.s.01: PosScore=0.375 NegScore=0.125>\n",
      "ten\n",
      "<ten.s.01: PosScore=0.0 NegScore=0.0>\n",
      "willing\n",
      "<willing.a.01: PosScore=0.5 NegScore=0.0>\n",
      "awful\n",
      "<atrocious.s.02: PosScore=0.0 NegScore=0.875>\n",
      "industrial\n",
      "<industrial.a.01: PosScore=0.0 NegScore=0.0>\n",
      "strong\n",
      "<strong.a.01: PosScore=0.5 NegScore=0.0>\n",
      "little\n",
      "<small.a.01: PosScore=0.0 NegScore=0.375>\n",
      "good\n",
      "<good.a.01: PosScore=0.75 NegScore=0.0>\n",
      "weekly\n",
      "<weekly.s.01: PosScore=0.0 NegScore=0.0>\n",
      "monthly\n",
      "<monthly.s.01: PosScore=0.0 NegScore=0.0>\n",
      "cooperative\n",
      "<concerted.s.01: PosScore=0.0 NegScore=0.0>\n",
      "last\n",
      "<last.s.01: PosScore=0.0 NegScore=0.25>\n",
      "few\n",
      "<few.a.01: PosScore=0.0 NegScore=0.0>\n",
      "disorderly\n",
      "<disorderly.a.01: PosScore=0.25 NegScore=0.375>\n",
      "innumerable\n",
      "<countless.s.01: PosScore=0.0 NegScore=0.0>\n",
      "small\n",
      "<small.a.01: PosScore=0.0 NegScore=0.375>\n",
      "other\n",
      "<other.a.01: PosScore=0.0 NegScore=0.625>\n",
      "best-known\n",
      "<best-known.s.01: PosScore=0.0 NegScore=0.375>\n",
      "real\n",
      "<real.a.01: PosScore=0.0 NegScore=0.0>\n",
      "own\n",
      "<own.s.01: PosScore=0.0 NegScore=0.0>\n",
      "new\n",
      "<new.a.01: PosScore=0.375 NegScore=0.0>\n",
      "wonderful\n",
      "<fantastic.s.02: PosScore=0.75 NegScore=0.0>\n",
      "harvest-time\n",
      "next\n",
      "<following.s.02: PosScore=0.0 NegScore=0.0>\n",
      "last\n",
      "<last.s.01: PosScore=0.0 NegScore=0.25>\n",
      "enormous\n",
      "<enormous.s.01: PosScore=0.0 NegScore=0.0>\n",
      "apt\n",
      "<apt.s.01: PosScore=0.375 NegScore=0.0>\n",
      "enough\n",
      "<adequate.s.02: PosScore=0.125 NegScore=0.0>\n",
      "cheap\n",
      "<cheap.a.01: PosScore=0.0 NegScore=0.25>\n",
      "hundred\n",
      "<hundred.s.01: PosScore=0.0 NegScore=0.0>\n",
      "fifty\n",
      "<fifty.s.01: PosScore=0.0 NegScore=0.0>\n",
      "little\n",
      "<small.a.01: PosScore=0.0 NegScore=0.375>\n",
      "first\n",
      "<first.a.01: PosScore=0.0 NegScore=0.0>\n",
      "hundred\n",
      "<hundred.s.01: PosScore=0.0 NegScore=0.0>\n",
      "twenty-five\n",
      "<twenty-five.s.01: PosScore=0.0 NegScore=0.0>\n",
      "incredible\n",
      "<incredible.a.01: PosScore=0.0 NegScore=0.0>\n",
      "new\n",
      "<new.a.01: PosScore=0.375 NegScore=0.0>\n",
      "municipal-ownership\n",
      "municipal\n",
      "<municipal.a.01: PosScore=0.0 NegScore=0.0>\n",
      "irresistible\n",
      "<irresistible.a.01: PosScore=0.0 NegScore=0.625>\n",
      "overwhelming\n",
      "<overpowering.s.01: PosScore=0.25 NegScore=0.25>\n",
      "outraged\n",
      "<indignant.s.01: PosScore=0.0 NegScore=0.75>\n"
     ]
    }
   ],
   "source": [
    "# For a sentence that contains, for example, a particular named entity (e.g. location, person, organization) the following code establishes the polarity of adjectives ('JJ) or adverbs ('RB') in the sentence. \n",
    "lemmatizer = WordNetLemmatizer()\n",
    "adj = [] # opens up an empty list to collect all the adjectives \n",
    "for i in sentences: # for each sentence in a list of sentences\n",
    "    if 'Chicago' in i: #if the sentence contains a particular named entity\n",
    "        for word, tag in nltk.pos_tag(nltk.word_tokenize(i)): #tokenize the sentence and assign part of speech for each word\n",
    "            if tag==\"JJ\": #check if the word is an adjective or adverb \"RB\" or superlative \"JJS\", or comparative \"JJR\"\n",
    "                try:\n",
    "                    word_lemma = lemmatizer.lemmatize(word) # lemmatize the word\n",
    "                    print (word_lemma)\n",
    "                    adj.append(str(word)) #add it to the adj list\n",
    "                    synset=list(swn.senti_synsets(word_lemma, \"a\"))[0] #get the most likely synset for that adjective, superlative, comparative or adverb and its sentiment scoring\n",
    "                    print (synset)\n",
    "                except:\n",
    "                    pass"
   ]
  },
  {
   "cell_type": "code",
   "execution_count": 10,
   "metadata": {},
   "outputs": [
    {
     "data": {
      "text/plain": [
       "['much',\n",
       " 'far-off',\n",
       " 'rear',\n",
       " 'hungry',\n",
       " 'hard',\n",
       " 'green',\n",
       " 'snow-clad',\n",
       " 'flesh',\n",
       " 'important',\n",
       " 'second',\n",
       " 'rich',\n",
       " 'big',\n",
       " 'black',\n",
       " 'unable',\n",
       " 'perplexed',\n",
       " 'good',\n",
       " 'informal',\n",
       " 'cursory',\n",
       " 'southern',\n",
       " 'great',\n",
       " 'open',\n",
       " 'wide',\n",
       " 'diseased',\n",
       " 'sixty-three',\n",
       " 'diseased',\n",
       " 'great',\n",
       " 'European',\n",
       " 'little',\n",
       " 'same',\n",
       " 'long',\n",
       " 'old',\n",
       " 'self-made',\n",
       " 'early',\n",
       " 'whole',\n",
       " 'strong',\n",
       " 'thin',\n",
       " 'much',\n",
       " 'young',\n",
       " 'great',\n",
       " 'other',\n",
       " 'quiet',\n",
       " 'innocent',\n",
       " 'little',\n",
       " 'great',\n",
       " 'tremendous',\n",
       " 'other',\n",
       " 'big',\n",
       " 'such',\n",
       " 'such',\n",
       " 'high-class',\n",
       " 'criminal',\n",
       " 'notorious',\n",
       " 'gray',\n",
       " 'prize',\n",
       " 'holdup',\n",
       " 'whole',\n",
       " 'fake',\n",
       " 'confidential',\n",
       " 'direct',\n",
       " 'bad',\n",
       " 'big',\n",
       " 'political',\n",
       " 'latter',\n",
       " 'general',\n",
       " 'next',\n",
       " 'several',\n",
       " 'left',\n",
       " 'unprotected',\n",
       " 'good',\n",
       " 'inadequate',\n",
       " 'ignorant',\n",
       " 'nameless',\n",
       " 'rife',\n",
       " 'civilized',\n",
       " 'free',\n",
       " 'possible',\n",
       " 'fourteen',\n",
       " 'last',\n",
       " 'other',\n",
       " 'seventy',\n",
       " 'many',\n",
       " 'penniless',\n",
       " 'common',\n",
       " 'free-soup',\n",
       " 'unemployed',\n",
       " 'dismal',\n",
       " 'political',\n",
       " 'large',\n",
       " 'little',\n",
       " 'other',\n",
       " 'famous',\n",
       " 'eloquent',\n",
       " 'ten',\n",
       " 'willing',\n",
       " 'awful',\n",
       " 'industrial',\n",
       " 'strong',\n",
       " 'little',\n",
       " 'good',\n",
       " 'weekly',\n",
       " 'monthly',\n",
       " 'cooperative',\n",
       " 'last',\n",
       " 'few',\n",
       " 'disorderly',\n",
       " 'innumerable',\n",
       " 'small',\n",
       " 'other',\n",
       " 'best-known',\n",
       " 'real',\n",
       " 'own',\n",
       " 'new',\n",
       " 'wonderful',\n",
       " 'harvest-time',\n",
       " 'next',\n",
       " 'last',\n",
       " 'enormous',\n",
       " 'apt',\n",
       " 'enough',\n",
       " 'cheap',\n",
       " 'hundred',\n",
       " 'fifty',\n",
       " 'little',\n",
       " 'first',\n",
       " 'hundred',\n",
       " 'twenty-five',\n",
       " 'incredible',\n",
       " 'new',\n",
       " 'municipal-ownership',\n",
       " 'municipal',\n",
       " 'irresistible',\n",
       " 'overwhelming',\n",
       " 'outraged']"
      ]
     },
     "execution_count": 10,
     "metadata": {},
     "output_type": "execute_result"
    }
   ],
   "source": [
    "adj"
   ]
  },
  {
   "cell_type": "markdown",
   "metadata": {},
   "source": [
    "#### Extracting most common adjectives or adverbs that are found in the vicinity of a particular named entity"
   ]
  },
  {
   "cell_type": "code",
   "execution_count": 11,
   "metadata": {},
   "outputs": [
    {
     "data": {
      "text/plain": [
       "[('little', 5),\n",
       " ('other', 5),\n",
       " ('great', 4),\n",
       " ('good', 3),\n",
       " ('big', 3),\n",
       " ('last', 3),\n",
       " ('diseased', 2),\n",
       " ('new', 2),\n",
       " ('strong', 2),\n",
       " ('whole', 2),\n",
       " ('political', 2),\n",
       " ('next', 2),\n",
       " ('much', 2),\n",
       " ('hundred', 2),\n",
       " ('such', 2),\n",
       " ('flesh', 1),\n",
       " ('cheap', 1),\n",
       " ('fifty', 1),\n",
       " ('outraged', 1),\n",
       " ('civilized', 1),\n",
       " ('own', 1),\n",
       " ('cooperative', 1),\n",
       " ('weekly', 1),\n",
       " ('informal', 1),\n",
       " ('young', 1),\n",
       " ('willing', 1),\n",
       " ('black', 1),\n",
       " ('rich', 1),\n",
       " ('criminal', 1),\n",
       " ('high-class', 1),\n",
       " ('real', 1),\n",
       " ('municipal', 1),\n",
       " ('confidential', 1),\n",
       " ('penniless', 1),\n",
       " ('unemployed', 1),\n",
       " ('possible', 1),\n",
       " ('early', 1),\n",
       " ('famous', 1),\n",
       " ('awful', 1),\n",
       " ('rear', 1),\n",
       " ('gray', 1),\n",
       " ('twenty-five', 1),\n",
       " ('prize', 1),\n",
       " ('large', 1),\n",
       " ('bad', 1),\n",
       " ('common', 1),\n",
       " ('small', 1),\n",
       " ('notorious', 1),\n",
       " ('old', 1),\n",
       " ('ten', 1),\n",
       " ('hard', 1),\n",
       " ('direct', 1),\n",
       " ('holdup', 1),\n",
       " ('second', 1),\n",
       " ('irresistible', 1),\n",
       " ('enough', 1),\n",
       " ('unable', 1),\n",
       " ('European', 1),\n",
       " ('free', 1),\n",
       " ('fourteen', 1),\n",
       " ('seventy', 1),\n",
       " ('disorderly', 1),\n",
       " ('many', 1),\n",
       " ('quiet', 1),\n",
       " ('monthly', 1),\n",
       " ('best-known', 1),\n",
       " ('far-off', 1),\n",
       " ('nameless', 1),\n",
       " ('first', 1),\n",
       " ('sixty-three', 1),\n",
       " ('industrial', 1),\n",
       " ('snow-clad', 1),\n",
       " ('apt', 1),\n",
       " ('unprotected', 1),\n",
       " ('fake', 1),\n",
       " ('harvest-time', 1),\n",
       " ('open', 1),\n",
       " ('tremendous', 1),\n",
       " ('free-soup', 1),\n",
       " ('long', 1),\n",
       " ('few', 1),\n",
       " ('perplexed', 1),\n",
       " ('innocent', 1),\n",
       " ('enormous', 1),\n",
       " ('ignorant', 1),\n",
       " ('overwhelming', 1),\n",
       " ('wide', 1),\n",
       " ('thin', 1),\n",
       " ('inadequate', 1),\n",
       " ('general', 1),\n",
       " ('wonderful', 1),\n",
       " ('cursory', 1),\n",
       " ('self-made', 1),\n",
       " ('latter', 1),\n",
       " ('eloquent', 1),\n",
       " ('innumerable', 1),\n",
       " ('same', 1),\n",
       " ('several', 1),\n",
       " ('southern', 1),\n",
       " ('municipal-ownership', 1),\n",
       " ('important', 1),\n",
       " ('incredible', 1),\n",
       " ('hungry', 1),\n",
       " ('rife', 1),\n",
       " ('green', 1),\n",
       " ('dismal', 1),\n",
       " ('left', 1)]"
      ]
     },
     "execution_count": 11,
     "metadata": {},
     "output_type": "execute_result"
    }
   ],
   "source": [
    "adj_di = collections.Counter(adj) #counting all the extracted adjectives and putting them in a dictionary structure\n",
    "adj_di.most_common()"
   ]
  },
  {
   "cell_type": "markdown",
   "metadata": {},
   "source": [
    "#### WordNet"
   ]
  },
  {
   "cell_type": "code",
   "execution_count": 12,
   "metadata": {},
   "outputs": [
    {
     "data": {
      "text/plain": [
       "[Synset('chicago.n.01'), Synset('michigan.n.03')]"
      ]
     },
     "execution_count": 12,
     "metadata": {},
     "output_type": "execute_result"
    }
   ],
   "source": [
    "wn.synsets('chicago')"
   ]
  },
  {
   "cell_type": "code",
   "execution_count": 13,
   "metadata": {},
   "outputs": [
    {
     "name": "stdout",
     "output_type": "stream",
     "text": [
      "largest city in Illinois; a bustling Great Lakes port that extends 26 miles along the southwestern shoreline of Lake Michigan\n"
     ]
    }
   ],
   "source": [
    "print(wn.synset('chicago.n.01').definition())"
   ]
  },
  {
   "cell_type": "code",
   "execution_count": 14,
   "metadata": {
    "collapsed": true
   },
   "outputs": [],
   "source": [
    "chicago = wn.synset('chicago.n.01')"
   ]
  },
  {
   "cell_type": "code",
   "execution_count": 15,
   "metadata": {},
   "outputs": [
    {
     "data": {
      "text/plain": [
       "[]"
      ]
     },
     "execution_count": 15,
     "metadata": {},
     "output_type": "execute_result"
    }
   ],
   "source": [
    "chicago.hypernyms()"
   ]
  },
  {
   "cell_type": "code",
   "execution_count": null,
   "metadata": {
    "collapsed": true
   },
   "outputs": [],
   "source": []
  }
 ],
 "metadata": {
  "anaconda-cloud": {},
  "kernelspec": {
   "display_name": "Python 2",
   "language": "python",
   "name": "python2"
  },
  "language_info": {
   "codemirror_mode": {
    "name": "ipython",
    "version": 2
   },
   "file_extension": ".py",
   "mimetype": "text/x-python",
   "name": "python",
   "nbconvert_exporter": "python",
   "pygments_lexer": "ipython2",
   "version": "2.7.12"
  }
 },
 "nbformat": 4,
 "nbformat_minor": 1
}
